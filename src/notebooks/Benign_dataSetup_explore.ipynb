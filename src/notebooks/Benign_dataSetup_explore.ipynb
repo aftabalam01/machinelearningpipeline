{
 "cells": [
  {
   "cell_type": "code",
   "execution_count": 2,
   "metadata": {},
   "outputs": [],
   "source": [
    "import pandas as pd\n",
    "import matplotlib.pyplot as plt  \n",
    "# library to clean data \n",
    "import re  \n",
    "  \n",
    "# Natural Language Tool Kit \n",
    "import nltk  \n",
    "# enable flag to how all output\n",
    "from IPython.core.interactiveshell import InteractiveShell\n",
    "InteractiveShell.ast_node_interactivity = \"all\""
   ]
  },
  {
   "cell_type": "markdown",
   "metadata": {},
   "source": [
    "# Overview\n",
    "Here, our aim is to build a dataset that can be used to create a machine learning model to detect whether a domain is DGA or benign. In this exercise, we will only be focusing on domain( suffix, subdomain and tLDs are not included in final data set). \n",
    "This notebook explains process that we have followed to generate DGA dataset and various sources that we used to get Benign dataset.\n",
    "\n",
    "## Benign Dataset  \n",
    "Benign data set is downloaded from below sources  \n",
    "\n",
    "### 7.8mn unique data domain data is build using below data source\n",
    "* [Alex to 1 million(of 5/10/2020)](http://s3.amazonaws.com/alexa-static/top-1m.csv.zip)\n",
    "* [Cisco Umbrella Top 1 million](http://s3-us-west-1.amazonaws.com/umbrella-static/top-1m.csv.zip)\n",
    "* [The Majestic one million](http://downloads.majestic.com/majestic_million.csv)  \n",
    "* [DomCop Top 10M](https://www.domcop.com/files/top/top10milliondomains.csv.zip)  \n",
    "\n",
    "\n",
    "\n",
    "While creating dataset, we have using tldextract library to extract domain from URLs or fully qualified names. Since data is collected from many sources, duplicate data is removed.\n"
   ]
  },
  {
   "cell_type": "code",
   "execution_count": 5,
   "metadata": {},
   "outputs": [
    {
     "data": {
      "text/html": [
       "<div>\n",
       "<style scoped>\n",
       "    .dataframe tbody tr th:only-of-type {\n",
       "        vertical-align: middle;\n",
       "    }\n",
       "\n",
       "    .dataframe tbody tr th {\n",
       "        vertical-align: top;\n",
       "    }\n",
       "\n",
       "    .dataframe thead th {\n",
       "        text-align: right;\n",
       "    }\n",
       "</style>\n",
       "<table border=\"1\" class=\"dataframe\">\n",
       "  <thead>\n",
       "    <tr style=\"text-align: right;\">\n",
       "      <th></th>\n",
       "      <th>GlobalRank</th>\n",
       "      <th>TldRank</th>\n",
       "      <th>Domain</th>\n",
       "      <th>TLD</th>\n",
       "      <th>RefSubNets</th>\n",
       "      <th>RefIPs</th>\n",
       "      <th>IDN_Domain</th>\n",
       "      <th>IDN_TLD</th>\n",
       "      <th>PrevGlobalRank</th>\n",
       "      <th>PrevTldRank</th>\n",
       "      <th>PrevRefSubNets</th>\n",
       "      <th>PrevRefIPs</th>\n",
       "    </tr>\n",
       "  </thead>\n",
       "  <tbody>\n",
       "    <tr>\n",
       "      <td>0</td>\n",
       "      <td>1</td>\n",
       "      <td>1</td>\n",
       "      <td>facebook.com</td>\n",
       "      <td>com</td>\n",
       "      <td>479814</td>\n",
       "      <td>2769877</td>\n",
       "      <td>facebook.com</td>\n",
       "      <td>com</td>\n",
       "      <td>1</td>\n",
       "      <td>1</td>\n",
       "      <td>478233</td>\n",
       "      <td>2761833</td>\n",
       "    </tr>\n",
       "    <tr>\n",
       "      <td>1</td>\n",
       "      <td>2</td>\n",
       "      <td>2</td>\n",
       "      <td>google.com</td>\n",
       "      <td>com</td>\n",
       "      <td>477558</td>\n",
       "      <td>2577827</td>\n",
       "      <td>google.com</td>\n",
       "      <td>com</td>\n",
       "      <td>2</td>\n",
       "      <td>2</td>\n",
       "      <td>475663</td>\n",
       "      <td>2566207</td>\n",
       "    </tr>\n",
       "    <tr>\n",
       "      <td>2</td>\n",
       "      <td>3</td>\n",
       "      <td>3</td>\n",
       "      <td>youtube.com</td>\n",
       "      <td>com</td>\n",
       "      <td>434599</td>\n",
       "      <td>2238686</td>\n",
       "      <td>youtube.com</td>\n",
       "      <td>com</td>\n",
       "      <td>3</td>\n",
       "      <td>3</td>\n",
       "      <td>432976</td>\n",
       "      <td>2230599</td>\n",
       "    </tr>\n",
       "    <tr>\n",
       "      <td>3</td>\n",
       "      <td>4</td>\n",
       "      <td>4</td>\n",
       "      <td>twitter.com</td>\n",
       "      <td>com</td>\n",
       "      <td>429238</td>\n",
       "      <td>2248255</td>\n",
       "      <td>twitter.com</td>\n",
       "      <td>com</td>\n",
       "      <td>4</td>\n",
       "      <td>4</td>\n",
       "      <td>427729</td>\n",
       "      <td>2241529</td>\n",
       "    </tr>\n",
       "    <tr>\n",
       "      <td>4</td>\n",
       "      <td>5</td>\n",
       "      <td>5</td>\n",
       "      <td>instagram.com</td>\n",
       "      <td>com</td>\n",
       "      <td>331472</td>\n",
       "      <td>1548095</td>\n",
       "      <td>instagram.com</td>\n",
       "      <td>com</td>\n",
       "      <td>5</td>\n",
       "      <td>5</td>\n",
       "      <td>330180</td>\n",
       "      <td>1542691</td>\n",
       "    </tr>\n",
       "  </tbody>\n",
       "</table>\n",
       "</div>"
      ],
      "text/plain": [
       "   GlobalRank  TldRank         Domain  TLD  RefSubNets   RefIPs  \\\n",
       "0           1        1   facebook.com  com      479814  2769877   \n",
       "1           2        2     google.com  com      477558  2577827   \n",
       "2           3        3    youtube.com  com      434599  2238686   \n",
       "3           4        4    twitter.com  com      429238  2248255   \n",
       "4           5        5  instagram.com  com      331472  1548095   \n",
       "\n",
       "      IDN_Domain IDN_TLD  PrevGlobalRank  PrevTldRank  PrevRefSubNets  \\\n",
       "0   facebook.com     com               1            1          478233   \n",
       "1     google.com     com               2            2          475663   \n",
       "2    youtube.com     com               3            3          432976   \n",
       "3    twitter.com     com               4            4          427729   \n",
       "4  instagram.com     com               5            5          330180   \n",
       "\n",
       "   PrevRefIPs  \n",
       "0     2761833  \n",
       "1     2566207  \n",
       "2     2230599  \n",
       "3     2241529  \n",
       "4     1542691  "
      ]
     },
     "execution_count": 5,
     "metadata": {},
     "output_type": "execute_result"
    }
   ],
   "source": [
    "majestic_data = pd.read_csv(\"majestic_million.csv.zip\")\n",
    "majestic_data.head()"
   ]
  },
  {
   "cell_type": "code",
   "execution_count": 6,
   "metadata": {},
   "outputs": [
    {
     "data": {
      "text/html": [
       "<div>\n",
       "<style scoped>\n",
       "    .dataframe tbody tr th:only-of-type {\n",
       "        vertical-align: middle;\n",
       "    }\n",
       "\n",
       "    .dataframe tbody tr th {\n",
       "        vertical-align: top;\n",
       "    }\n",
       "\n",
       "    .dataframe thead th {\n",
       "        text-align: right;\n",
       "    }\n",
       "</style>\n",
       "<table border=\"1\" class=\"dataframe\">\n",
       "  <thead>\n",
       "    <tr style=\"text-align: right;\">\n",
       "      <th></th>\n",
       "      <th>Rank</th>\n",
       "      <th>Domain</th>\n",
       "      <th>Open Page Rank</th>\n",
       "    </tr>\n",
       "  </thead>\n",
       "  <tbody>\n",
       "    <tr>\n",
       "      <td>0</td>\n",
       "      <td>1</td>\n",
       "      <td>fonts.googleapis.com</td>\n",
       "      <td>10.0</td>\n",
       "    </tr>\n",
       "    <tr>\n",
       "      <td>1</td>\n",
       "      <td>2</td>\n",
       "      <td>facebook.com</td>\n",
       "      <td>10.0</td>\n",
       "    </tr>\n",
       "    <tr>\n",
       "      <td>2</td>\n",
       "      <td>3</td>\n",
       "      <td>twitter.com</td>\n",
       "      <td>10.0</td>\n",
       "    </tr>\n",
       "    <tr>\n",
       "      <td>3</td>\n",
       "      <td>4</td>\n",
       "      <td>youtube.com</td>\n",
       "      <td>10.0</td>\n",
       "    </tr>\n",
       "    <tr>\n",
       "      <td>4</td>\n",
       "      <td>5</td>\n",
       "      <td>google.com</td>\n",
       "      <td>10.0</td>\n",
       "    </tr>\n",
       "  </tbody>\n",
       "</table>\n",
       "</div>"
      ],
      "text/plain": [
       "   Rank                Domain  Open Page Rank\n",
       "0     1  fonts.googleapis.com            10.0\n",
       "1     2          facebook.com            10.0\n",
       "2     3           twitter.com            10.0\n",
       "3     4           youtube.com            10.0\n",
       "4     5            google.com            10.0"
      ]
     },
     "execution_count": 6,
     "metadata": {},
     "output_type": "execute_result"
    }
   ],
   "source": [
    "df_10mn = pd.read_csv(\"top10milliondomains.csv.zip\")\n",
    "df_10mn.head()                      "
   ]
  },
  {
   "cell_type": "code",
   "execution_count": null,
   "metadata": {},
   "outputs": [],
   "source": []
  },
  {
   "cell_type": "code",
   "execution_count": 7,
   "metadata": {},
   "outputs": [
    {
     "data": {
      "text/html": [
       "<div>\n",
       "<style scoped>\n",
       "    .dataframe tbody tr th:only-of-type {\n",
       "        vertical-align: middle;\n",
       "    }\n",
       "\n",
       "    .dataframe tbody tr th {\n",
       "        vertical-align: top;\n",
       "    }\n",
       "\n",
       "    .dataframe thead th {\n",
       "        text-align: right;\n",
       "    }\n",
       "</style>\n",
       "<table border=\"1\" class=\"dataframe\">\n",
       "  <thead>\n",
       "    <tr style=\"text-align: right;\">\n",
       "      <th></th>\n",
       "      <th>0</th>\n",
       "      <th>1</th>\n",
       "    </tr>\n",
       "  </thead>\n",
       "  <tbody>\n",
       "    <tr>\n",
       "      <td>0</td>\n",
       "      <td>1</td>\n",
       "      <td>google.com</td>\n",
       "    </tr>\n",
       "    <tr>\n",
       "      <td>1</td>\n",
       "      <td>2</td>\n",
       "      <td>youtube.com</td>\n",
       "    </tr>\n",
       "    <tr>\n",
       "      <td>2</td>\n",
       "      <td>3</td>\n",
       "      <td>tmall.com</td>\n",
       "    </tr>\n",
       "    <tr>\n",
       "      <td>3</td>\n",
       "      <td>4</td>\n",
       "      <td>baidu.com</td>\n",
       "    </tr>\n",
       "    <tr>\n",
       "      <td>4</td>\n",
       "      <td>5</td>\n",
       "      <td>qq.com</td>\n",
       "    </tr>\n",
       "  </tbody>\n",
       "</table>\n",
       "</div>"
      ],
      "text/plain": [
       "   0            1\n",
       "0  1   google.com\n",
       "1  2  youtube.com\n",
       "2  3    tmall.com\n",
       "3  4    baidu.com\n",
       "4  5       qq.com"
      ]
     },
     "execution_count": 7,
     "metadata": {},
     "output_type": "execute_result"
    }
   ],
   "source": [
    "df_1mn = pd.read_csv(\"top-1m.csv.zip\",header=None)\n",
    "df_1mn.head()  "
   ]
  },
  {
   "cell_type": "code",
   "execution_count": 8,
   "metadata": {},
   "outputs": [],
   "source": [
    "df_1mn.columns=['x','Domain']"
   ]
  },
  {
   "cell_type": "code",
   "execution_count": 9,
   "metadata": {},
   "outputs": [
    {
     "data": {
      "text/html": [
       "<div>\n",
       "<style scoped>\n",
       "    .dataframe tbody tr th:only-of-type {\n",
       "        vertical-align: middle;\n",
       "    }\n",
       "\n",
       "    .dataframe tbody tr th {\n",
       "        vertical-align: top;\n",
       "    }\n",
       "\n",
       "    .dataframe thead th {\n",
       "        text-align: right;\n",
       "    }\n",
       "</style>\n",
       "<table border=\"1\" class=\"dataframe\">\n",
       "  <thead>\n",
       "    <tr style=\"text-align: right;\">\n",
       "      <th></th>\n",
       "      <th>0</th>\n",
       "      <th>1</th>\n",
       "    </tr>\n",
       "  </thead>\n",
       "  <tbody>\n",
       "    <tr>\n",
       "      <td>0</td>\n",
       "      <td>1</td>\n",
       "      <td>netflix.com</td>\n",
       "    </tr>\n",
       "    <tr>\n",
       "      <td>1</td>\n",
       "      <td>2</td>\n",
       "      <td>api-global.netflix.com</td>\n",
       "    </tr>\n",
       "    <tr>\n",
       "      <td>2</td>\n",
       "      <td>3</td>\n",
       "      <td>google.com</td>\n",
       "    </tr>\n",
       "    <tr>\n",
       "      <td>3</td>\n",
       "      <td>4</td>\n",
       "      <td>prod.netflix.com</td>\n",
       "    </tr>\n",
       "    <tr>\n",
       "      <td>4</td>\n",
       "      <td>5</td>\n",
       "      <td>push.prod.netflix.com</td>\n",
       "    </tr>\n",
       "  </tbody>\n",
       "</table>\n",
       "</div>"
      ],
      "text/plain": [
       "   0                       1\n",
       "0  1             netflix.com\n",
       "1  2  api-global.netflix.com\n",
       "2  3              google.com\n",
       "3  4        prod.netflix.com\n",
       "4  5   push.prod.netflix.com"
      ]
     },
     "execution_count": 9,
     "metadata": {},
     "output_type": "execute_result"
    }
   ],
   "source": [
    "df_1mn1 = pd.read_csv(\"top-1m1.csv.zip\",header=None)\n",
    "df_1mn1.head() "
   ]
  },
  {
   "cell_type": "code",
   "execution_count": 10,
   "metadata": {},
   "outputs": [],
   "source": [
    "df_1mn1.columns=['x','Domain']"
   ]
  },
  {
   "cell_type": "code",
   "execution_count": 11,
   "metadata": {},
   "outputs": [],
   "source": [
    "df_benign = pd.concat([majestic_data[['Domain']],df_1mn1[['Domain']],df_1mn[['Domain']],df_10mn[['Domain']]])"
   ]
  },
  {
   "cell_type": "code",
   "execution_count": 12,
   "metadata": {},
   "outputs": [],
   "source": [
    "df_benign.drop_duplicates(keep='first',inplace=True)"
   ]
  },
  {
   "cell_type": "code",
   "execution_count": 13,
   "metadata": {},
   "outputs": [
    {
     "data": {
      "text/plain": [
       "(11584643, 1)"
      ]
     },
     "execution_count": 13,
     "metadata": {},
     "output_type": "execute_result"
    }
   ],
   "source": [
    "df_benign.shape"
   ]
  },
  {
   "cell_type": "code",
   "execution_count": 14,
   "metadata": {},
   "outputs": [],
   "source": [
    "df_benign.to_csv(\"elevenmn_benign.csv.gz\",compression=\"gzip\")"
   ]
  },
  {
   "cell_type": "code",
   "execution_count": 29,
   "metadata": {},
   "outputs": [],
   "source": [
    "# 7 mn from rapid 7\n",
    "df_benign = pd.read_csv(\"elevenmn_benign.csv.gz\")"
   ]
  },
  {
   "cell_type": "code",
   "execution_count": 21,
   "metadata": {},
   "outputs": [],
   "source": [
    "\n",
    "import tldextract\n",
    "\n",
    "def domain_extract(row):\n",
    "    ext = tldextract.extract(row.Domain)\n",
    "    return ext.domain\n",
    "\n",
    "# df_final.loc[:,'domain'] = df_final.apply(lambda row: domain_extract(row) , axis=1)\n",
    "# df_final.loc[:,'family'] ='benign'\n",
    "# df_final.loc[:,'label'] ='good'"
   ]
  },
  {
   "cell_type": "code",
   "execution_count": 30,
   "metadata": {},
   "outputs": [
    {
     "name": "stdout",
     "output_type": "stream",
     "text": [
      "Wall time: 6min 39s\n"
     ]
    }
   ],
   "source": [
    "%%time\n",
    "df_benign.loc[:,'domain'] = df_benign.apply(lambda row: domain_extract(row) , axis=1)\n",
    "df_benign.loc[:,'family'] ='benign'\n",
    "df_benign.loc[:,'label'] ='good'\n"
   ]
  },
  {
   "cell_type": "code",
   "execution_count": 31,
   "metadata": {},
   "outputs": [
    {
     "data": {
      "text/plain": [
       "(7362481, 5)"
      ]
     },
     "execution_count": 31,
     "metadata": {},
     "output_type": "execute_result"
    }
   ],
   "source": [
    "df_benign.drop_duplicates(subset='domain',keep='first',inplace=True)\n",
    "df_benign.shape"
   ]
  },
  {
   "cell_type": "code",
   "execution_count": 32,
   "metadata": {
    "scrolled": true
   },
   "outputs": [],
   "source": [
    "df_benign[['domain','family','label']].to_csv(\"alexa_cisco_onenpage_7mn_begin_dataset.csv.gz\",compression='gzip',index=False)"
   ]
  },
  {
   "cell_type": "code",
   "execution_count": 17,
   "metadata": {},
   "outputs": [],
   "source": [
    "df_final = pd.read_csv(\"alexa_cisco_onenpage_7mn_begin_dataset.csv.gz\")"
   ]
  },
  {
   "cell_type": "code",
   "execution_count": 34,
   "metadata": {},
   "outputs": [
    {
     "data": {
      "text/html": [
       "<div>\n",
       "<style scoped>\n",
       "    .dataframe tbody tr th:only-of-type {\n",
       "        vertical-align: middle;\n",
       "    }\n",
       "\n",
       "    .dataframe tbody tr th {\n",
       "        vertical-align: top;\n",
       "    }\n",
       "\n",
       "    .dataframe thead th {\n",
       "        text-align: right;\n",
       "    }\n",
       "</style>\n",
       "<table border=\"1\" class=\"dataframe\">\n",
       "  <thead>\n",
       "    <tr style=\"text-align: right;\">\n",
       "      <th></th>\n",
       "      <th>Unnamed: 0</th>\n",
       "      <th>Domain</th>\n",
       "      <th>domain</th>\n",
       "      <th>family</th>\n",
       "      <th>label</th>\n",
       "    </tr>\n",
       "  </thead>\n",
       "  <tbody>\n",
       "    <tr>\n",
       "      <td>0</td>\n",
       "      <td>0</td>\n",
       "      <td>facebook.com</td>\n",
       "      <td>facebook</td>\n",
       "      <td>benign</td>\n",
       "      <td>good</td>\n",
       "    </tr>\n",
       "    <tr>\n",
       "      <td>1</td>\n",
       "      <td>1</td>\n",
       "      <td>google.com</td>\n",
       "      <td>google</td>\n",
       "      <td>benign</td>\n",
       "      <td>good</td>\n",
       "    </tr>\n",
       "    <tr>\n",
       "      <td>2</td>\n",
       "      <td>2</td>\n",
       "      <td>youtube.com</td>\n",
       "      <td>youtube</td>\n",
       "      <td>benign</td>\n",
       "      <td>good</td>\n",
       "    </tr>\n",
       "    <tr>\n",
       "      <td>3</td>\n",
       "      <td>3</td>\n",
       "      <td>twitter.com</td>\n",
       "      <td>twitter</td>\n",
       "      <td>benign</td>\n",
       "      <td>good</td>\n",
       "    </tr>\n",
       "    <tr>\n",
       "      <td>4</td>\n",
       "      <td>4</td>\n",
       "      <td>instagram.com</td>\n",
       "      <td>instagram</td>\n",
       "      <td>benign</td>\n",
       "      <td>good</td>\n",
       "    </tr>\n",
       "  </tbody>\n",
       "</table>\n",
       "</div>"
      ],
      "text/plain": [
       "   Unnamed: 0         Domain     domain  family label\n",
       "0           0   facebook.com   facebook  benign  good\n",
       "1           1     google.com     google  benign  good\n",
       "2           2    youtube.com    youtube  benign  good\n",
       "3           3    twitter.com    twitter  benign  good\n",
       "4           4  instagram.com  instagram  benign  good"
      ]
     },
     "execution_count": 34,
     "metadata": {},
     "output_type": "execute_result"
    },
    {
     "data": {
      "text/plain": [
       "(7362481, 5)"
      ]
     },
     "execution_count": 34,
     "metadata": {},
     "output_type": "execute_result"
    }
   ],
   "source": [
    "df_benign.head()\n",
    "df_benign.shape"
   ]
  },
  {
   "cell_type": "code",
   "execution_count": 12,
   "metadata": {},
   "outputs": [
    {
     "data": {
      "text/plain": [
       "(100139103, 1)"
      ]
     },
     "execution_count": 12,
     "metadata": {},
     "output_type": "execute_result"
    }
   ],
   "source": [
    "df_r = df.drop_duplicates(keep='first')\n",
    "df_r.shape"
   ]
  },
  {
   "cell_type": "code",
   "execution_count": 97,
   "metadata": {},
   "outputs": [],
   "source": [
    "df_r.columns=['domain']"
   ]
  },
  {
   "cell_type": "code",
   "execution_count": 98,
   "metadata": {},
   "outputs": [],
   "source": [
    "df_all = pd.concat([df_r,df_final[['domain']]])"
   ]
  },
  {
   "cell_type": "code",
   "execution_count": 99,
   "metadata": {},
   "outputs": [],
   "source": [
    "df_all.to_csv(\"All_Benign_107mn.csv.gz\",compression='gzip',index=False)"
   ]
  },
  {
   "cell_type": "code",
   "execution_count": 24,
   "metadata": {},
   "outputs": [],
   "source": [
    "df_rapid7 = df.sample(frac=.02,random_state=12313)"
   ]
  },
  {
   "cell_type": "code",
   "execution_count": 25,
   "metadata": {},
   "outputs": [],
   "source": [
    "df_rapid7.loc[:,'family'] = 'benign'\n",
    "df_rapid7.loc[:,'label'] = 'good'"
   ]
  },
  {
   "cell_type": "code",
   "execution_count": 26,
   "metadata": {},
   "outputs": [],
   "source": [
    "df_rapid7.columns = ['domain','family','label']"
   ]
  },
  {
   "cell_type": "code",
   "execution_count": 27,
   "metadata": {},
   "outputs": [],
   "source": [
    "df_rapid7.reset_index(inplace=True)"
   ]
  },
  {
   "cell_type": "code",
   "execution_count": 30,
   "metadata": {},
   "outputs": [
    {
     "data": {
      "text/html": [
       "<div>\n",
       "<style scoped>\n",
       "    .dataframe tbody tr th:only-of-type {\n",
       "        vertical-align: middle;\n",
       "    }\n",
       "\n",
       "    .dataframe tbody tr th {\n",
       "        vertical-align: top;\n",
       "    }\n",
       "\n",
       "    .dataframe thead th {\n",
       "        text-align: right;\n",
       "    }\n",
       "</style>\n",
       "<table border=\"1\" class=\"dataframe\">\n",
       "  <thead>\n",
       "    <tr style=\"text-align: right;\">\n",
       "      <th></th>\n",
       "      <th>domain</th>\n",
       "      <th>family</th>\n",
       "      <th>label</th>\n",
       "    </tr>\n",
       "  </thead>\n",
       "  <tbody>\n",
       "    <tr>\n",
       "      <td>0</td>\n",
       "      <td>facebook</td>\n",
       "      <td>benign</td>\n",
       "      <td>good</td>\n",
       "    </tr>\n",
       "    <tr>\n",
       "      <td>1</td>\n",
       "      <td>google</td>\n",
       "      <td>benign</td>\n",
       "      <td>good</td>\n",
       "    </tr>\n",
       "    <tr>\n",
       "      <td>2</td>\n",
       "      <td>youtube</td>\n",
       "      <td>benign</td>\n",
       "      <td>good</td>\n",
       "    </tr>\n",
       "    <tr>\n",
       "      <td>3</td>\n",
       "      <td>twitter</td>\n",
       "      <td>benign</td>\n",
       "      <td>good</td>\n",
       "    </tr>\n",
       "    <tr>\n",
       "      <td>4</td>\n",
       "      <td>instagram</td>\n",
       "      <td>benign</td>\n",
       "      <td>good</td>\n",
       "    </tr>\n",
       "  </tbody>\n",
       "</table>\n",
       "</div>"
      ],
      "text/plain": [
       "      domain  family label\n",
       "0   facebook  benign  good\n",
       "1     google  benign  good\n",
       "2    youtube  benign  good\n",
       "3    twitter  benign  good\n",
       "4  instagram  benign  good"
      ]
     },
     "execution_count": 30,
     "metadata": {},
     "output_type": "execute_result"
    },
    {
     "data": {
      "text/html": [
       "<div>\n",
       "<style scoped>\n",
       "    .dataframe tbody tr th:only-of-type {\n",
       "        vertical-align: middle;\n",
       "    }\n",
       "\n",
       "    .dataframe tbody tr th {\n",
       "        vertical-align: top;\n",
       "    }\n",
       "\n",
       "    .dataframe thead th {\n",
       "        text-align: right;\n",
       "    }\n",
       "</style>\n",
       "<table border=\"1\" class=\"dataframe\">\n",
       "  <thead>\n",
       "    <tr style=\"text-align: right;\">\n",
       "      <th></th>\n",
       "      <th>domain</th>\n",
       "      <th>family</th>\n",
       "      <th>label</th>\n",
       "    </tr>\n",
       "  </thead>\n",
       "  <tbody>\n",
       "    <tr>\n",
       "      <td>0</td>\n",
       "      <td>maramiss</td>\n",
       "      <td>benign</td>\n",
       "      <td>good</td>\n",
       "    </tr>\n",
       "    <tr>\n",
       "      <td>1</td>\n",
       "      <td>clydeantronerpottery</td>\n",
       "      <td>benign</td>\n",
       "      <td>good</td>\n",
       "    </tr>\n",
       "    <tr>\n",
       "      <td>2</td>\n",
       "      <td>dianabryandesigns</td>\n",
       "      <td>benign</td>\n",
       "      <td>good</td>\n",
       "    </tr>\n",
       "    <tr>\n",
       "      <td>3</td>\n",
       "      <td>owtandabout</td>\n",
       "      <td>benign</td>\n",
       "      <td>good</td>\n",
       "    </tr>\n",
       "    <tr>\n",
       "      <td>4</td>\n",
       "      <td>snilv</td>\n",
       "      <td>benign</td>\n",
       "      <td>good</td>\n",
       "    </tr>\n",
       "  </tbody>\n",
       "</table>\n",
       "</div>"
      ],
      "text/plain": [
       "                 domain  family label\n",
       "0              maramiss  benign  good\n",
       "1  clydeantronerpottery  benign  good\n",
       "2     dianabryandesigns  benign  good\n",
       "3           owtandabout  benign  good\n",
       "4                 snilv  benign  good"
      ]
     },
     "execution_count": 30,
     "metadata": {},
     "output_type": "execute_result"
    }
   ],
   "source": [
    "df_final.head()\n",
    "df_rapid7.drop(columns='index',inplace=True)\n",
    "df_rapid7.head()"
   ]
  },
  {
   "cell_type": "code",
   "execution_count": 31,
   "metadata": {},
   "outputs": [
    {
     "data": {
      "text/plain": [
       "(9776783, 3)"
      ]
     },
     "execution_count": 31,
     "metadata": {},
     "output_type": "execute_result"
    }
   ],
   "source": [
    "df_benign_final = pd.concat([df_final,df_rapid7])\n",
    "df_benign_final.drop_duplicates(subset='domain',keep='first',inplace=True)\n",
    "df_benign_final.shape"
   ]
  },
  {
   "cell_type": "code",
   "execution_count": 32,
   "metadata": {},
   "outputs": [],
   "source": [
    "df_benign_final[['domain','family','label']].to_csv(\"alexa_cisco_onenpage_webpage_rapid7_9mn_begin_dataset.csv.gz\",compression='gzip',index=False)"
   ]
  },
  {
   "cell_type": "code",
   "execution_count": 33,
   "metadata": {},
   "outputs": [
    {
     "data": {
      "text/html": [
       "<div>\n",
       "<style scoped>\n",
       "    .dataframe tbody tr th:only-of-type {\n",
       "        vertical-align: middle;\n",
       "    }\n",
       "\n",
       "    .dataframe tbody tr th {\n",
       "        vertical-align: top;\n",
       "    }\n",
       "\n",
       "    .dataframe thead th {\n",
       "        text-align: right;\n",
       "    }\n",
       "</style>\n",
       "<table border=\"1\" class=\"dataframe\">\n",
       "  <thead>\n",
       "    <tr style=\"text-align: right;\">\n",
       "      <th></th>\n",
       "      <th>domain</th>\n",
       "      <th>family</th>\n",
       "      <th>label</th>\n",
       "    </tr>\n",
       "  </thead>\n",
       "  <tbody>\n",
       "    <tr>\n",
       "      <td>0</td>\n",
       "      <td>facebook</td>\n",
       "      <td>benign</td>\n",
       "      <td>good</td>\n",
       "    </tr>\n",
       "    <tr>\n",
       "      <td>1</td>\n",
       "      <td>google</td>\n",
       "      <td>benign</td>\n",
       "      <td>good</td>\n",
       "    </tr>\n",
       "    <tr>\n",
       "      <td>2</td>\n",
       "      <td>youtube</td>\n",
       "      <td>benign</td>\n",
       "      <td>good</td>\n",
       "    </tr>\n",
       "    <tr>\n",
       "      <td>3</td>\n",
       "      <td>twitter</td>\n",
       "      <td>benign</td>\n",
       "      <td>good</td>\n",
       "    </tr>\n",
       "    <tr>\n",
       "      <td>4</td>\n",
       "      <td>instagram</td>\n",
       "      <td>benign</td>\n",
       "      <td>good</td>\n",
       "    </tr>\n",
       "  </tbody>\n",
       "</table>\n",
       "</div>"
      ],
      "text/plain": [
       "      domain  family label\n",
       "0   facebook  benign  good\n",
       "1     google  benign  good\n",
       "2    youtube  benign  good\n",
       "3    twitter  benign  good\n",
       "4  instagram  benign  good"
      ]
     },
     "execution_count": 33,
     "metadata": {},
     "output_type": "execute_result"
    }
   ],
   "source": [
    "# number unqiue char and lenght of domain\n",
    "df_benign_final.head()"
   ]
  },
  {
   "cell_type": "code",
   "execution_count": 34,
   "metadata": {},
   "outputs": [],
   "source": [
    "df_benign_final = df_benign_final[~df_benign_final.domain.isna()]"
   ]
  },
  {
   "cell_type": "code",
   "execution_count": 35,
   "metadata": {},
   "outputs": [
    {
     "data": {
      "text/plain": [
       "(9776782, 3)"
      ]
     },
     "execution_count": 35,
     "metadata": {},
     "output_type": "execute_result"
    }
   ],
   "source": [
    "df_benign_final.shape"
   ]
  },
  {
   "cell_type": "code",
   "execution_count": 36,
   "metadata": {},
   "outputs": [],
   "source": [
    "# Add length and number of unique char\n",
    "df_benign_final.loc[:,'uniquechar'] = df_benign_final.apply(lambda row: len(set(row.domain)) , axis=1)\n",
    "df_benign_final.loc[:,'length'] = df_benign_final.apply(lambda row: len(row.domain) , axis=1)"
   ]
  },
  {
   "cell_type": "code",
   "execution_count": 39,
   "metadata": {},
   "outputs": [
    {
     "data": {
      "text/html": [
       "<div>\n",
       "<style scoped>\n",
       "    .dataframe tbody tr th:only-of-type {\n",
       "        vertical-align: middle;\n",
       "    }\n",
       "\n",
       "    .dataframe tbody tr th {\n",
       "        vertical-align: top;\n",
       "    }\n",
       "\n",
       "    .dataframe thead th {\n",
       "        text-align: right;\n",
       "    }\n",
       "</style>\n",
       "<table border=\"1\" class=\"dataframe\">\n",
       "  <thead>\n",
       "    <tr style=\"text-align: right;\">\n",
       "      <th></th>\n",
       "      <th>domain</th>\n",
       "      <th>family</th>\n",
       "      <th>label</th>\n",
       "      <th>uniquechar</th>\n",
       "      <th>length</th>\n",
       "    </tr>\n",
       "  </thead>\n",
       "  <tbody>\n",
       "    <tr>\n",
       "      <td>0</td>\n",
       "      <td>facebook</td>\n",
       "      <td>benign</td>\n",
       "      <td>good</td>\n",
       "      <td>7</td>\n",
       "      <td>8</td>\n",
       "    </tr>\n",
       "    <tr>\n",
       "      <td>1</td>\n",
       "      <td>google</td>\n",
       "      <td>benign</td>\n",
       "      <td>good</td>\n",
       "      <td>4</td>\n",
       "      <td>6</td>\n",
       "    </tr>\n",
       "    <tr>\n",
       "      <td>2</td>\n",
       "      <td>youtube</td>\n",
       "      <td>benign</td>\n",
       "      <td>good</td>\n",
       "      <td>6</td>\n",
       "      <td>7</td>\n",
       "    </tr>\n",
       "    <tr>\n",
       "      <td>3</td>\n",
       "      <td>twitter</td>\n",
       "      <td>benign</td>\n",
       "      <td>good</td>\n",
       "      <td>5</td>\n",
       "      <td>7</td>\n",
       "    </tr>\n",
       "    <tr>\n",
       "      <td>4</td>\n",
       "      <td>instagram</td>\n",
       "      <td>benign</td>\n",
       "      <td>good</td>\n",
       "      <td>8</td>\n",
       "      <td>9</td>\n",
       "    </tr>\n",
       "  </tbody>\n",
       "</table>\n",
       "</div>"
      ],
      "text/plain": [
       "      domain  family label  uniquechar  length\n",
       "0   facebook  benign  good           7       8\n",
       "1     google  benign  good           4       6\n",
       "2    youtube  benign  good           6       7\n",
       "3    twitter  benign  good           5       7\n",
       "4  instagram  benign  good           8       9"
      ]
     },
     "execution_count": 39,
     "metadata": {},
     "output_type": "execute_result"
    }
   ],
   "source": [
    "df_benign_final.head()"
   ]
  },
  {
   "cell_type": "code",
   "execution_count": 40,
   "metadata": {},
   "outputs": [
    {
     "data": {
      "text/plain": [
       "(9776782, 5)"
      ]
     },
     "execution_count": 40,
     "metadata": {},
     "output_type": "execute_result"
    }
   ],
   "source": [
    "df_benign_final.shape"
   ]
  },
  {
   "cell_type": "code",
   "execution_count": 45,
   "metadata": {},
   "outputs": [
    {
     "data": {
      "text/plain": [
       "array([[<matplotlib.axes._subplots.AxesSubplot object at 0x00000264E719CE88>,\n",
       "        <matplotlib.axes._subplots.AxesSubplot object at 0x00000264E5A47188>]],\n",
       "      dtype=object)"
      ]
     },
     "execution_count": 45,
     "metadata": {},
     "output_type": "execute_result"
    },
    {
     "data": {
      "image/png": "[encoded data removed]",
      "text/plain": [
       "<Figure size 1440x720 with 2 Axes>"
      ]
     },
     "metadata": {
      "needs_background": "light"
     },
     "output_type": "display_data"
    }
   ],
   "source": [
    "plt.rcParams[\"figure.figsize\"] = (20,10)\n",
    "df_benign_final[['uniquechar','length']].hist()"
   ]
  },
  {
   "cell_type": "code",
   "execution_count": null,
   "metadata": {},
   "outputs": [],
   "source": [
    "df_all[['uniquechar','length']].hist()"
   ]
  },
  {
   "cell_type": "code",
   "execution_count": 46,
   "metadata": {},
   "outputs": [
    {
     "data": {
      "text/plain": [
       "<matplotlib.axes._subplots.AxesSubplot at 0x264e7182088>"
      ]
     },
     "execution_count": 46,
     "metadata": {},
     "output_type": "execute_result"
    },
    {
     "data": {
      "image/png": "[encoded data removed]",
      "text/plain": [
       "<Figure size 1440x720 with 1 Axes>"
      ]
     },
     "metadata": {
      "needs_background": "light"
     },
     "output_type": "display_data"
    }
   ],
   "source": [
    "df_benign_final[['uniquechar','length']].plot.kde()"
   ]
  },
  {
   "cell_type": "code",
   "execution_count": null,
   "metadata": {},
   "outputs": [],
   "source": []
  },
  {
   "cell_type": "code",
   "execution_count": 2,
   "metadata": {},
   "outputs": [],
   "source": [
    "import numpy as np\n",
    "import matplotlib.pyplot as plt\n",
    "from nltk import word_tokenize, ngrams,bigrams\n",
    "VALID_CHARS = 'abcdefghijklmnopqrstuvwxyz0123456789-_.'\n",
    "TABLE = None\n",
    "#benign_bigrams = nltk.bigrams(df_benign_final.domain)\n",
    "#fdist = nltk.FreqDist(benign_bigrams)\n",
    "\n",
    "\n",
    "def generate_data_matrix(data):\n",
    "    x_label = [c for c in VALID_CHARS ]\n",
    "    y_label = [c for c in VALID_CHARS ]\n",
    "    x = [VALID_CHARS.index(c) for c in VALID_CHARS ]\n",
    "    y = [VALID_CHARS.index(c) for c in VALID_CHARS ]\n",
    "    row = [0 for _ in VALID_CHARS ]\n",
    "    MATRIX = np.array([row for _ in VALID_CHARS])\n",
    "    \n",
    "    # create ngram of var\n",
    "    for word in data :\n",
    "        try:\n",
    "            if word and word is not ' ':\n",
    "                freqdist = dict(nltk.FreqDist(bigrams(word)))\n",
    "                for key in freqdist.keys():\n",
    "                    value = freqdist[key]\n",
    "                    #print(key)\n",
    "                    xx = VALID_CHARS.index(key[0])\n",
    "                    yy = VALID_CHARS.index(key[1])\n",
    "                    # update matrix value\n",
    "                    MATRIX[xx,yy] +=value\n",
    "        except: \n",
    "            pass\n",
    "           \n",
    "    return MATRIX,x_label,y_label\n",
    "\n",
    "# generate heatmap\n",
    "def generate_heatmap(mat,xlabel,ylabel,datatype):\n",
    "    fig, ax = plt.subplots(figsize=(20,20))\n",
    "    im = ax.imshow(mat,cmap=plt.get_cmap('summer'))\n",
    "    ax.set_xticks(np.arange(len(xlabel)))\n",
    "    ax.set_yticks(np.arange(len(ylabel)))\n",
    "    ax.set_xticklabels(xlabel)\n",
    "    ax.set_yticklabels(ylabel)\n",
    "    ax.set_title(f'{datatype} Heatmap of Bi-Grams')\n",
    "# create bar\n",
    "    cbar = fig.colorbar(im,ax=ax)\n",
    "    plt.show()\n",
    "    "
   ]
  },
  {
   "cell_type": "code",
   "execution_count": 60,
   "metadata": {},
   "outputs": [],
   "source": [
    "# create zero matrixs\n",
    "MAT = generate_heatmap('a','s')"
   ]
  },
  {
   "cell_type": "code",
   "execution_count": 74,
   "metadata": {},
   "outputs": [
    {
     "data": {
      "text/plain": [
       "0"
      ]
     },
     "execution_count": 74,
     "metadata": {},
     "output_type": "execute_result"
    }
   ],
   "source": [
    "MAT[1,0]\n",
    "#list(bigrams('faadadacdcrvrvrbasasaaa'))\n",
    "data = ['faadadacdcrvrvrbasasaaa','facebook','googgle']"
   ]
  },
  {
   "cell_type": "code",
   "execution_count": 103,
   "metadata": {},
   "outputs": [
    {
     "data": {
      "text/html": [
       "<div>\n",
       "<style scoped>\n",
       "    .dataframe tbody tr th:only-of-type {\n",
       "        vertical-align: middle;\n",
       "    }\n",
       "\n",
       "    .dataframe tbody tr th {\n",
       "        vertical-align: top;\n",
       "    }\n",
       "\n",
       "    .dataframe thead th {\n",
       "        text-align: right;\n",
       "    }\n",
       "</style>\n",
       "<table border=\"1\" class=\"dataframe\">\n",
       "  <thead>\n",
       "    <tr style=\"text-align: right;\">\n",
       "      <th></th>\n",
       "      <th>domain</th>\n",
       "    </tr>\n",
       "  </thead>\n",
       "  <tbody>\n",
       "    <tr>\n",
       "      <td>0</td>\n",
       "      <td>marketing-farmaceutico</td>\n",
       "    </tr>\n",
       "    <tr>\n",
       "      <td>1</td>\n",
       "      <td>redetzki</td>\n",
       "    </tr>\n",
       "    <tr>\n",
       "      <td>2</td>\n",
       "      <td>eleboardsports</td>\n",
       "    </tr>\n",
       "    <tr>\n",
       "      <td>3</td>\n",
       "      <td>superecki</td>\n",
       "    </tr>\n",
       "    <tr>\n",
       "      <td>4</td>\n",
       "      <td>bustalimeco</td>\n",
       "    </tr>\n",
       "  </tbody>\n",
       "</table>\n",
       "</div>"
      ],
      "text/plain": [
       "                   domain\n",
       "0  marketing-farmaceutico\n",
       "1                redetzki\n",
       "2          eleboardsports\n",
       "3               superecki\n",
       "4             bustalimeco"
      ]
     },
     "execution_count": 103,
     "metadata": {},
     "output_type": "execute_result"
    }
   ],
   "source": [
    "df_all.head()"
   ]
  },
  {
   "cell_type": "code",
   "execution_count": 105,
   "metadata": {},
   "outputs": [
    {
     "data": {
      "text/html": [
       "<div>\n",
       "<style scoped>\n",
       "    .dataframe tbody tr th:only-of-type {\n",
       "        vertical-align: middle;\n",
       "    }\n",
       "\n",
       "    .dataframe tbody tr th {\n",
       "        vertical-align: top;\n",
       "    }\n",
       "\n",
       "    .dataframe thead th {\n",
       "        text-align: right;\n",
       "    }\n",
       "</style>\n",
       "<table border=\"1\" class=\"dataframe\">\n",
       "  <thead>\n",
       "    <tr style=\"text-align: right;\">\n",
       "      <th></th>\n",
       "      <th>domain</th>\n",
       "    </tr>\n",
       "  </thead>\n",
       "  <tbody>\n",
       "    <tr>\n",
       "      <td>74530495</td>\n",
       "      <td>NaN</td>\n",
       "    </tr>\n",
       "    <tr>\n",
       "      <td>122</td>\n",
       "      <td>NaN</td>\n",
       "    </tr>\n",
       "    <tr>\n",
       "      <td>149790</td>\n",
       "      <td>NaN</td>\n",
       "    </tr>\n",
       "    <tr>\n",
       "      <td>398286</td>\n",
       "      <td>NaN</td>\n",
       "    </tr>\n",
       "  </tbody>\n",
       "</table>\n",
       "</div>"
      ],
      "text/plain": [
       "         domain\n",
       "74530495    NaN\n",
       "122         NaN\n",
       "149790      NaN\n",
       "398286      NaN"
      ]
     },
     "execution_count": 105,
     "metadata": {},
     "output_type": "execute_result"
    }
   ],
   "source": [
    "df_all[df_all.domain.isna()]"
   ]
  },
  {
   "cell_type": "code",
   "execution_count": 106,
   "metadata": {},
   "outputs": [],
   "source": [
    "df_all.drop(index=74530495,inplace=True)\n",
    "df_all.drop(index=122,inplace=True)\n",
    "df_all.drop(index=149790,inplace=True)\n",
    "df_all.drop(index=398286,inplace=True)"
   ]
  },
  {
   "cell_type": "code",
   "execution_count": 107,
   "metadata": {},
   "outputs": [
    {
     "data": {
      "image/png": "[encoded data removed]",
      "text/plain": [
       "<Figure size 1440x1440 with 2 Axes>"
      ]
     },
     "metadata": {
      "needs_background": "light"
     },
     "output_type": "display_data"
    }
   ],
   "source": [
    "mat,xlabel,ylabel = generate_data_matrix(df_all.domain)\n",
    "generate_heatmap(mat,xlabel,ylabel,'Benign 107 mn')"
   ]
  },
  {
   "cell_type": "code",
   "execution_count": 87,
   "metadata": {},
   "outputs": [],
   "source": [
    "mat,xlabel,ylabel = generate_data_matrix(df_benign_final.domain)"
   ]
  },
  {
   "cell_type": "code",
   "execution_count": 88,
   "metadata": {},
   "outputs": [
    {
     "data": {
      "image/png": "[encoded data removed]",
      "text/plain": [
       "<Figure size 1440x1440 with 2 Axes>"
      ]
     },
     "metadata": {
      "needs_background": "light"
     },
     "output_type": "display_data"
    }
   ],
   "source": [
    "generate_heatmap(mat,xlabel,ylabel,'Benign 9 mn')"
   ]
  },
  {
   "cell_type": "markdown",
   "metadata": {},
   "source": [
    "## DGA Dataset\n",
    "9.7 millions DGA data is generate using 45 different algorithms. Please see here for more details on how data in generated. [github](<link to github readme page of dataset).\n",
    "Docker image of generation program is avaliable at [dockerhub](docker hub link)\n",
    "\n",
    "several output files are generate using above program. All files are used for creating feature data as below.\n"
   ]
  },
  {
   "cell_type": "code",
   "execution_count": 40,
   "metadata": {},
   "outputs": [],
   "source": [
    "df_dga_1 = pd.read_csv(\"onemillon_dga_1.csv.gz\")\n",
    "df_dga_2 = pd.read_csv(\"output_dga_2.csv.gz\")\n",
    "df_dga_3 = pd.read_csv(\"output_dga_3.csv.gz\")\n",
    "df_dga_4 = pd.read_csv(\"output_dga_4.csv.gz\")\n",
    "df_dga_5 = pd.read_csv(\"output_dga_5.csv.gz\")\n",
    "df_dga_6 = pd.read_csv(\"output_dga_6.csv.gz\")\n"
   ]
  },
  {
   "cell_type": "code",
   "execution_count": 41,
   "metadata": {},
   "outputs": [
    {
     "data": {
      "text/html": [
       "<div>\n",
       "<style scoped>\n",
       "    .dataframe tbody tr th:only-of-type {\n",
       "        vertical-align: middle;\n",
       "    }\n",
       "\n",
       "    .dataframe tbody tr th {\n",
       "        vertical-align: top;\n",
       "    }\n",
       "\n",
       "    .dataframe thead th {\n",
       "        text-align: right;\n",
       "    }\n",
       "</style>\n",
       "<table border=\"1\" class=\"dataframe\">\n",
       "  <thead>\n",
       "    <tr style=\"text-align: right;\">\n",
       "      <th></th>\n",
       "      <th>domainName</th>\n",
       "      <th>family</th>\n",
       "      <th>label</th>\n",
       "    </tr>\n",
       "  </thead>\n",
       "  <tbody>\n",
       "    <tr>\n",
       "      <td>0</td>\n",
       "      <td>kdeycqkshsoctvg8.net</td>\n",
       "      <td>chinad</td>\n",
       "      <td>bad</td>\n",
       "    </tr>\n",
       "    <tr>\n",
       "      <td>1</td>\n",
       "      <td>yt1ud1mdsiaffc8n.cn</td>\n",
       "      <td>chinad</td>\n",
       "      <td>bad</td>\n",
       "    </tr>\n",
       "    <tr>\n",
       "      <td>2</td>\n",
       "      <td>2cvy2esvfagmai9l.ru</td>\n",
       "      <td>chinad</td>\n",
       "      <td>bad</td>\n",
       "    </tr>\n",
       "    <tr>\n",
       "      <td>3</td>\n",
       "      <td>unobf48gc6sx6476.com</td>\n",
       "      <td>chinad</td>\n",
       "      <td>bad</td>\n",
       "    </tr>\n",
       "    <tr>\n",
       "      <td>4</td>\n",
       "      <td>a44z7he1iwnzs7o4.ru</td>\n",
       "      <td>chinad</td>\n",
       "      <td>bad</td>\n",
       "    </tr>\n",
       "  </tbody>\n",
       "</table>\n",
       "</div>"
      ],
      "text/plain": [
       "             domainName  family label\n",
       "0  kdeycqkshsoctvg8.net  chinad   bad\n",
       "1   yt1ud1mdsiaffc8n.cn  chinad   bad\n",
       "2   2cvy2esvfagmai9l.ru  chinad   bad\n",
       "3  unobf48gc6sx6476.com  chinad   bad\n",
       "4   a44z7he1iwnzs7o4.ru  chinad   bad"
      ]
     },
     "execution_count": 41,
     "metadata": {},
     "output_type": "execute_result"
    }
   ],
   "source": [
    "df_dga_1.head()\n",
    "df_dga_1.columns = ['Domain','family','label']\n",
    "df_dga_2.columns = ['Domain','family','label']\n",
    "df_dga_3.columns = ['Domain','family','label']\n",
    "df_dga_4.columns = ['Domain','family','label']\n",
    "df_dga_5.columns = ['Domain','family','label']\n",
    "df_dga_6.columns = ['Domain','family','label']\n",
    "df_dga = pd.concat([df_dga_1[['Domain','family','label']],\n",
    "                    df_dga_2[['Domain','family','label']],\n",
    "                    df_dga_3[['Domain','family','label']],\n",
    "                   df_dga_4[['Domain','family','label']],\n",
    "                   df_dga_5[['Domain','family','label']],\n",
    "                   df_dga_6[['Domain','family','label']],])"
   ]
  },
  {
   "cell_type": "code",
   "execution_count": 42,
   "metadata": {},
   "outputs": [
    {
     "data": {
      "text/plain": [
       "(21350295, 3)"
      ]
     },
     "execution_count": 42,
     "metadata": {},
     "output_type": "execute_result"
    }
   ],
   "source": [
    "df_dga.shape"
   ]
  },
  {
   "cell_type": "code",
   "execution_count": 43,
   "metadata": {},
   "outputs": [],
   "source": [
    "df_dga.drop_duplicates(subset='Domain',keep='first',inplace=True)"
   ]
  },
  {
   "cell_type": "code",
   "execution_count": 44,
   "metadata": {},
   "outputs": [
    {
     "data": {
      "text/plain": [
       "(12590985, 3)"
      ]
     },
     "execution_count": 44,
     "metadata": {},
     "output_type": "execute_result"
    }
   ],
   "source": [
    "df_dga.shape"
   ]
  },
  {
   "cell_type": "code",
   "execution_count": 46,
   "metadata": {},
   "outputs": [],
   "source": [
    "df_dga.drop(index=816505,inplace=True)"
   ]
  },
  {
   "cell_type": "code",
   "execution_count": 47,
   "metadata": {},
   "outputs": [],
   "source": [
    "df_dga.loc[:,'domain'] = df_dga.apply(lambda row: domain_extract(row) , axis=1)\n",
    "df_dga.loc[:,'uniquechar'] = df_dga.apply(lambda row: len(set(row.domain)) , axis=1)\n",
    "df_dga.loc[:,'length'] = df_dga.apply(lambda row: len(row.domain) , axis=1)"
   ]
  },
  {
   "cell_type": "code",
   "execution_count": 48,
   "metadata": {},
   "outputs": [
    {
     "data": {
      "text/plain": [
       "(10644128, 6)"
      ]
     },
     "execution_count": 48,
     "metadata": {},
     "output_type": "execute_result"
    }
   ],
   "source": [
    "df_dga.drop_duplicates(subset='domain',keep='first',inplace=True)\n",
    "df_dga.shape"
   ]
  },
  {
   "cell_type": "code",
   "execution_count": 49,
   "metadata": {},
   "outputs": [
    {
     "data": {
      "text/html": [
       "<div>\n",
       "<style scoped>\n",
       "    .dataframe tbody tr th:only-of-type {\n",
       "        vertical-align: middle;\n",
       "    }\n",
       "\n",
       "    .dataframe tbody tr th {\n",
       "        vertical-align: top;\n",
       "    }\n",
       "\n",
       "    .dataframe thead th {\n",
       "        text-align: right;\n",
       "    }\n",
       "</style>\n",
       "<table border=\"1\" class=\"dataframe\">\n",
       "  <thead>\n",
       "    <tr style=\"text-align: right;\">\n",
       "      <th></th>\n",
       "      <th>Domain</th>\n",
       "      <th>label</th>\n",
       "      <th>domain</th>\n",
       "      <th>uniquechar</th>\n",
       "      <th>length</th>\n",
       "    </tr>\n",
       "    <tr>\n",
       "      <th>family</th>\n",
       "      <th></th>\n",
       "      <th></th>\n",
       "      <th></th>\n",
       "      <th></th>\n",
       "      <th></th>\n",
       "    </tr>\n",
       "  </thead>\n",
       "  <tbody>\n",
       "    <tr>\n",
       "      <td>bamital</td>\n",
       "      <td>48790</td>\n",
       "      <td>48790</td>\n",
       "      <td>48790</td>\n",
       "      <td>48790</td>\n",
       "      <td>48790</td>\n",
       "    </tr>\n",
       "    <tr>\n",
       "      <td>banjori</td>\n",
       "      <td>61488</td>\n",
       "      <td>61488</td>\n",
       "      <td>61488</td>\n",
       "      <td>61488</td>\n",
       "      <td>61488</td>\n",
       "    </tr>\n",
       "    <tr>\n",
       "      <td>bobax</td>\n",
       "      <td>207999</td>\n",
       "      <td>207999</td>\n",
       "      <td>207999</td>\n",
       "      <td>207999</td>\n",
       "      <td>207999</td>\n",
       "    </tr>\n",
       "    <tr>\n",
       "      <td>chinad</td>\n",
       "      <td>203776</td>\n",
       "      <td>203776</td>\n",
       "      <td>203776</td>\n",
       "      <td>203776</td>\n",
       "      <td>203776</td>\n",
       "    </tr>\n",
       "    <tr>\n",
       "      <td>corebot</td>\n",
       "      <td>817754</td>\n",
       "      <td>817754</td>\n",
       "      <td>817754</td>\n",
       "      <td>817754</td>\n",
       "      <td>817754</td>\n",
       "    </tr>\n",
       "    <tr>\n",
       "      <td>dircypt</td>\n",
       "      <td>1328</td>\n",
       "      <td>1328</td>\n",
       "      <td>1328</td>\n",
       "      <td>1328</td>\n",
       "      <td>1328</td>\n",
       "    </tr>\n",
       "    <tr>\n",
       "      <td>dnscharger</td>\n",
       "      <td>207685</td>\n",
       "      <td>207685</td>\n",
       "      <td>207685</td>\n",
       "      <td>207685</td>\n",
       "      <td>207685</td>\n",
       "    </tr>\n",
       "    <tr>\n",
       "      <td>dyre</td>\n",
       "      <td>198413</td>\n",
       "      <td>198413</td>\n",
       "      <td>198413</td>\n",
       "      <td>198413</td>\n",
       "      <td>198413</td>\n",
       "    </tr>\n",
       "    <tr>\n",
       "      <td>enviserve</td>\n",
       "      <td>636</td>\n",
       "      <td>636</td>\n",
       "      <td>636</td>\n",
       "      <td>636</td>\n",
       "      <td>636</td>\n",
       "    </tr>\n",
       "    <tr>\n",
       "      <td>fobber</td>\n",
       "      <td>204058</td>\n",
       "      <td>204058</td>\n",
       "      <td>204058</td>\n",
       "      <td>204058</td>\n",
       "      <td>204058</td>\n",
       "    </tr>\n",
       "    <tr>\n",
       "      <td>gameoverzeus</td>\n",
       "      <td>9377</td>\n",
       "      <td>9377</td>\n",
       "      <td>9377</td>\n",
       "      <td>9377</td>\n",
       "      <td>9377</td>\n",
       "    </tr>\n",
       "    <tr>\n",
       "      <td>gozi</td>\n",
       "      <td>408492</td>\n",
       "      <td>408492</td>\n",
       "      <td>408492</td>\n",
       "      <td>408492</td>\n",
       "      <td>408492</td>\n",
       "    </tr>\n",
       "    <tr>\n",
       "      <td>kraken</td>\n",
       "      <td>12166</td>\n",
       "      <td>12166</td>\n",
       "      <td>12166</td>\n",
       "      <td>12166</td>\n",
       "      <td>12166</td>\n",
       "    </tr>\n",
       "    <tr>\n",
       "      <td>locy</td>\n",
       "      <td>428245</td>\n",
       "      <td>428245</td>\n",
       "      <td>428245</td>\n",
       "      <td>428245</td>\n",
       "      <td>428245</td>\n",
       "    </tr>\n",
       "    <tr>\n",
       "      <td>matsnu</td>\n",
       "      <td>199990</td>\n",
       "      <td>199990</td>\n",
       "      <td>199990</td>\n",
       "      <td>199990</td>\n",
       "      <td>199990</td>\n",
       "    </tr>\n",
       "    <tr>\n",
       "      <td>monero</td>\n",
       "      <td>42915</td>\n",
       "      <td>42915</td>\n",
       "      <td>42915</td>\n",
       "      <td>42915</td>\n",
       "      <td>42915</td>\n",
       "    </tr>\n",
       "    <tr>\n",
       "      <td>murofet</td>\n",
       "      <td>429252</td>\n",
       "      <td>429252</td>\n",
       "      <td>429252</td>\n",
       "      <td>429252</td>\n",
       "      <td>429252</td>\n",
       "    </tr>\n",
       "    <tr>\n",
       "      <td>mydoom</td>\n",
       "      <td>201967</td>\n",
       "      <td>201967</td>\n",
       "      <td>201967</td>\n",
       "      <td>201967</td>\n",
       "      <td>201967</td>\n",
       "    </tr>\n",
       "    <tr>\n",
       "      <td>necurs</td>\n",
       "      <td>203635</td>\n",
       "      <td>203635</td>\n",
       "      <td>203635</td>\n",
       "      <td>203635</td>\n",
       "      <td>203635</td>\n",
       "    </tr>\n",
       "    <tr>\n",
       "      <td>newgoz</td>\n",
       "      <td>423988</td>\n",
       "      <td>423988</td>\n",
       "      <td>423988</td>\n",
       "      <td>423988</td>\n",
       "      <td>423988</td>\n",
       "    </tr>\n",
       "    <tr>\n",
       "      <td>nymaim</td>\n",
       "      <td>876890</td>\n",
       "      <td>876890</td>\n",
       "      <td>876890</td>\n",
       "      <td>876890</td>\n",
       "      <td>876890</td>\n",
       "    </tr>\n",
       "    <tr>\n",
       "      <td>padcrypt</td>\n",
       "      <td>670481</td>\n",
       "      <td>670481</td>\n",
       "      <td>670481</td>\n",
       "      <td>670481</td>\n",
       "      <td>670481</td>\n",
       "    </tr>\n",
       "    <tr>\n",
       "      <td>pitou</td>\n",
       "      <td>69263</td>\n",
       "      <td>69263</td>\n",
       "      <td>69263</td>\n",
       "      <td>69263</td>\n",
       "      <td>69263</td>\n",
       "    </tr>\n",
       "    <tr>\n",
       "      <td>pizd</td>\n",
       "      <td>16384</td>\n",
       "      <td>16384</td>\n",
       "      <td>16384</td>\n",
       "      <td>16384</td>\n",
       "      <td>16384</td>\n",
       "    </tr>\n",
       "    <tr>\n",
       "      <td>proslikefan</td>\n",
       "      <td>311846</td>\n",
       "      <td>311846</td>\n",
       "      <td>311846</td>\n",
       "      <td>311846</td>\n",
       "      <td>311846</td>\n",
       "    </tr>\n",
       "    <tr>\n",
       "      <td>pushdo</td>\n",
       "      <td>91849</td>\n",
       "      <td>91849</td>\n",
       "      <td>91849</td>\n",
       "      <td>91849</td>\n",
       "      <td>91849</td>\n",
       "    </tr>\n",
       "    <tr>\n",
       "      <td>pykspa</td>\n",
       "      <td>483212</td>\n",
       "      <td>483212</td>\n",
       "      <td>483212</td>\n",
       "      <td>483212</td>\n",
       "      <td>483212</td>\n",
       "    </tr>\n",
       "    <tr>\n",
       "      <td>qadars</td>\n",
       "      <td>15600</td>\n",
       "      <td>15600</td>\n",
       "      <td>15600</td>\n",
       "      <td>15600</td>\n",
       "      <td>15600</td>\n",
       "    </tr>\n",
       "    <tr>\n",
       "      <td>qakbot</td>\n",
       "      <td>257129</td>\n",
       "      <td>257129</td>\n",
       "      <td>257129</td>\n",
       "      <td>257129</td>\n",
       "      <td>257129</td>\n",
       "    </tr>\n",
       "    <tr>\n",
       "      <td>qsnatch</td>\n",
       "      <td>231103</td>\n",
       "      <td>231103</td>\n",
       "      <td>231103</td>\n",
       "      <td>231103</td>\n",
       "      <td>231103</td>\n",
       "    </tr>\n",
       "    <tr>\n",
       "      <td>ramdo</td>\n",
       "      <td>207272</td>\n",
       "      <td>207272</td>\n",
       "      <td>207272</td>\n",
       "      <td>207272</td>\n",
       "      <td>207272</td>\n",
       "    </tr>\n",
       "    <tr>\n",
       "      <td>ramnit</td>\n",
       "      <td>111445</td>\n",
       "      <td>111445</td>\n",
       "      <td>111445</td>\n",
       "      <td>111445</td>\n",
       "      <td>111445</td>\n",
       "    </tr>\n",
       "    <tr>\n",
       "      <td>ranbyus</td>\n",
       "      <td>51480</td>\n",
       "      <td>51480</td>\n",
       "      <td>51480</td>\n",
       "      <td>51480</td>\n",
       "      <td>51480</td>\n",
       "    </tr>\n",
       "    <tr>\n",
       "      <td>reconyc</td>\n",
       "      <td>857504</td>\n",
       "      <td>857504</td>\n",
       "      <td>857504</td>\n",
       "      <td>857504</td>\n",
       "      <td>857504</td>\n",
       "    </tr>\n",
       "    <tr>\n",
       "      <td>rovnix</td>\n",
       "      <td>411183</td>\n",
       "      <td>411183</td>\n",
       "      <td>411183</td>\n",
       "      <td>411183</td>\n",
       "      <td>411183</td>\n",
       "    </tr>\n",
       "    <tr>\n",
       "      <td>shiotob</td>\n",
       "      <td>208305</td>\n",
       "      <td>208305</td>\n",
       "      <td>208305</td>\n",
       "      <td>208305</td>\n",
       "      <td>208305</td>\n",
       "    </tr>\n",
       "    <tr>\n",
       "      <td>simda</td>\n",
       "      <td>11550</td>\n",
       "      <td>11550</td>\n",
       "      <td>11550</td>\n",
       "      <td>11550</td>\n",
       "      <td>11550</td>\n",
       "    </tr>\n",
       "    <tr>\n",
       "      <td>sisron</td>\n",
       "      <td>5203</td>\n",
       "      <td>5203</td>\n",
       "      <td>5203</td>\n",
       "      <td>5203</td>\n",
       "      <td>5203</td>\n",
       "    </tr>\n",
       "    <tr>\n",
       "      <td>suppobox</td>\n",
       "      <td>63023</td>\n",
       "      <td>63023</td>\n",
       "      <td>63023</td>\n",
       "      <td>63023</td>\n",
       "      <td>63023</td>\n",
       "    </tr>\n",
       "    <tr>\n",
       "      <td>symmi</td>\n",
       "      <td>205615</td>\n",
       "      <td>205615</td>\n",
       "      <td>205615</td>\n",
       "      <td>205615</td>\n",
       "      <td>205615</td>\n",
       "    </tr>\n",
       "    <tr>\n",
       "      <td>tempedreve</td>\n",
       "      <td>1841</td>\n",
       "      <td>1841</td>\n",
       "      <td>1841</td>\n",
       "      <td>1841</td>\n",
       "      <td>1841</td>\n",
       "    </tr>\n",
       "    <tr>\n",
       "      <td>tinba</td>\n",
       "      <td>22004</td>\n",
       "      <td>22004</td>\n",
       "      <td>22004</td>\n",
       "      <td>22004</td>\n",
       "      <td>22004</td>\n",
       "    </tr>\n",
       "    <tr>\n",
       "      <td>tofsee</td>\n",
       "      <td>208363</td>\n",
       "      <td>208363</td>\n",
       "      <td>208363</td>\n",
       "      <td>208363</td>\n",
       "      <td>208363</td>\n",
       "    </tr>\n",
       "    <tr>\n",
       "      <td>torpig</td>\n",
       "      <td>5623</td>\n",
       "      <td>5623</td>\n",
       "      <td>5623</td>\n",
       "      <td>5623</td>\n",
       "      <td>5623</td>\n",
       "    </tr>\n",
       "    <tr>\n",
       "      <td>unjavascript</td>\n",
       "      <td>205726</td>\n",
       "      <td>205726</td>\n",
       "      <td>205726</td>\n",
       "      <td>205726</td>\n",
       "      <td>205726</td>\n",
       "    </tr>\n",
       "    <tr>\n",
       "      <td>unmalware</td>\n",
       "      <td>158</td>\n",
       "      <td>158</td>\n",
       "      <td>158</td>\n",
       "      <td>158</td>\n",
       "      <td>158</td>\n",
       "    </tr>\n",
       "    <tr>\n",
       "      <td>vawtrak</td>\n",
       "      <td>150817</td>\n",
       "      <td>150817</td>\n",
       "      <td>150817</td>\n",
       "      <td>150817</td>\n",
       "      <td>150817</td>\n",
       "    </tr>\n",
       "    <tr>\n",
       "      <td>vidro</td>\n",
       "      <td>8916</td>\n",
       "      <td>8916</td>\n",
       "      <td>8916</td>\n",
       "      <td>8916</td>\n",
       "      <td>8916</td>\n",
       "    </tr>\n",
       "    <tr>\n",
       "      <td>zloader</td>\n",
       "      <td>572389</td>\n",
       "      <td>572389</td>\n",
       "      <td>572389</td>\n",
       "      <td>572389</td>\n",
       "      <td>572389</td>\n",
       "    </tr>\n",
       "  </tbody>\n",
       "</table>\n",
       "</div>"
      ],
      "text/plain": [
       "              Domain   label  domain  uniquechar  length\n",
       "family                                                  \n",
       "bamital        48790   48790   48790       48790   48790\n",
       "banjori        61488   61488   61488       61488   61488\n",
       "bobax         207999  207999  207999      207999  207999\n",
       "chinad        203776  203776  203776      203776  203776\n",
       "corebot       817754  817754  817754      817754  817754\n",
       "dircypt         1328    1328    1328        1328    1328\n",
       "dnscharger    207685  207685  207685      207685  207685\n",
       "dyre          198413  198413  198413      198413  198413\n",
       "enviserve        636     636     636         636     636\n",
       "fobber        204058  204058  204058      204058  204058\n",
       "gameoverzeus    9377    9377    9377        9377    9377\n",
       "gozi          408492  408492  408492      408492  408492\n",
       "kraken         12166   12166   12166       12166   12166\n",
       "locy          428245  428245  428245      428245  428245\n",
       "matsnu        199990  199990  199990      199990  199990\n",
       "monero         42915   42915   42915       42915   42915\n",
       "murofet       429252  429252  429252      429252  429252\n",
       "mydoom        201967  201967  201967      201967  201967\n",
       "necurs        203635  203635  203635      203635  203635\n",
       "newgoz        423988  423988  423988      423988  423988\n",
       "nymaim        876890  876890  876890      876890  876890\n",
       "padcrypt      670481  670481  670481      670481  670481\n",
       "pitou          69263   69263   69263       69263   69263\n",
       "pizd           16384   16384   16384       16384   16384\n",
       "proslikefan   311846  311846  311846      311846  311846\n",
       "pushdo         91849   91849   91849       91849   91849\n",
       "pykspa        483212  483212  483212      483212  483212\n",
       "qadars         15600   15600   15600       15600   15600\n",
       "qakbot        257129  257129  257129      257129  257129\n",
       "qsnatch       231103  231103  231103      231103  231103\n",
       "ramdo         207272  207272  207272      207272  207272\n",
       "ramnit        111445  111445  111445      111445  111445\n",
       "ranbyus        51480   51480   51480       51480   51480\n",
       "reconyc       857504  857504  857504      857504  857504\n",
       "rovnix        411183  411183  411183      411183  411183\n",
       "shiotob       208305  208305  208305      208305  208305\n",
       "simda          11550   11550   11550       11550   11550\n",
       "sisron          5203    5203    5203        5203    5203\n",
       "suppobox       63023   63023   63023       63023   63023\n",
       "symmi         205615  205615  205615      205615  205615\n",
       "tempedreve      1841    1841    1841        1841    1841\n",
       "tinba          22004   22004   22004       22004   22004\n",
       "tofsee        208363  208363  208363      208363  208363\n",
       "torpig          5623    5623    5623        5623    5623\n",
       "unjavascript  205726  205726  205726      205726  205726\n",
       "unmalware        158     158     158         158     158\n",
       "vawtrak       150817  150817  150817      150817  150817\n",
       "vidro           8916    8916    8916        8916    8916\n",
       "zloader       572389  572389  572389      572389  572389"
      ]
     },
     "execution_count": 49,
     "metadata": {},
     "output_type": "execute_result"
    }
   ],
   "source": [
    "df_dga.groupby(['family']).count()"
   ]
  },
  {
   "cell_type": "code",
   "execution_count": 56,
   "metadata": {},
   "outputs": [],
   "source": [
    "VALID_CHARS = 'abcdefghijklmnopqrstuvwxyz0123456789-_.'\n",
    "LOOKUP_TABLE = None\n",
    "def pad(l, content, width):\n",
    "        l.extend([content] * (width - len(l)))\n",
    "        return l\n",
    "    \n",
    "def check_validchar(domain):\n",
    "    for c in domain.lower():\n",
    "        if c not in VALID_CHARS:\n",
    "            return False\n",
    "    return True\n"
   ]
  },
  {
   "cell_type": "code",
   "execution_count": 57,
   "metadata": {},
   "outputs": [],
   "source": [
    "df_dga.loc[:,'valid'] = df_dga.apply(lambda row : check_validchar(row.domain), axis=1 )"
   ]
  },
  {
   "cell_type": "code",
   "execution_count": 58,
   "metadata": {},
   "outputs": [
    {
     "data": {
      "text/plain": [
       "(10644128, 7)"
      ]
     },
     "execution_count": 58,
     "metadata": {},
     "output_type": "execute_result"
    },
    {
     "data": {
      "text/plain": [
       "(10461440, 7)"
      ]
     },
     "execution_count": 58,
     "metadata": {},
     "output_type": "execute_result"
    }
   ],
   "source": [
    "\n",
    "df_dga.shape\n",
    "df_dga = df_dga[df_dga.valid]\n",
    "df_dga.shape\n"
   ]
  },
  {
   "cell_type": "code",
   "execution_count": 59,
   "metadata": {},
   "outputs": [],
   "source": [
    "df_dga.sample(frac=.75).to_csv(\"sevenmillons_dga.csv.gz\",compression='gzip',index=False)"
   ]
  },
  {
   "cell_type": "markdown",
   "metadata": {},
   "source": [
    "### DGA data set analysis"
   ]
  },
  {
   "cell_type": "code",
   "execution_count": 3,
   "metadata": {},
   "outputs": [],
   "source": [
    "df_dga_final=pd.read_csv(\"sevenmillons_dga.csv.gz\")"
   ]
  },
  {
   "cell_type": "code",
   "execution_count": 109,
   "metadata": {},
   "outputs": [
    {
     "data": {
      "text/plain": [
       "(9717248, 6)"
      ]
     },
     "execution_count": 109,
     "metadata": {},
     "output_type": "execute_result"
    },
    {
     "data": {
      "text/html": [
       "<div>\n",
       "<style scoped>\n",
       "    .dataframe tbody tr th:only-of-type {\n",
       "        vertical-align: middle;\n",
       "    }\n",
       "\n",
       "    .dataframe tbody tr th {\n",
       "        vertical-align: top;\n",
       "    }\n",
       "\n",
       "    .dataframe thead th {\n",
       "        text-align: right;\n",
       "    }\n",
       "</style>\n",
       "<table border=\"1\" class=\"dataframe\">\n",
       "  <thead>\n",
       "    <tr style=\"text-align: right;\">\n",
       "      <th></th>\n",
       "      <th>Domain</th>\n",
       "      <th>family</th>\n",
       "      <th>label</th>\n",
       "      <th>domain</th>\n",
       "      <th>uniquechar</th>\n",
       "      <th>length</th>\n",
       "    </tr>\n",
       "  </thead>\n",
       "  <tbody>\n",
       "    <tr>\n",
       "      <td>0</td>\n",
       "      <td>1hodsu7i2uou8jef.cn</td>\n",
       "      <td>chinad</td>\n",
       "      <td>bad</td>\n",
       "      <td>1hodsu7i2uou8jef</td>\n",
       "      <td>13</td>\n",
       "      <td>16</td>\n",
       "    </tr>\n",
       "    <tr>\n",
       "      <td>1</td>\n",
       "      <td>7gqotxvpzsg0t7r4.info</td>\n",
       "      <td>chinad</td>\n",
       "      <td>bad</td>\n",
       "      <td>7gqotxvpzsg0t7r4</td>\n",
       "      <td>13</td>\n",
       "      <td>16</td>\n",
       "    </tr>\n",
       "    <tr>\n",
       "      <td>2</td>\n",
       "      <td>6jcpi4uxktum6nro.info</td>\n",
       "      <td>chinad</td>\n",
       "      <td>bad</td>\n",
       "      <td>6jcpi4uxktum6nro</td>\n",
       "      <td>14</td>\n",
       "      <td>16</td>\n",
       "    </tr>\n",
       "    <tr>\n",
       "      <td>3</td>\n",
       "      <td>4k2vlny8rmbbe9u8.info</td>\n",
       "      <td>chinad</td>\n",
       "      <td>bad</td>\n",
       "      <td>4k2vlny8rmbbe9u8</td>\n",
       "      <td>14</td>\n",
       "      <td>16</td>\n",
       "    </tr>\n",
       "    <tr>\n",
       "      <td>4</td>\n",
       "      <td>pgvhduc5tyciwh38.ru</td>\n",
       "      <td>chinad</td>\n",
       "      <td>bad</td>\n",
       "      <td>pgvhduc5tyciwh38</td>\n",
       "      <td>14</td>\n",
       "      <td>16</td>\n",
       "    </tr>\n",
       "  </tbody>\n",
       "</table>\n",
       "</div>"
      ],
      "text/plain": [
       "                  Domain  family label            domain  uniquechar  length\n",
       "0    1hodsu7i2uou8jef.cn  chinad   bad  1hodsu7i2uou8jef          13      16\n",
       "1  7gqotxvpzsg0t7r4.info  chinad   bad  7gqotxvpzsg0t7r4          13      16\n",
       "2  6jcpi4uxktum6nro.info  chinad   bad  6jcpi4uxktum6nro          14      16\n",
       "3  4k2vlny8rmbbe9u8.info  chinad   bad  4k2vlny8rmbbe9u8          14      16\n",
       "4    pgvhduc5tyciwh38.ru  chinad   bad  pgvhduc5tyciwh38          14      16"
      ]
     },
     "execution_count": 109,
     "metadata": {},
     "output_type": "execute_result"
    }
   ],
   "source": [
    "df_dga_final.shape\n",
    "df_dga_final.head()"
   ]
  },
  {
   "cell_type": "code",
   "execution_count": 12,
   "metadata": {},
   "outputs": [
    {
     "data": {
      "text/html": [
       "<div>\n",
       "<style scoped>\n",
       "    .dataframe tbody tr th:only-of-type {\n",
       "        vertical-align: middle;\n",
       "    }\n",
       "\n",
       "    .dataframe tbody tr th {\n",
       "        vertical-align: top;\n",
       "    }\n",
       "\n",
       "    .dataframe thead tr th {\n",
       "        text-align: left;\n",
       "    }\n",
       "\n",
       "    .dataframe thead tr:last-of-type th {\n",
       "        text-align: right;\n",
       "    }\n",
       "</style>\n",
       "<table border=\"1\" class=\"dataframe\">\n",
       "  <thead>\n",
       "    <tr>\n",
       "      <th></th>\n",
       "      <th colspan=\"2\" halign=\"left\">uniquechar</th>\n",
       "      <th colspan=\"2\" halign=\"left\">length</th>\n",
       "    </tr>\n",
       "    <tr>\n",
       "      <th></th>\n",
       "      <th>count</th>\n",
       "      <th>mean</th>\n",
       "      <th>count</th>\n",
       "      <th>mean</th>\n",
       "    </tr>\n",
       "    <tr>\n",
       "      <th>family</th>\n",
       "      <th></th>\n",
       "      <th></th>\n",
       "      <th></th>\n",
       "      <th></th>\n",
       "    </tr>\n",
       "  </thead>\n",
       "  <tbody>\n",
       "    <tr>\n",
       "      <td>banjori</td>\n",
       "      <td>61488</td>\n",
       "      <td>13.579479</td>\n",
       "      <td>61488</td>\n",
       "      <td>22.500000</td>\n",
       "    </tr>\n",
       "    <tr>\n",
       "      <td>chinad</td>\n",
       "      <td>203776</td>\n",
       "      <td>13.056557</td>\n",
       "      <td>203776</td>\n",
       "      <td>16.000000</td>\n",
       "    </tr>\n",
       "    <tr>\n",
       "      <td>corebot</td>\n",
       "      <td>817753</td>\n",
       "      <td>14.779776</td>\n",
       "      <td>817753</td>\n",
       "      <td>18.994673</td>\n",
       "    </tr>\n",
       "    <tr>\n",
       "      <td>dircypt</td>\n",
       "      <td>1328</td>\n",
       "      <td>10.935994</td>\n",
       "      <td>1328</td>\n",
       "      <td>13.958584</td>\n",
       "    </tr>\n",
       "    <tr>\n",
       "      <td>dnscharger</td>\n",
       "      <td>207685</td>\n",
       "      <td>8.437124</td>\n",
       "      <td>207685</td>\n",
       "      <td>10.000000</td>\n",
       "    </tr>\n",
       "    <tr>\n",
       "      <td>fobber</td>\n",
       "      <td>204058</td>\n",
       "      <td>8.434832</td>\n",
       "      <td>204058</td>\n",
       "      <td>10.000000</td>\n",
       "    </tr>\n",
       "    <tr>\n",
       "      <td>gameoverzeus</td>\n",
       "      <td>9287</td>\n",
       "      <td>18.154840</td>\n",
       "      <td>9287</td>\n",
       "      <td>25.921072</td>\n",
       "    </tr>\n",
       "    <tr>\n",
       "      <td>gozi</td>\n",
       "      <td>408494</td>\n",
       "      <td>11.679351</td>\n",
       "      <td>408494</td>\n",
       "      <td>19.552060</td>\n",
       "    </tr>\n",
       "    <tr>\n",
       "      <td>kraken</td>\n",
       "      <td>12166</td>\n",
       "      <td>8.045208</td>\n",
       "      <td>12166</td>\n",
       "      <td>9.508384</td>\n",
       "    </tr>\n",
       "    <tr>\n",
       "      <td>locy</td>\n",
       "      <td>428245</td>\n",
       "      <td>9.550640</td>\n",
       "      <td>428245</td>\n",
       "      <td>11.997284</td>\n",
       "    </tr>\n",
       "    <tr>\n",
       "      <td>matsnu</td>\n",
       "      <td>199990</td>\n",
       "      <td>13.935722</td>\n",
       "      <td>199990</td>\n",
       "      <td>26.527531</td>\n",
       "    </tr>\n",
       "    <tr>\n",
       "      <td>monero</td>\n",
       "      <td>42915</td>\n",
       "      <td>9.077758</td>\n",
       "      <td>42915</td>\n",
       "      <td>13.000000</td>\n",
       "    </tr>\n",
       "    <tr>\n",
       "      <td>murofet</td>\n",
       "      <td>429252</td>\n",
       "      <td>13.698072</td>\n",
       "      <td>429252</td>\n",
       "      <td>20.026085</td>\n",
       "    </tr>\n",
       "    <tr>\n",
       "      <td>mydoom</td>\n",
       "      <td>201967</td>\n",
       "      <td>6.515545</td>\n",
       "      <td>201967</td>\n",
       "      <td>10.000000</td>\n",
       "    </tr>\n",
       "    <tr>\n",
       "      <td>necurs</td>\n",
       "      <td>203635</td>\n",
       "      <td>10.659734</td>\n",
       "      <td>203635</td>\n",
       "      <td>13.992757</td>\n",
       "    </tr>\n",
       "    <tr>\n",
       "      <td>newgoz</td>\n",
       "      <td>423988</td>\n",
       "      <td>18.688916</td>\n",
       "      <td>423988</td>\n",
       "      <td>28.000000</td>\n",
       "    </tr>\n",
       "    <tr>\n",
       "      <td>nymaim</td>\n",
       "      <td>876880</td>\n",
       "      <td>7.332000</td>\n",
       "      <td>876880</td>\n",
       "      <td>8.506050</td>\n",
       "    </tr>\n",
       "    <tr>\n",
       "      <td>others</td>\n",
       "      <td>20611</td>\n",
       "      <td>8.711077</td>\n",
       "      <td>20611</td>\n",
       "      <td>11.753772</td>\n",
       "    </tr>\n",
       "    <tr>\n",
       "      <td>padcrypt</td>\n",
       "      <td>670481</td>\n",
       "      <td>8.270267</td>\n",
       "      <td>670481</td>\n",
       "      <td>16.000000</td>\n",
       "    </tr>\n",
       "    <tr>\n",
       "      <td>pitou</td>\n",
       "      <td>69263</td>\n",
       "      <td>5.821362</td>\n",
       "      <td>69263</td>\n",
       "      <td>7.999625</td>\n",
       "    </tr>\n",
       "    <tr>\n",
       "      <td>pizd</td>\n",
       "      <td>16382</td>\n",
       "      <td>9.289037</td>\n",
       "      <td>16382</td>\n",
       "      <td>12.749786</td>\n",
       "    </tr>\n",
       "    <tr>\n",
       "      <td>proslikefan</td>\n",
       "      <td>311850</td>\n",
       "      <td>6.989363</td>\n",
       "      <td>311850</td>\n",
       "      <td>8.022088</td>\n",
       "    </tr>\n",
       "    <tr>\n",
       "      <td>pushdo</td>\n",
       "      <td>91849</td>\n",
       "      <td>9.059903</td>\n",
       "      <td>91849</td>\n",
       "      <td>11.836264</td>\n",
       "    </tr>\n",
       "    <tr>\n",
       "      <td>pykspa</td>\n",
       "      <td>483213</td>\n",
       "      <td>7.864300</td>\n",
       "      <td>483213</td>\n",
       "      <td>9.635544</td>\n",
       "    </tr>\n",
       "    <tr>\n",
       "      <td>qadars</td>\n",
       "      <td>15600</td>\n",
       "      <td>10.187756</td>\n",
       "      <td>15600</td>\n",
       "      <td>12.000000</td>\n",
       "    </tr>\n",
       "    <tr>\n",
       "      <td>qakbot</td>\n",
       "      <td>257128</td>\n",
       "      <td>12.103824</td>\n",
       "      <td>257128</td>\n",
       "      <td>16.504694</td>\n",
       "    </tr>\n",
       "    <tr>\n",
       "      <td>qsnatch</td>\n",
       "      <td>231090</td>\n",
       "      <td>4.071007</td>\n",
       "      <td>231090</td>\n",
       "      <td>4.282743</td>\n",
       "    </tr>\n",
       "    <tr>\n",
       "      <td>ramdo</td>\n",
       "      <td>207272</td>\n",
       "      <td>9.389204</td>\n",
       "      <td>207272</td>\n",
       "      <td>16.000000</td>\n",
       "    </tr>\n",
       "    <tr>\n",
       "      <td>ramnit</td>\n",
       "      <td>111445</td>\n",
       "      <td>10.447073</td>\n",
       "      <td>111445</td>\n",
       "      <td>13.499771</td>\n",
       "    </tr>\n",
       "    <tr>\n",
       "      <td>ranbyus</td>\n",
       "      <td>51480</td>\n",
       "      <td>12.508761</td>\n",
       "      <td>51480</td>\n",
       "      <td>17.000000</td>\n",
       "    </tr>\n",
       "    <tr>\n",
       "      <td>reconyc</td>\n",
       "      <td>857504</td>\n",
       "      <td>9.305446</td>\n",
       "      <td>857504</td>\n",
       "      <td>10.000000</td>\n",
       "    </tr>\n",
       "    <tr>\n",
       "      <td>rovnix</td>\n",
       "      <td>411183</td>\n",
       "      <td>12.612192</td>\n",
       "      <td>411183</td>\n",
       "      <td>22.810131</td>\n",
       "    </tr>\n",
       "    <tr>\n",
       "      <td>shiotob</td>\n",
       "      <td>208305</td>\n",
       "      <td>10.396131</td>\n",
       "      <td>208305</td>\n",
       "      <td>12.509647</td>\n",
       "    </tr>\n",
       "    <tr>\n",
       "      <td>simda</td>\n",
       "      <td>11549</td>\n",
       "      <td>6.179409</td>\n",
       "      <td>11549</td>\n",
       "      <td>7.000000</td>\n",
       "    </tr>\n",
       "    <tr>\n",
       "      <td>sisron</td>\n",
       "      <td>5193</td>\n",
       "      <td>8.339303</td>\n",
       "      <td>5193</td>\n",
       "      <td>12.000000</td>\n",
       "    </tr>\n",
       "    <tr>\n",
       "      <td>symmi</td>\n",
       "      <td>1</td>\n",
       "      <td>3.000000</td>\n",
       "      <td>1</td>\n",
       "      <td>4.000000</td>\n",
       "    </tr>\n",
       "    <tr>\n",
       "      <td>tempedreve</td>\n",
       "      <td>1841</td>\n",
       "      <td>7.462792</td>\n",
       "      <td>1841</td>\n",
       "      <td>8.487235</td>\n",
       "    </tr>\n",
       "    <tr>\n",
       "      <td>tinba</td>\n",
       "      <td>22004</td>\n",
       "      <td>9.160925</td>\n",
       "      <td>22004</td>\n",
       "      <td>12.000318</td>\n",
       "    </tr>\n",
       "    <tr>\n",
       "      <td>unjavascript</td>\n",
       "      <td>205733</td>\n",
       "      <td>6.985199</td>\n",
       "      <td>205733</td>\n",
       "      <td>8.015126</td>\n",
       "    </tr>\n",
       "    <tr>\n",
       "      <td>unmalware</td>\n",
       "      <td>158</td>\n",
       "      <td>7.436709</td>\n",
       "      <td>158</td>\n",
       "      <td>8.000000</td>\n",
       "    </tr>\n",
       "    <tr>\n",
       "      <td>vawtrak</td>\n",
       "      <td>150817</td>\n",
       "      <td>7.643462</td>\n",
       "      <td>150817</td>\n",
       "      <td>9.091840</td>\n",
       "    </tr>\n",
       "    <tr>\n",
       "      <td>zloader</td>\n",
       "      <td>572389</td>\n",
       "      <td>13.957808</td>\n",
       "      <td>572389</td>\n",
       "      <td>20.000000</td>\n",
       "    </tr>\n",
       "  </tbody>\n",
       "</table>\n",
       "</div>"
      ],
      "text/plain": [
       "             uniquechar             length           \n",
       "                  count       mean   count       mean\n",
       "family                                               \n",
       "banjori           61488  13.579479   61488  22.500000\n",
       "chinad           203776  13.056557  203776  16.000000\n",
       "corebot          817753  14.779776  817753  18.994673\n",
       "dircypt            1328  10.935994    1328  13.958584\n",
       "dnscharger       207685   8.437124  207685  10.000000\n",
       "fobber           204058   8.434832  204058  10.000000\n",
       "gameoverzeus       9287  18.154840    9287  25.921072\n",
       "gozi             408494  11.679351  408494  19.552060\n",
       "kraken            12166   8.045208   12166   9.508384\n",
       "locy             428245   9.550640  428245  11.997284\n",
       "matsnu           199990  13.935722  199990  26.527531\n",
       "monero            42915   9.077758   42915  13.000000\n",
       "murofet          429252  13.698072  429252  20.026085\n",
       "mydoom           201967   6.515545  201967  10.000000\n",
       "necurs           203635  10.659734  203635  13.992757\n",
       "newgoz           423988  18.688916  423988  28.000000\n",
       "nymaim           876880   7.332000  876880   8.506050\n",
       "others            20611   8.711077   20611  11.753772\n",
       "padcrypt         670481   8.270267  670481  16.000000\n",
       "pitou             69263   5.821362   69263   7.999625\n",
       "pizd              16382   9.289037   16382  12.749786\n",
       "proslikefan      311850   6.989363  311850   8.022088\n",
       "pushdo            91849   9.059903   91849  11.836264\n",
       "pykspa           483213   7.864300  483213   9.635544\n",
       "qadars            15600  10.187756   15600  12.000000\n",
       "qakbot           257128  12.103824  257128  16.504694\n",
       "qsnatch          231090   4.071007  231090   4.282743\n",
       "ramdo            207272   9.389204  207272  16.000000\n",
       "ramnit           111445  10.447073  111445  13.499771\n",
       "ranbyus           51480  12.508761   51480  17.000000\n",
       "reconyc          857504   9.305446  857504  10.000000\n",
       "rovnix           411183  12.612192  411183  22.810131\n",
       "shiotob          208305  10.396131  208305  12.509647\n",
       "simda             11549   6.179409   11549   7.000000\n",
       "sisron             5193   8.339303    5193  12.000000\n",
       "symmi                 1   3.000000       1   4.000000\n",
       "tempedreve         1841   7.462792    1841   8.487235\n",
       "tinba             22004   9.160925   22004  12.000318\n",
       "unjavascript     205733   6.985199  205733   8.015126\n",
       "unmalware           158   7.436709     158   8.000000\n",
       "vawtrak          150817   7.643462  150817   9.091840\n",
       "zloader          572389  13.957808  572389  20.000000"
      ]
     },
     "execution_count": 12,
     "metadata": {},
     "output_type": "execute_result"
    }
   ],
   "source": [
    "df_dga_final[['family','uniquechar','length']].groupby(['family']).agg(['count','mean'])"
   ]
  },
  {
   "cell_type": "code",
   "execution_count": 110,
   "metadata": {},
   "outputs": [
    {
     "data": {
      "text/plain": [
       "array([[<matplotlib.axes._subplots.AxesSubplot object at 0x0000026481A66BC8>,\n",
       "        <matplotlib.axes._subplots.AxesSubplot object at 0x0000026481A02348>]],\n",
       "      dtype=object)"
      ]
     },
     "execution_count": 110,
     "metadata": {},
     "output_type": "execute_result"
    },
    {
     "data": {
      "image/png": "[encoded data removed]",
      "text/plain": [
       "<Figure size 1440x720 with 2 Axes>"
      ]
     },
     "metadata": {
      "needs_background": "light"
     },
     "output_type": "display_data"
    }
   ],
   "source": [
    "plt.rcParams[\"figure.figsize\"] = (20,10)\n",
    "df_dga_final[['uniquechar','length']].hist()"
   ]
  },
  {
   "cell_type": "code",
   "execution_count": 111,
   "metadata": {},
   "outputs": [
    {
     "data": {
      "text/plain": [
       "<matplotlib.axes._subplots.AxesSubplot at 0x2648097c788>"
      ]
     },
     "execution_count": 111,
     "metadata": {},
     "output_type": "execute_result"
    },
    {
     "data": {
      "image/png": "[encoded data removed]",
      "text/plain": [
       "<Figure size 1440x720 with 1 Axes>"
      ]
     },
     "metadata": {
      "needs_background": "light"
     },
     "output_type": "display_data"
    }
   ],
   "source": [
    "# density graph\n",
    "df_dga_final[['uniquechar','length']].plot.kde()"
   ]
  },
  {
   "cell_type": "code",
   "execution_count": 128,
   "metadata": {},
   "outputs": [
    {
     "data": {
      "text/html": [
       "<div>\n",
       "<style scoped>\n",
       "    .dataframe tbody tr th:only-of-type {\n",
       "        vertical-align: middle;\n",
       "    }\n",
       "\n",
       "    .dataframe tbody tr th {\n",
       "        vertical-align: top;\n",
       "    }\n",
       "\n",
       "    .dataframe thead th {\n",
       "        text-align: right;\n",
       "    }\n",
       "</style>\n",
       "<table border=\"1\" class=\"dataframe\">\n",
       "  <thead>\n",
       "    <tr style=\"text-align: right;\">\n",
       "      <th></th>\n",
       "      <th>Domain</th>\n",
       "      <th>family</th>\n",
       "      <th>label</th>\n",
       "      <th>domain</th>\n",
       "      <th>uniquechar</th>\n",
       "      <th>length</th>\n",
       "    </tr>\n",
       "  </thead>\n",
       "  <tbody>\n",
       "    <tr>\n",
       "      <td>0</td>\n",
       "      <td>1hodsu7i2uou8jef.cn</td>\n",
       "      <td>chinad</td>\n",
       "      <td>bad</td>\n",
       "      <td>1hodsu7i2uou8jef</td>\n",
       "      <td>13</td>\n",
       "      <td>16</td>\n",
       "    </tr>\n",
       "    <tr>\n",
       "      <td>1</td>\n",
       "      <td>7gqotxvpzsg0t7r4.info</td>\n",
       "      <td>chinad</td>\n",
       "      <td>bad</td>\n",
       "      <td>7gqotxvpzsg0t7r4</td>\n",
       "      <td>13</td>\n",
       "      <td>16</td>\n",
       "    </tr>\n",
       "    <tr>\n",
       "      <td>2</td>\n",
       "      <td>6jcpi4uxktum6nro.info</td>\n",
       "      <td>chinad</td>\n",
       "      <td>bad</td>\n",
       "      <td>6jcpi4uxktum6nro</td>\n",
       "      <td>14</td>\n",
       "      <td>16</td>\n",
       "    </tr>\n",
       "    <tr>\n",
       "      <td>3</td>\n",
       "      <td>4k2vlny8rmbbe9u8.info</td>\n",
       "      <td>chinad</td>\n",
       "      <td>bad</td>\n",
       "      <td>4k2vlny8rmbbe9u8</td>\n",
       "      <td>14</td>\n",
       "      <td>16</td>\n",
       "    </tr>\n",
       "    <tr>\n",
       "      <td>4</td>\n",
       "      <td>pgvhduc5tyciwh38.ru</td>\n",
       "      <td>chinad</td>\n",
       "      <td>bad</td>\n",
       "      <td>pgvhduc5tyciwh38</td>\n",
       "      <td>14</td>\n",
       "      <td>16</td>\n",
       "    </tr>\n",
       "  </tbody>\n",
       "</table>\n",
       "</div>"
      ],
      "text/plain": [
       "                  Domain  family label            domain  uniquechar  length\n",
       "0    1hodsu7i2uou8jef.cn  chinad   bad  1hodsu7i2uou8jef          13      16\n",
       "1  7gqotxvpzsg0t7r4.info  chinad   bad  7gqotxvpzsg0t7r4          13      16\n",
       "2  6jcpi4uxktum6nro.info  chinad   bad  6jcpi4uxktum6nro          14      16\n",
       "3  4k2vlny8rmbbe9u8.info  chinad   bad  4k2vlny8rmbbe9u8          14      16\n",
       "4    pgvhduc5tyciwh38.ru  chinad   bad  pgvhduc5tyciwh38          14      16"
      ]
     },
     "execution_count": 128,
     "metadata": {},
     "output_type": "execute_result"
    }
   ],
   "source": [
    "df_dga_final.head()"
   ]
  },
  {
   "cell_type": "code",
   "execution_count": 7,
   "metadata": {},
   "outputs": [],
   "source": [
    "def check_validchar(domain):\n",
    "    try:\n",
    "        for c in domain.lower():\n",
    "            if c not in VALID_CHARS:\n",
    "                return False\n",
    "    except:\n",
    "        print(domain)\n",
    "        return False\n",
    "    return True"
   ]
  },
  {
   "cell_type": "code",
   "execution_count": 8,
   "metadata": {},
   "outputs": [
    {
     "name": "stdout",
     "output_type": "stream",
     "text": [
      "nan\n",
      "nan\n",
      "nan\n"
     ]
    }
   ],
   "source": [
    "df_dga_final.loc[:,'valid'] = df_dga_final.apply(lambda row: check_validchar(row.domain), axis=1 )"
   ]
  },
  {
   "cell_type": "code",
   "execution_count": 9,
   "metadata": {},
   "outputs": [
    {
     "data": {
      "text/html": [
       "<div>\n",
       "<style scoped>\n",
       "    .dataframe tbody tr th:only-of-type {\n",
       "        vertical-align: middle;\n",
       "    }\n",
       "\n",
       "    .dataframe tbody tr th {\n",
       "        vertical-align: top;\n",
       "    }\n",
       "\n",
       "    .dataframe thead th {\n",
       "        text-align: right;\n",
       "    }\n",
       "</style>\n",
       "<table border=\"1\" class=\"dataframe\">\n",
       "  <thead>\n",
       "    <tr style=\"text-align: right;\">\n",
       "      <th></th>\n",
       "      <th>label</th>\n",
       "    </tr>\n",
       "    <tr>\n",
       "      <th>valid</th>\n",
       "      <th></th>\n",
       "    </tr>\n",
       "  </thead>\n",
       "  <tbody>\n",
       "    <tr>\n",
       "      <td>False</td>\n",
       "      <td>182691</td>\n",
       "    </tr>\n",
       "    <tr>\n",
       "      <td>True</td>\n",
       "      <td>9534557</td>\n",
       "    </tr>\n",
       "  </tbody>\n",
       "</table>\n",
       "</div>"
      ],
      "text/plain": [
       "         label\n",
       "valid         \n",
       "False   182691\n",
       "True   9534557"
      ]
     },
     "execution_count": 9,
     "metadata": {},
     "output_type": "execute_result"
    }
   ],
   "source": [
    "df_dga_final[['valid','label']].groupby(['valid']).count()"
   ]
  },
  {
   "cell_type": "code",
   "execution_count": 10,
   "metadata": {},
   "outputs": [
    {
     "data": {
      "image/png": "[encoded data removed]",
      "text/plain": [
       "<Figure size 1440x1440 with 2 Axes>"
      ]
     },
     "metadata": {
      "needs_background": "light"
     },
     "output_type": "display_data"
    }
   ],
   "source": [
    "#Heatmap\n",
    "mat,xlabel,ylabel = generate_data_matrix(df_dga_final[df_dga_final.valid].domain)\n",
    "generate_heatmap(mat,xlabel,ylabel,'DGA data 9.7 mn')"
   ]
  }
 ],
 "metadata": {
  "kernelspec": {
   "display_name": "Python 3",
   "language": "python",
   "name": "python3"
  },
  "language_info": {
   "codemirror_mode": {
    "name": "ipython",
    "version": 3
   },
   "file_extension": ".py",
   "mimetype": "text/x-python",
   "name": "python",
   "nbconvert_exporter": "python",
   "pygments_lexer": "ipython3",
   "version": "3.7.4"
  }
 },
 "nbformat": 4,
 "nbformat_minor": 2
}
