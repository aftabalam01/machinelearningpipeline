{
 "cells": [
  {
   "cell_type": "code",
   "execution_count": null,
   "metadata": {},
   "outputs": [],
   "source": [
    "from IPython.display import HTML\n",
    "HTML('''<h2>IMT 575: Sagemaker trial model</h2>\n",
    "<b><pre>\n",
    "    Authors: \n",
    "    Aftab Alam\n",
    "    </pre>\n",
    "</b> \n",
    "<p>Date/Time: <span id=\"datetime\"></span></p><script>var dt = new Date();\n",
    "document.getElementById(\"datetime\").innerHTML=dt.toLocaleString();</script> </p>''')"
   ]
  },
  {
   "cell_type": "code",
   "execution_count": null,
   "metadata": {},
   "outputs": [],
   "source": []
  },
  {
   "cell_type": "code",
   "execution_count": null,
   "metadata": {},
   "outputs": [],
   "source": [
    "import sys\n",
    "! conda install -y -c conda-forge ipywidgets\n",
    "! pip install tldextract\n"
   ]
  },
  {
   "cell_type": "code",
   "execution_count": 1,
   "metadata": {},
   "outputs": [],
   "source": [
    "import time\n",
    "import sys\n",
    "import boto3\n",
    "import numpy as np\n",
    "import pandas as pd\n",
    "%config InlineBackend.figure_format = 'retina'\n",
    "from matplotlib import pyplot as plt\n",
    "\n",
    "import sagemaker\n",
    "from sagemaker.amazon.amazon_estimator import get_image_uri \n",
    "from sagemaker import get_execution_role\n",
    "from sagemaker.session import Session\n",
    "from sagemaker.predictor import csv_serializer\n",
    "\n",
    "# enable flag to how all output\n",
    "from IPython.core.interactiveshell import InteractiveShell\n",
    "InteractiveShell.ast_node_interactivity = \"all\""
   ]
  },
  {
   "cell_type": "code",
   "execution_count": 2,
   "metadata": {},
   "outputs": [],
   "source": [
    "role = sagemaker.get_execution_role()\n",
    "region = boto3.Session().region_name\n",
    "\n",
    "# S3 bucket for saving code and model artifacts.\n",
    "# Feel free to specify a different bucket and prefix\n",
    "bucket = sagemaker.Session().default_bucket()\n",
    "prefix = 'sagemaker/xgboost'\n",
    "# customize to your bucket where you have stored the data\n",
    "bucket_path = 'https://s3-{}.amazonaws.com/{}'.format(region, bucket)"
   ]
  },
  {
   "cell_type": "code",
   "execution_count": 3,
   "metadata": {},
   "outputs": [
    {
     "name": "stdout",
     "output_type": "stream",
     "text": [
      "CPU times: user 350 ms, sys: 31.8 ms, total: 381 ms\n",
      "Wall time: 382 ms\n"
     ]
    }
   ],
   "source": [
    "%%time\n",
    "# split data and save in s3\n",
    "\n",
    "import io\n",
    "import boto3\n",
    "import random\n",
    "from sklearn.model_selection import train_test_split\n",
    "\n",
    "def appendXY(X,Y):\n",
    "    df = pd.DataFrame(Y)\n",
    "    print(df.shape)\n",
    "    df.columns = ['Y']\n",
    "    dfx = pd.DataFrame(X)\n",
    "    print(dfx.shape)\n",
    "    return pd.concat([df,dfx],axis=1)\n",
    "   \n",
    "\n",
    "def data_split(features,output_label,train_file, validation_file, test_file,test_size=0.2, random_state=42):\n",
    "\n",
    "    X_train, X_test, y_train, y_test = train_test_split(features, output_label, test_size=test_size, random_state=random_state)\n",
    "    test_df = appendXY(X_test,y_test)\n",
    "    test_df.to_csv(test_file,header=False,index=False)\n",
    "    \n",
    "    X_train, X_test, y_train, y_test = train_test_split( X_train, y_train, test_size=test_size, random_state=random_state)\n",
    "    train_df = appendXY(X_train,y_train)\n",
    "    train_df.to_csv(train_file,header=False,index=False)\n",
    "    \n",
    "    valid_df = appendXY(X_test,y_test)\n",
    "    valid_df.to_csv(validation_file,header=False,index=False)\n",
    "\n",
    "\n",
    "def write_to_s3(fobj, bucket, key):\n",
    "    return boto3.Session(region_name=region).resource('s3').Bucket(bucket).Object(key).upload_fileobj(fobj)\n",
    "\n",
    "def upload_to_s3(bucket, channel, filename):\n",
    "    fobj=open(filename, 'rb')\n",
    "    key = prefix+'/'+channel\n",
    "    url = 's3://{}/{}/{}'.format(bucket, key, filename)\n",
    "    print('Writing to {}'.format(url))\n",
    "    write_to_s3(fobj, bucket, key)"
   ]
  },
  {
   "cell_type": "code",
   "execution_count": 4,
   "metadata": {},
   "outputs": [],
   "source": [
    "# download file from S3\n",
    "FILE_DATA = 'domainsDataSet'\n",
    "s3 = boto3.client('s3')\n",
    "s3.download_file(bucket, 'newDataSample.csv', FILE_DATA)"
   ]
  },
  {
   "cell_type": "code",
   "execution_count": 5,
   "metadata": {},
   "outputs": [
    {
     "data": {
      "text/html": [
       "<div>\n",
       "<style scoped>\n",
       "    .dataframe tbody tr th:only-of-type {\n",
       "        vertical-align: middle;\n",
       "    }\n",
       "\n",
       "    .dataframe tbody tr th {\n",
       "        vertical-align: top;\n",
       "    }\n",
       "\n",
       "    .dataframe thead th {\n",
       "        text-align: right;\n",
       "    }\n",
       "</style>\n",
       "<table border=\"1\" class=\"dataframe\">\n",
       "  <thead>\n",
       "    <tr style=\"text-align: right;\">\n",
       "      <th></th>\n",
       "      <th>domain</th>\n",
       "      <th>domain_type</th>\n",
       "    </tr>\n",
       "  </thead>\n",
       "  <tbody>\n",
       "    <tr>\n",
       "      <th>999995</th>\n",
       "      <td>kapital-rus.ru</td>\n",
       "      <td>benign</td>\n",
       "    </tr>\n",
       "    <tr>\n",
       "      <th>999996</th>\n",
       "      <td>kaufroboter.de</td>\n",
       "      <td>benign</td>\n",
       "    </tr>\n",
       "    <tr>\n",
       "      <th>999997</th>\n",
       "      <td>naikmotor.com</td>\n",
       "      <td>benign</td>\n",
       "    </tr>\n",
       "    <tr>\n",
       "      <th>999998</th>\n",
       "      <td>altengroup.sharepoint.com</td>\n",
       "      <td>benign</td>\n",
       "    </tr>\n",
       "    <tr>\n",
       "      <th>999999</th>\n",
       "      <td>icampusj.net</td>\n",
       "      <td>benign</td>\n",
       "    </tr>\n",
       "  </tbody>\n",
       "</table>\n",
       "</div>"
      ],
      "text/plain": [
       "                           domain domain_type\n",
       "999995             kapital-rus.ru      benign\n",
       "999996             kaufroboter.de      benign\n",
       "999997              naikmotor.com      benign\n",
       "999998  altengroup.sharepoint.com      benign\n",
       "999999               icampusj.net      benign"
      ]
     },
     "execution_count": 5,
     "metadata": {},
     "output_type": "execute_result"
    },
    {
     "data": {
      "text/html": [
       "<div>\n",
       "<style scoped>\n",
       "    .dataframe tbody tr th:only-of-type {\n",
       "        vertical-align: middle;\n",
       "    }\n",
       "\n",
       "    .dataframe tbody tr th {\n",
       "        vertical-align: top;\n",
       "    }\n",
       "\n",
       "    .dataframe thead th {\n",
       "        text-align: right;\n",
       "    }\n",
       "</style>\n",
       "<table border=\"1\" class=\"dataframe\">\n",
       "  <thead>\n",
       "    <tr style=\"text-align: right;\">\n",
       "      <th></th>\n",
       "      <th>domain</th>\n",
       "      <th>domain_type</th>\n",
       "    </tr>\n",
       "  </thead>\n",
       "  <tbody>\n",
       "    <tr>\n",
       "      <th>0</th>\n",
       "      <td>giamanek.com</td>\n",
       "      <td>benign</td>\n",
       "    </tr>\n",
       "    <tr>\n",
       "      <th>1</th>\n",
       "      <td>kennycason.com</td>\n",
       "      <td>benign</td>\n",
       "    </tr>\n",
       "    <tr>\n",
       "      <th>2</th>\n",
       "      <td>uniconbg.com</td>\n",
       "      <td>benign</td>\n",
       "    </tr>\n",
       "    <tr>\n",
       "      <th>3</th>\n",
       "      <td>ctnnbbrcuhusvjcdbypk.mx</td>\n",
       "      <td>dga</td>\n",
       "    </tr>\n",
       "    <tr>\n",
       "      <th>4</th>\n",
       "      <td>zhztea.com</td>\n",
       "      <td>benign</td>\n",
       "    </tr>\n",
       "  </tbody>\n",
       "</table>\n",
       "</div>"
      ],
      "text/plain": [
       "                    domain domain_type\n",
       "0             giamanek.com      benign\n",
       "1           kennycason.com      benign\n",
       "2             uniconbg.com      benign\n",
       "3  ctnnbbrcuhusvjcdbypk.mx         dga\n",
       "4               zhztea.com      benign"
      ]
     },
     "execution_count": 5,
     "metadata": {},
     "output_type": "execute_result"
    },
    {
     "data": {
      "text/html": [
       "<div>\n",
       "<style scoped>\n",
       "    .dataframe tbody tr th:only-of-type {\n",
       "        vertical-align: middle;\n",
       "    }\n",
       "\n",
       "    .dataframe tbody tr th {\n",
       "        vertical-align: top;\n",
       "    }\n",
       "\n",
       "    .dataframe thead th {\n",
       "        text-align: right;\n",
       "    }\n",
       "</style>\n",
       "<table border=\"1\" class=\"dataframe\">\n",
       "  <thead>\n",
       "    <tr style=\"text-align: right;\">\n",
       "      <th></th>\n",
       "      <th>domain</th>\n",
       "    </tr>\n",
       "    <tr>\n",
       "      <th>domain_type</th>\n",
       "      <th></th>\n",
       "    </tr>\n",
       "  </thead>\n",
       "  <tbody>\n",
       "    <tr>\n",
       "      <th>benign</th>\n",
       "      <td>499999</td>\n",
       "    </tr>\n",
       "    <tr>\n",
       "      <th>dga</th>\n",
       "      <td>500000</td>\n",
       "    </tr>\n",
       "  </tbody>\n",
       "</table>\n",
       "</div>"
      ],
      "text/plain": [
       "             domain\n",
       "domain_type        \n",
       "benign       499999\n",
       "dga          500000"
      ]
     },
     "execution_count": 5,
     "metadata": {},
     "output_type": "execute_result"
    }
   ],
   "source": [
    "# Load the dataset\n",
    "df_domains = pd.read_csv(FILE_DATA)\n",
    "\n",
    "df_domains.tail()\n",
    "df_domains.head()\n",
    "df_domains.groupby('domain_type').agg('count')"
   ]
  },
  {
   "cell_type": "code",
   "execution_count": 6,
   "metadata": {},
   "outputs": [
    {
     "name": "stdout",
     "output_type": "stream",
     "text": [
      "domain            NaN\n",
      "domain_type    benign\n",
      "Name: 765103, dtype: object\n",
      "CPU times: user 1min 1s, sys: 170 ms, total: 1min 1s\n",
      "Wall time: 1min 1s\n"
     ]
    }
   ],
   "source": [
    "%%time\n",
    "import tldextract\n",
    "\n",
    "def extract_domain_subdomain(record):\n",
    "    domain = record.domain\n",
    "    ret=''\n",
    "    try:\n",
    "        ext = tldextract.extract(domain)\n",
    "        ret = ext.domain\n",
    "    except :\n",
    "        print(record)\n",
    "    return ret\n",
    "def get_y(row):\n",
    "    if row.domain_type.lower()=='dga':\n",
    "        return 1\n",
    "    elif row.domain_type.lower()=='benign':\n",
    "        return 0\n",
    "    else :\n",
    "        return 1\n",
    "    \n",
    "df_domains.loc[:,'domain_subdomain'] = df_domains.apply(lambda row : extract_domain_subdomain(row), axis=1 )\n",
    "## 1 for dga and 0 for benign\n",
    "df_domains.loc[:,'Y'] = df_domains.apply(lambda row : get_y(row), axis=1 )"
   ]
  },
  {
   "cell_type": "code",
   "execution_count": 12,
   "metadata": {},
   "outputs": [],
   "source": [
    "VALID_CHARS = 'abcdefghijklmnopqrstuvwxyz0123456789-_.'\n",
    "LOOKUP_TABLE = None\n",
    "def pad(l, content, width):\n",
    "        l.extend([content] * (width - len(l)))\n",
    "        return l\n",
    "\n",
    "def features_extract(domain): \n",
    "    \n",
    "    global VALID_CHARS    \n",
    "    global LOOKUP_TABLE    \n",
    "    if not LOOKUP_TABLE:        \n",
    "        LOOKUP_TABLE = dict()       \n",
    "        idx = 1\n",
    "        for c in VALID_CHARS:\n",
    "            LOOKUP_TABLE[c] = int(idx)            \n",
    "            idx += int(1)    \n",
    "    #ds = tldextract.extract(fqdn)    \n",
    "    #domain = ds.domain \n",
    "       \n",
    "    rvalue = list()  \n",
    "    if len(domain)<=63 and ' ' not in domain:\n",
    "        for c in domain.lower():        \n",
    "            rvalue.append(LOOKUP_TABLE[c])\n",
    "    else: \n",
    "        #print(domain)\n",
    "        pass\n",
    "            \n",
    "    rvalue=pad(rvalue,0,63)    \n",
    "    return rvalue\n"
   ]
  },
  {
   "cell_type": "code",
   "execution_count": 8,
   "metadata": {},
   "outputs": [
    {
     "data": {
      "text/plain": [
       "ExtractResult(subdomain='www.abcdefghijklmnopqrstuvwxyzabcdefghijklmnopqrstuvwxyzabcde.abcdefghijklmnopqrstuvwxyzabcdefghijklmnopqrstuvwxyzabcdefghijk.abcdefghijklmnopqrstuvwxyzabcdefghijklmnopqrstuvwxyzabcdefghijk', domain='abcdefghijklmnopqrstuvwxyzabcdefghijklmnopqrstuvwxyzabcdefghijk', suffix='com')"
      ]
     },
     "execution_count": 8,
     "metadata": {},
     "output_type": "execute_result"
    },
    {
     "data": {
      "text/plain": [
       "(63,)"
      ]
     },
     "execution_count": 8,
     "metadata": {},
     "output_type": "execute_result"
    }
   ],
   "source": [
    "## tldextract example\n",
    "url = 'https://www.abcdefghijklmnopqrstuvwxyzabcdefghijklmnopqrstuvwxyzabcde.abcdefghijklmnopqrstuvwxyzabcdefghijklmnopqrstuvwxyzabcdefghijk.abcdefghijklmnopqrstuvwxyzabcdefghijklmnopqrstuvwxyzabcdefghijk.abcdefghijklmnopqrstuvwxyzabcdefghijklmnopqrstuvwxyzabcdefghijk.com'\n",
    "ext=tldextract.extract(url)\n",
    "ext\n",
    "features_extract(ext.domain).shape\n"
   ]
  },
  {
   "cell_type": "code",
   "execution_count": 13,
   "metadata": {},
   "outputs": [
    {
     "data": {
      "text/plain": [
       "(1000000, 63)"
      ]
     },
     "execution_count": 13,
     "metadata": {},
     "output_type": "execute_result"
    }
   ],
   "source": [
    "# features X vector\n",
    "X = [features_extract(D) for D in df_domains.domain_subdomain]\n",
    "X = np.array(X)\n",
    "X.shape\n"
   ]
  },
  {
   "cell_type": "code",
   "execution_count": null,
   "metadata": {},
   "outputs": [],
   "source": [
    "df_domains.head(11).tail()"
   ]
  },
  {
   "cell_type": "code",
   "execution_count": null,
   "metadata": {},
   "outputs": [],
   "source": [
    "X1=np.array([[12,3,4],[12,3,4]])"
   ]
  },
  {
   "cell_type": "code",
   "execution_count": null,
   "metadata": {},
   "outputs": [],
   "source": [
    "X"
   ]
  },
  {
   "cell_type": "code",
   "execution_count": 15,
   "metadata": {},
   "outputs": [
    {
     "name": "stdout",
     "output_type": "stream",
     "text": [
      "(200000, 1)\n",
      "(200000, 63)\n",
      "(640000, 1)\n",
      "(640000, 63)\n",
      "(160000, 1)\n",
      "(160000, 63)\n",
      "Writing to s3://sagemaker-us-west-2-099176660580/sagemaker/xgboost/train/domainsDataSet.train\n",
      "Writing to s3://sagemaker-us-west-2-099176660580/sagemaker/xgboost/validation/domainsDataSet.validation\n",
      "Writing to s3://sagemaker-us-west-2-099176660580/sagemaker/xgboost/test/domainsDataSet.test\n",
      "CPU times: user 1min 2s, sys: 977 ms, total: 1min 3s\n",
      "Wall time: 1min 5s\n"
     ]
    }
   ],
   "source": [
    "%%time\n",
    "# split df in training , validation and test and save as file\n",
    "FILE_TRAIN = 'domainsDataSet.train'\n",
    "FILE_VALIDATION = 'domainsDataSet.validation'\n",
    "FILE_TEST = 'domainsDataSet.test'\n",
    "\n",
    "data_split(features=X,output_label=df_domains['Y'].values,train_file=FILE_TRAIN\n",
    "           ,validation_file=FILE_VALIDATION, test_file=FILE_TEST,test_size=0.2, random_state=42)\n",
    "\n",
    "#upload the files to the S3 bucket\n",
    "upload_to_s3(bucket, 'train', FILE_TRAIN)\n",
    "upload_to_s3(bucket, 'validation', FILE_VALIDATION)\n",
    "upload_to_s3(bucket, 'test', FILE_TEST)\n"
   ]
  },
  {
   "cell_type": "code",
   "execution_count": 16,
   "metadata": {},
   "outputs": [
    {
     "name": "stdout",
     "output_type": "stream",
     "text": [
      "1,6,8,19,7,6,16,1,3,18,15,7,5,17,16,12,17,0,0,0,0,0,0,0,0,0,0,0,0,0,0,0,0,0,0,0,0,0,0,0,0,0,0,0,0,0,0,0,0,0,0,0,0,0,0,0,0,0,0,0,0,0,0,0\r\n",
      "1,15,3,3,1,19,9,15,14,19,1,9,12,18,5,12,1,24,18,5,17,21,9,18,5,19,3,8,5,13,5,1,16,16,18,5,3,9,1,20,5,7,18,1,19,19,0,0,0,0,0,0,0,0,0,0,0,0,0,0,0,0,0,0\r\n",
      "1,17,7,18,6,9,0,0,0,0,0,0,0,0,0,0,0,0,0,0,0,0,0,0,0,0,0,0,0,0,0,0,0,0,0,0,0,0,0,0,0,0,0,0,0,0,0,0,0,0,0,0,0,0,0,0,0,0,0,0,0,0,0,0\r\n"
     ]
    }
   ],
   "source": [
    "!head -3 domainsDataSet.validation"
   ]
  },
  {
   "cell_type": "code",
   "execution_count": 17,
   "metadata": {},
   "outputs": [
    {
     "name": "stdout",
     "output_type": "stream",
     "text": [
      "test data\n",
      "0,9,20,4,1,9,12,25,4,15,3,21,13,5,14,20,1,20,9,15,14,0,0,0,0,0,0,0,0,0,0,0,0,0,0,0,0,0,0,0,0,0,0,0,0,0,0,0,0,0,0,0,0,0,0,0,0,0,0,0,0,0,0,0\n",
      "1,2,17,18,19,9,10,15,10,23,22,9,16,0,0,0,0,0,0,0,0,0,0,0,0,0,0,0,0,0,0,0,0,0,0,0,0,0,0,0,0,0,0,0,0,0,0,0,0,0,0,0,0,0,0,0,0,0,0,0,0,0,0,0\n",
      "1,22,9,12,12,1,7,5,23,15,21,12,4,0,0,0,0,0,0,0,0,0,0,0,0,0,0,0,0,0,0,0,0,0,0,0,0,0,0,0,0,0,0,0,0,0,0,0,0,0,0,0,0,0,0,0,0,0,0,0,0,0,0,0\n",
      "train data\n",
      "1,2,14,12,0,0,0,0,0,0,0,0,0,0,0,0,0,0,0,0,0,0,0,0,0,0,0,0,0,0,0,0,0,0,0,0,0,0,0,0,0,0,0,0,0,0,0,0,0,0,0,0,0,0,0,0,0,0,0,0,0,0,0,0\n",
      "0,20,14,20,7,18,15,21,16,0,0,0,0,0,0,0,0,0,0,0,0,0,0,0,0,0,0,0,0,0,0,0,0,0,0,0,0,0,0,0,0,0,0,0,0,0,0,0,0,0,0,0,0,0,0,0,0,0,0,0,0,0,0,0\n",
      "0,13,15,19,20,0,0,0,0,0,0,0,0,0,0,0,0,0,0,0,0,0,0,0,0,0,0,0,0,0,0,0,0,0,0,0,0,0,0,0,0,0,0,0,0,0,0,0,0,0,0,0,0,0,0,0,0,0,0,0,0,0,0,0\n"
     ]
    }
   ],
   "source": [
    "print('test data')\n",
    "!head -3 domainsDataSet.test\n",
    "print('train data')\n",
    "!head -3 domainsDataSet.train"
   ]
  },
  {
   "cell_type": "code",
   "execution_count": null,
   "metadata": {},
   "outputs": [],
   "source": [
    "# if train and test data is already saved repeat from here."
   ]
  },
  {
   "cell_type": "code",
   "execution_count": 18,
   "metadata": {},
   "outputs": [],
   "source": [
    "# create input\n",
    "s3_input_train = sagemaker.s3_input(s3_data='s3://{}/{}/train'.format(bucket, prefix), content_type='csv')\n",
    "s3_input_validation = sagemaker.s3_input(s3_data='s3://{}/{}/validation'.format(bucket, prefix), content_type='csv')"
   ]
  },
  {
   "cell_type": "code",
   "execution_count": 19,
   "metadata": {},
   "outputs": [
    {
     "name": "stdout",
     "output_type": "stream",
     "text": [
      "2020-05-07 23:34:21 Starting - Starting the training job...\n",
      "2020-05-07 23:34:22 Starting - Launching requested ML instances......\n",
      "2020-05-07 23:35:24 Starting - Preparing the instances for training......\n",
      "2020-05-07 23:36:27 Downloading - Downloading input data...\n",
      "2020-05-07 23:36:53 Training - Downloading the training image...\n",
      "2020-05-07 23:37:28 Training - Training image download completed. Training in progress.\u001b[34mINFO:sagemaker-containers:Imported framework sagemaker_xgboost_container.training\u001b[0m\n",
      "\u001b[34mINFO:sagemaker-containers:Failed to parse hyperparameter tree_method value auto to Json.\u001b[0m\n",
      "\u001b[34mReturning the value itself\u001b[0m\n",
      "\u001b[34mINFO:sagemaker-containers:Failed to parse hyperparameter eval_metric value error to Json.\u001b[0m\n",
      "\u001b[34mReturning the value itself\u001b[0m\n",
      "\u001b[34mINFO:sagemaker-containers:Failed to parse hyperparameter booster value gbtree to Json.\u001b[0m\n",
      "\u001b[34mReturning the value itself\u001b[0m\n",
      "\u001b[34mINFO:sagemaker-containers:Failed to parse hyperparameter objective value binary:logistic to Json.\u001b[0m\n",
      "\u001b[34mReturning the value itself\u001b[0m\n",
      "\u001b[34mINFO:sagemaker-containers:No GPUs detected (normal if no gpus installed)\u001b[0m\n",
      "\u001b[34mINFO:sagemaker_xgboost_container.training:Running XGBoost Sagemaker in algorithm mode\u001b[0m\n",
      "\u001b[34mINFO:root:Determined delimiter of CSV input is ','\u001b[0m\n",
      "\u001b[34mINFO:root:Determined delimiter of CSV input is ','\u001b[0m\n",
      "\u001b[34mINFO:root:Determined delimiter of CSV input is ','\u001b[0m\n",
      "\u001b[34m[23:37:31] 640000x63 matrix with 40320000 entries loaded from /opt/ml/input/data/train?format=csv&label_column=0&delimiter=,\u001b[0m\n",
      "\u001b[34mINFO:root:Determined delimiter of CSV input is ','\u001b[0m\n",
      "\u001b[34m[23:37:31] 160000x63 matrix with 10080000 entries loaded from /opt/ml/input/data/validation?format=csv&label_column=0&delimiter=,\u001b[0m\n",
      "\u001b[34mINFO:root:Single node training.\u001b[0m\n",
      "\u001b[34mINFO:root:Train matrix has 640000 rows\u001b[0m\n",
      "\u001b[34mINFO:root:Validation matrix has 160000 rows\u001b[0m\n",
      "\u001b[34m[0]#011train-error:0.256183#011validation-error:0.254925\u001b[0m\n",
      "\u001b[34m[1]#011train-error:0.24575#011validation-error:0.244944\u001b[0m\n",
      "\u001b[34m[2]#011train-error:0.230623#011validation-error:0.229256\u001b[0m\n",
      "\u001b[34m[3]#011train-error:0.215186#011validation-error:0.215294\u001b[0m\n",
      "\u001b[34m[4]#011train-error:0.204889#011validation-error:0.204563\u001b[0m\n",
      "\u001b[34m[5]#011train-error:0.195023#011validation-error:0.194969\u001b[0m\n",
      "\u001b[34m[6]#011train-error:0.183158#011validation-error:0.183413\u001b[0m\n",
      "\u001b[34m[7]#011train-error:0.17737#011validation-error:0.176744\u001b[0m\n",
      "\u001b[34m[8]#011train-error:0.173416#011validation-error:0.173175\u001b[0m\n",
      "\u001b[34m[9]#011train-error:0.169847#011validation-error:0.170006\u001b[0m\n",
      "\u001b[34m[10]#011train-error:0.164094#011validation-error:0.163506\u001b[0m\n",
      "\u001b[34m[11]#011train-error:0.158353#011validation-error:0.15885\u001b[0m\n",
      "\u001b[34m[12]#011train-error:0.154694#011validation-error:0.1546\u001b[0m\n",
      "\u001b[34m[13]#011train-error:0.151272#011validation-error:0.151362\u001b[0m\n",
      "\u001b[34m[14]#011train-error:0.147948#011validation-error:0.147862\u001b[0m\n",
      "\u001b[34m[15]#011train-error:0.142484#011validation-error:0.142287\u001b[0m\n",
      "\u001b[34m[16]#011train-error:0.14048#011validation-error:0.140281\u001b[0m\n",
      "\u001b[34m[17]#011train-error:0.137264#011validation-error:0.13715\u001b[0m\n",
      "\u001b[34m[18]#011train-error:0.132173#011validation-error:0.131706\u001b[0m\n",
      "\u001b[34m[19]#011train-error:0.131011#011validation-error:0.130313\u001b[0m\n",
      "\u001b[34m[20]#011train-error:0.128513#011validation-error:0.1283\u001b[0m\n",
      "\u001b[34m[21]#011train-error:0.1265#011validation-error:0.126319\u001b[0m\n",
      "\u001b[34m[22]#011train-error:0.124266#011validation-error:0.124388\u001b[0m\n",
      "\u001b[34m[23]#011train-error:0.121419#011validation-error:0.121813\u001b[0m\n",
      "\u001b[34m[24]#011train-error:0.116159#011validation-error:0.116163\u001b[0m\n",
      "\u001b[34m[25]#011train-error:0.114427#011validation-error:0.114231\u001b[0m\n",
      "\u001b[34m[26]#011train-error:0.113833#011validation-error:0.113288\u001b[0m\n",
      "\u001b[34m[27]#011train-error:0.113414#011validation-error:0.112869\u001b[0m\n",
      "\u001b[34m[28]#011train-error:0.111145#011validation-error:0.110694\u001b[0m\n",
      "\u001b[34m[29]#011train-error:0.109441#011validation-error:0.108806\u001b[0m\n",
      "\u001b[34m[30]#011train-error:0.10685#011validation-error:0.106587\u001b[0m\n",
      "\u001b[34m[31]#011train-error:0.104822#011validation-error:0.104619\u001b[0m\n",
      "\u001b[34m[32]#011train-error:0.104116#011validation-error:0.104031\u001b[0m\n",
      "\u001b[34m[33]#011train-error:0.103611#011validation-error:0.103444\u001b[0m\n",
      "\u001b[34m[34]#011train-error:0.103244#011validation-error:0.103531\u001b[0m\n",
      "\u001b[34m[35]#011train-error:0.102069#011validation-error:0.102319\u001b[0m\n",
      "\u001b[34m[36]#011train-error:0.101392#011validation-error:0.101562\u001b[0m\n",
      "\u001b[34m[37]#011train-error:0.099683#011validation-error:0.099463\u001b[0m\n",
      "\u001b[34m[38]#011train-error:0.09788#011validation-error:0.097625\u001b[0m\n",
      "\u001b[34m[39]#011train-error:0.097667#011validation-error:0.097644\u001b[0m\n",
      "\u001b[34m[40]#011train-error:0.096842#011validation-error:0.096662\u001b[0m\n",
      "\u001b[34m[41]#011train-error:0.096395#011validation-error:0.096088\u001b[0m\n",
      "\u001b[34m[42]#011train-error:0.095622#011validation-error:0.095375\u001b[0m\n",
      "\u001b[34m[43]#011train-error:0.093837#011validation-error:0.093419\u001b[0m\n",
      "\u001b[34m[44]#011train-error:0.093048#011validation-error:0.092731\u001b[0m\n",
      "\u001b[34m[45]#011train-error:0.092255#011validation-error:0.091869\u001b[0m\n",
      "\u001b[34m[46]#011train-error:0.091278#011validation-error:0.091213\u001b[0m\n",
      "\u001b[34m[47]#011train-error:0.0895#011validation-error:0.089625\u001b[0m\n",
      "\u001b[34m[48]#011train-error:0.08817#011validation-error:0.088437\u001b[0m\n",
      "\u001b[34m[49]#011train-error:0.087581#011validation-error:0.087738\u001b[0m\n",
      "\u001b[34m[50]#011train-error:0.086986#011validation-error:0.087081\u001b[0m\n",
      "\u001b[34m[51]#011train-error:0.086852#011validation-error:0.086981\u001b[0m\n",
      "\u001b[34m[52]#011train-error:0.0852#011validation-error:0.085487\u001b[0m\n",
      "\u001b[34m[53]#011train-error:0.084044#011validation-error:0.084163\u001b[0m\n",
      "\u001b[34m[54]#011train-error:0.083453#011validation-error:0.083512\u001b[0m\n",
      "\u001b[34m[55]#011train-error:0.082325#011validation-error:0.082394\u001b[0m\n",
      "\u001b[34m[56]#011train-error:0.082052#011validation-error:0.082156\u001b[0m\n",
      "\u001b[34m[57]#011train-error:0.081506#011validation-error:0.081437\u001b[0m\n",
      "\u001b[34m[58]#011train-error:0.080784#011validation-error:0.080625\u001b[0m\n",
      "\u001b[34m[59]#011train-error:0.080336#011validation-error:0.080425\u001b[0m\n",
      "\u001b[34m[60]#011train-error:0.079164#011validation-error:0.079306\u001b[0m\n",
      "\u001b[34m[61]#011train-error:0.078617#011validation-error:0.078919\u001b[0m\n",
      "\u001b[34m[62]#011train-error:0.078155#011validation-error:0.078575\u001b[0m\n",
      "\u001b[34m[63]#011train-error:0.078009#011validation-error:0.078431\u001b[0m\n",
      "\u001b[34m[64]#011train-error:0.077292#011validation-error:0.077887\u001b[0m\n",
      "\u001b[34m[65]#011train-error:0.077008#011validation-error:0.077612\u001b[0m\n",
      "\u001b[34m[66]#011train-error:0.077084#011validation-error:0.077588\u001b[0m\n",
      "\u001b[34m[67]#011train-error:0.076289#011validation-error:0.076831\u001b[0m\n",
      "\u001b[34m[68]#011train-error:0.075598#011validation-error:0.075756\u001b[0m\n",
      "\u001b[34m[69]#011train-error:0.075161#011validation-error:0.075619\u001b[0m\n",
      "\u001b[34m[70]#011train-error:0.074533#011validation-error:0.07525\u001b[0m\n",
      "\u001b[34m[71]#011train-error:0.074573#011validation-error:0.075237\u001b[0m\n",
      "\u001b[34m[72]#011train-error:0.074336#011validation-error:0.075019\u001b[0m\n",
      "\u001b[34m[73]#011train-error:0.074011#011validation-error:0.074525\u001b[0m\n",
      "\u001b[34m[74]#011train-error:0.073509#011validation-error:0.073837\u001b[0m\n",
      "\u001b[34m[75]#011train-error:0.073481#011validation-error:0.073831\u001b[0m\n",
      "\u001b[34m[76]#011train-error:0.07323#011validation-error:0.073506\u001b[0m\n",
      "\u001b[34m[77]#011train-error:0.072778#011validation-error:0.072981\u001b[0m\n",
      "\u001b[34m[78]#011train-error:0.0723#011validation-error:0.072556\u001b[0m\n",
      "\u001b[34m[79]#011train-error:0.072122#011validation-error:0.072287\u001b[0m\n",
      "\u001b[34m[80]#011train-error:0.071916#011validation-error:0.072081\u001b[0m\n",
      "\u001b[34m[81]#011train-error:0.071672#011validation-error:0.072006\u001b[0m\n",
      "\u001b[34m[82]#011train-error:0.071269#011validation-error:0.071319\u001b[0m\n",
      "\u001b[34m[83]#011train-error:0.07073#011validation-error:0.071038\u001b[0m\n",
      "\u001b[34m[84]#011train-error:0.070222#011validation-error:0.070525\u001b[0m\n",
      "\u001b[34m[85]#011train-error:0.069956#011validation-error:0.070331\u001b[0m\n",
      "\u001b[34m[86]#011train-error:0.069927#011validation-error:0.070275\u001b[0m\n",
      "\u001b[34m[87]#011train-error:0.06975#011validation-error:0.070288\u001b[0m\n",
      "\u001b[34m[88]#011train-error:0.069598#011validation-error:0.070131\u001b[0m\n",
      "\u001b[34m[89]#011train-error:0.069159#011validation-error:0.069637\u001b[0m\n",
      "\u001b[34m[90]#011train-error:0.068486#011validation-error:0.069244\u001b[0m\n",
      "\u001b[34m[91]#011train-error:0.068053#011validation-error:0.06905\u001b[0m\n",
      "\u001b[34m[92]#011train-error:0.067759#011validation-error:0.068444\u001b[0m\n",
      "\u001b[34m[93]#011train-error:0.067267#011validation-error:0.067956\u001b[0m\n",
      "\u001b[34m[94]#011train-error:0.067039#011validation-error:0.067737\u001b[0m\n",
      "\u001b[34m[95]#011train-error:0.066873#011validation-error:0.067525\u001b[0m\n",
      "\u001b[34m[96]#011train-error:0.066661#011validation-error:0.067363\u001b[0m\n",
      "\u001b[34m[97]#011train-error:0.066309#011validation-error:0.067106\u001b[0m\n",
      "\u001b[34m[98]#011train-error:0.066289#011validation-error:0.067056\u001b[0m\n"
     ]
    },
    {
     "name": "stdout",
     "output_type": "stream",
     "text": [
      "\u001b[34m[99]#011train-error:0.065977#011validation-error:0.06685\u001b[0m\n",
      "\u001b[34m[100]#011train-error:0.065948#011validation-error:0.066875\u001b[0m\n",
      "\u001b[34m[101]#011train-error:0.065892#011validation-error:0.066856\u001b[0m\n",
      "\u001b[34m[102]#011train-error:0.065477#011validation-error:0.066463\u001b[0m\n",
      "\u001b[34m[103]#011train-error:0.065331#011validation-error:0.066238\u001b[0m\n",
      "\u001b[34m[104]#011train-error:0.065023#011validation-error:0.065819\u001b[0m\n",
      "\u001b[34m[105]#011train-error:0.064923#011validation-error:0.065788\u001b[0m\n",
      "\u001b[34m[106]#011train-error:0.064595#011validation-error:0.065625\u001b[0m\n",
      "\u001b[34m[107]#011train-error:0.064536#011validation-error:0.065506\u001b[0m\n",
      "\u001b[34m[108]#011train-error:0.064141#011validation-error:0.065194\u001b[0m\n",
      "\u001b[34m[109]#011train-error:0.064116#011validation-error:0.065194\u001b[0m\n",
      "\u001b[34m[110]#011train-error:0.064078#011validation-error:0.065169\u001b[0m\n",
      "\u001b[34m[111]#011train-error:0.064048#011validation-error:0.065181\u001b[0m\n",
      "\u001b[34m[112]#011train-error:0.063581#011validation-error:0.064737\u001b[0m\n",
      "\u001b[34m[113]#011train-error:0.063408#011validation-error:0.064731\u001b[0m\n",
      "\u001b[34m[114]#011train-error:0.063234#011validation-error:0.06455\u001b[0m\n",
      "\u001b[34m[115]#011train-error:0.063164#011validation-error:0.064475\u001b[0m\n",
      "\u001b[34m[116]#011train-error:0.062964#011validation-error:0.064337\u001b[0m\n",
      "\u001b[34m[117]#011train-error:0.062839#011validation-error:0.06425\u001b[0m\n",
      "\u001b[34m[118]#011train-error:0.062644#011validation-error:0.064038\u001b[0m\n",
      "\u001b[34m[119]#011train-error:0.062614#011validation-error:0.064025\u001b[0m\n",
      "\u001b[34m[120]#011train-error:0.062611#011validation-error:0.064006\u001b[0m\n",
      "\u001b[34m[121]#011train-error:0.062523#011validation-error:0.06395\u001b[0m\n",
      "\u001b[34m[122]#011train-error:0.0624#011validation-error:0.063819\u001b[0m\n",
      "\u001b[34m[123]#011train-error:0.062175#011validation-error:0.063588\u001b[0m\n",
      "\u001b[34m[124]#011train-error:0.061975#011validation-error:0.063588\u001b[0m\n",
      "\u001b[34m[125]#011train-error:0.061738#011validation-error:0.063419\u001b[0m\n",
      "\u001b[34m[126]#011train-error:0.061477#011validation-error:0.063138\u001b[0m\n",
      "\u001b[34m[127]#011train-error:0.061377#011validation-error:0.063112\u001b[0m\n",
      "\u001b[34m[128]#011train-error:0.061097#011validation-error:0.062706\u001b[0m\n",
      "\u001b[34m[129]#011train-error:0.060859#011validation-error:0.06265\u001b[0m\n",
      "\u001b[34m[130]#011train-error:0.060684#011validation-error:0.062381\u001b[0m\n",
      "\u001b[34m[131]#011train-error:0.060425#011validation-error:0.062275\u001b[0m\n",
      "\u001b[34m[132]#011train-error:0.06033#011validation-error:0.062206\u001b[0m\n",
      "\u001b[34m[133]#011train-error:0.06027#011validation-error:0.062081\u001b[0m\n",
      "\u001b[34m[134]#011train-error:0.060234#011validation-error:0.062081\u001b[0m\n",
      "\u001b[34m[135]#011train-error:0.060197#011validation-error:0.062087\u001b[0m\n",
      "\u001b[34m[136]#011train-error:0.059677#011validation-error:0.061625\u001b[0m\n",
      "\u001b[34m[137]#011train-error:0.059563#011validation-error:0.061575\u001b[0m\n",
      "\u001b[34m[138]#011train-error:0.059534#011validation-error:0.061631\u001b[0m\n",
      "\u001b[34m[139]#011train-error:0.059113#011validation-error:0.061156\u001b[0m\n",
      "\u001b[34m[140]#011train-error:0.059012#011validation-error:0.061131\u001b[0m\n",
      "\u001b[34m[141]#011train-error:0.058766#011validation-error:0.060875\u001b[0m\n",
      "\u001b[34m[142]#011train-error:0.058759#011validation-error:0.060756\u001b[0m\n",
      "\u001b[34m[143]#011train-error:0.058517#011validation-error:0.060719\u001b[0m\n",
      "\u001b[34m[144]#011train-error:0.058295#011validation-error:0.060688\u001b[0m\n",
      "\u001b[34m[145]#011train-error:0.058217#011validation-error:0.060638\u001b[0m\n",
      "\u001b[34m[146]#011train-error:0.058094#011validation-error:0.060575\u001b[0m\n",
      "\u001b[34m[147]#011train-error:0.058105#011validation-error:0.060531\u001b[0m\n",
      "\u001b[34m[148]#011train-error:0.058105#011validation-error:0.060475\u001b[0m\n",
      "\u001b[34m[149]#011train-error:0.058075#011validation-error:0.0604\u001b[0m\n",
      "\u001b[34m[150]#011train-error:0.058044#011validation-error:0.060438\u001b[0m\n",
      "\u001b[34m[151]#011train-error:0.057752#011validation-error:0.060031\u001b[0m\n",
      "\u001b[34m[152]#011train-error:0.057586#011validation-error:0.059806\u001b[0m\n",
      "\u001b[34m[153]#011train-error:0.057566#011validation-error:0.059838\u001b[0m\n",
      "\u001b[34m[154]#011train-error:0.057372#011validation-error:0.059594\u001b[0m\n",
      "\u001b[34m[155]#011train-error:0.057159#011validation-error:0.059594\u001b[0m\n",
      "\u001b[34m[156]#011train-error:0.057042#011validation-error:0.059462\u001b[0m\n",
      "\u001b[34m[157]#011train-error:0.056964#011validation-error:0.059394\u001b[0m\n",
      "\u001b[34m[158]#011train-error:0.056945#011validation-error:0.059381\u001b[0m\n",
      "\u001b[34m[159]#011train-error:0.056906#011validation-error:0.059388\u001b[0m\n",
      "\u001b[34m[160]#011train-error:0.05677#011validation-error:0.059275\u001b[0m\n",
      "\u001b[34m[161]#011train-error:0.056714#011validation-error:0.059188\u001b[0m\n",
      "\u001b[34m[162]#011train-error:0.056713#011validation-error:0.059169\u001b[0m\n",
      "\u001b[34m[163]#011train-error:0.056728#011validation-error:0.059156\u001b[0m\n",
      "\u001b[34m[164]#011train-error:0.056516#011validation-error:0.059019\u001b[0m\n",
      "\u001b[34m[165]#011train-error:0.056377#011validation-error:0.0589\u001b[0m\n",
      "\u001b[34m[166]#011train-error:0.056228#011validation-error:0.0589\u001b[0m\n",
      "\u001b[34m[167]#011train-error:0.056158#011validation-error:0.058856\u001b[0m\n",
      "\u001b[34m[168]#011train-error:0.056127#011validation-error:0.058856\u001b[0m\n",
      "\u001b[34m[169]#011train-error:0.056047#011validation-error:0.058787\u001b[0m\n",
      "\u001b[34m[170]#011train-error:0.055989#011validation-error:0.058738\u001b[0m\n",
      "\u001b[34m[171]#011train-error:0.055925#011validation-error:0.058719\u001b[0m\n",
      "\u001b[34m[172]#011train-error:0.055895#011validation-error:0.058713\u001b[0m\n",
      "\u001b[34m[173]#011train-error:0.055823#011validation-error:0.058606\u001b[0m\n",
      "\u001b[34m[174]#011train-error:0.055695#011validation-error:0.058519\u001b[0m\n",
      "\u001b[34m[175]#011train-error:0.055403#011validation-error:0.058362\u001b[0m\n",
      "\u001b[34m[176]#011train-error:0.055158#011validation-error:0.058144\u001b[0m\n",
      "\u001b[34m[177]#011train-error:0.055028#011validation-error:0.058106\u001b[0m\n",
      "\u001b[34m[178]#011train-error:0.055014#011validation-error:0.058131\u001b[0m\n",
      "\u001b[34m[179]#011train-error:0.054786#011validation-error:0.057831\u001b[0m\n",
      "\u001b[34m[180]#011train-error:0.054695#011validation-error:0.057656\u001b[0m\n",
      "\u001b[34m[181]#011train-error:0.054566#011validation-error:0.057537\u001b[0m\n",
      "\u001b[34m[182]#011train-error:0.05445#011validation-error:0.057487\u001b[0m\n",
      "\u001b[34m[183]#011train-error:0.054391#011validation-error:0.057369\u001b[0m\n",
      "\u001b[34m[184]#011train-error:0.054303#011validation-error:0.057262\u001b[0m\n",
      "\u001b[34m[185]#011train-error:0.054172#011validation-error:0.057169\u001b[0m\n",
      "\u001b[34m[186]#011train-error:0.053983#011validation-error:0.0571\u001b[0m\n",
      "\u001b[34m[187]#011train-error:0.053759#011validation-error:0.056931\u001b[0m\n",
      "\u001b[34m[188]#011train-error:0.053728#011validation-error:0.056919\u001b[0m\n",
      "\u001b[34m[189]#011train-error:0.053606#011validation-error:0.056694\u001b[0m\n",
      "\u001b[34m[190]#011train-error:0.053553#011validation-error:0.0566\u001b[0m\n",
      "\u001b[34m[191]#011train-error:0.05338#011validation-error:0.056475\u001b[0m\n",
      "\u001b[34m[192]#011train-error:0.053219#011validation-error:0.056375\u001b[0m\n",
      "\u001b[34m[193]#011train-error:0.053055#011validation-error:0.056344\u001b[0m\n",
      "\u001b[34m[194]#011train-error:0.052897#011validation-error:0.056156\u001b[0m\n",
      "\u001b[34m[195]#011train-error:0.052783#011validation-error:0.056056\u001b[0m\n",
      "\u001b[34m[196]#011train-error:0.052631#011validation-error:0.055906\u001b[0m\n",
      "\u001b[34m[197]#011train-error:0.052623#011validation-error:0.055831\u001b[0m\n",
      "\u001b[34m[198]#011train-error:0.052361#011validation-error:0.055781\u001b[0m\n",
      "\u001b[34m[199]#011train-error:0.052258#011validation-error:0.055663\u001b[0m\n",
      "\u001b[34m[200]#011train-error:0.05225#011validation-error:0.055638\u001b[0m\n",
      "\u001b[34m[201]#011train-error:0.052169#011validation-error:0.055531\u001b[0m\n",
      "\u001b[34m[202]#011train-error:0.052075#011validation-error:0.055487\u001b[0m\n",
      "\u001b[34m[203]#011train-error:0.05183#011validation-error:0.055306\u001b[0m\n",
      "\u001b[34m[204]#011train-error:0.051773#011validation-error:0.055244\u001b[0m\n",
      "\u001b[34m[205]#011train-error:0.05172#011validation-error:0.055106\u001b[0m\n",
      "\u001b[34m[206]#011train-error:0.051695#011validation-error:0.055081\u001b[0m\n",
      "\u001b[34m[207]#011train-error:0.05167#011validation-error:0.055062\u001b[0m\n",
      "\u001b[34m[208]#011train-error:0.051586#011validation-error:0.055025\u001b[0m\n",
      "\u001b[34m[209]#011train-error:0.051556#011validation-error:0.055013\u001b[0m\n",
      "\u001b[34m[210]#011train-error:0.05153#011validation-error:0.055025\u001b[0m\n",
      "\u001b[34m[211]#011train-error:0.051508#011validation-error:0.055037\u001b[0m\n",
      "\u001b[34m[212]#011train-error:0.051497#011validation-error:0.055031\u001b[0m\n",
      "\u001b[34m[213]#011train-error:0.051459#011validation-error:0.055\u001b[0m\n",
      "\u001b[34m[214]#011train-error:0.05135#011validation-error:0.054944\u001b[0m\n",
      "\u001b[34m[215]#011train-error:0.051337#011validation-error:0.054906\u001b[0m\n",
      "\u001b[34m[216]#011train-error:0.051302#011validation-error:0.054881\u001b[0m\n",
      "\u001b[34m[217]#011train-error:0.051153#011validation-error:0.054837\u001b[0m\n",
      "\u001b[34m[218]#011train-error:0.051147#011validation-error:0.054794\u001b[0m\n",
      "\u001b[34m[219]#011train-error:0.051134#011validation-error:0.054794\u001b[0m\n",
      "\u001b[34m[220]#011train-error:0.051105#011validation-error:0.054794\u001b[0m\n",
      "\u001b[34m[221]#011train-error:0.050922#011validation-error:0.054738\u001b[0m\n",
      "\u001b[34m[222]#011train-error:0.050808#011validation-error:0.0545\u001b[0m\n",
      "\u001b[34m[223]#011train-error:0.050714#011validation-error:0.054444\u001b[0m\n",
      "\u001b[34m[224]#011train-error:0.050631#011validation-error:0.054431\u001b[0m\n",
      "\u001b[34m[225]#011train-error:0.050455#011validation-error:0.054456\u001b[0m\n",
      "\u001b[34m[226]#011train-error:0.050375#011validation-error:0.054412\u001b[0m\n",
      "\u001b[34m[227]#011train-error:0.050348#011validation-error:0.054369\u001b[0m\n",
      "\u001b[34m[228]#011train-error:0.050186#011validation-error:0.054494\u001b[0m\n",
      "\u001b[34m[229]#011train-error:0.050052#011validation-error:0.054313\u001b[0m\n",
      "\u001b[34m[230]#011train-error:0.050016#011validation-error:0.054281\u001b[0m\n"
     ]
    },
    {
     "name": "stdout",
     "output_type": "stream",
     "text": [
      "\u001b[34m[231]#011train-error:0.049888#011validation-error:0.054144\u001b[0m\n",
      "\u001b[34m[232]#011train-error:0.049817#011validation-error:0.0542\u001b[0m\n",
      "\u001b[34m[233]#011train-error:0.049645#011validation-error:0.054113\u001b[0m\n",
      "\u001b[34m[234]#011train-error:0.049628#011validation-error:0.054\u001b[0m\n",
      "\u001b[34m[235]#011train-error:0.04962#011validation-error:0.054\u001b[0m\n",
      "\u001b[34m[236]#011train-error:0.04952#011validation-error:0.0539\u001b[0m\n",
      "\u001b[34m[237]#011train-error:0.049466#011validation-error:0.053863\u001b[0m\n",
      "\u001b[34m[238]#011train-error:0.049345#011validation-error:0.053875\u001b[0m\n",
      "\u001b[34m[239]#011train-error:0.049331#011validation-error:0.053863\u001b[0m\n",
      "\u001b[34m[240]#011train-error:0.049275#011validation-error:0.053694\u001b[0m\n",
      "\u001b[34m[241]#011train-error:0.049147#011validation-error:0.053644\u001b[0m\n",
      "\u001b[34m[242]#011train-error:0.049048#011validation-error:0.053669\u001b[0m\n",
      "\u001b[34m[243]#011train-error:0.048889#011validation-error:0.053531\u001b[0m\n",
      "\u001b[34m[244]#011train-error:0.048792#011validation-error:0.053469\u001b[0m\n",
      "\u001b[34m[245]#011train-error:0.048722#011validation-error:0.053494\u001b[0m\n",
      "\u001b[34m[246]#011train-error:0.048641#011validation-error:0.053425\u001b[0m\n",
      "\u001b[34m[247]#011train-error:0.048558#011validation-error:0.053287\u001b[0m\n",
      "\u001b[34m[248]#011train-error:0.048505#011validation-error:0.053344\u001b[0m\n",
      "\u001b[34m[249]#011train-error:0.048323#011validation-error:0.053219\u001b[0m\n",
      "\u001b[34m[250]#011train-error:0.048211#011validation-error:0.053225\u001b[0m\n",
      "\u001b[34m[251]#011train-error:0.048062#011validation-error:0.053081\u001b[0m\n",
      "\u001b[34m[252]#011train-error:0.048011#011validation-error:0.052988\u001b[0m\n",
      "\u001b[34m[253]#011train-error:0.047927#011validation-error:0.052912\u001b[0m\n",
      "\u001b[34m[254]#011train-error:0.047883#011validation-error:0.052887\u001b[0m\n",
      "\u001b[34m[255]#011train-error:0.047808#011validation-error:0.052788\u001b[0m\n",
      "\u001b[34m[256]#011train-error:0.047738#011validation-error:0.052687\u001b[0m\n",
      "\u001b[34m[257]#011train-error:0.047713#011validation-error:0.052694\u001b[0m\n",
      "\u001b[34m[258]#011train-error:0.047641#011validation-error:0.052625\u001b[0m\n",
      "\u001b[34m[259]#011train-error:0.047631#011validation-error:0.052625\u001b[0m\n",
      "\u001b[34m[260]#011train-error:0.047633#011validation-error:0.052631\u001b[0m\n",
      "\u001b[34m[261]#011train-error:0.047577#011validation-error:0.052575\u001b[0m\n",
      "\u001b[34m[262]#011train-error:0.047503#011validation-error:0.05255\u001b[0m\n",
      "\u001b[34m[263]#011train-error:0.047453#011validation-error:0.052437\u001b[0m\n",
      "\u001b[34m[264]#011train-error:0.047414#011validation-error:0.0523\u001b[0m\n",
      "\u001b[34m[265]#011train-error:0.047298#011validation-error:0.052194\u001b[0m\n",
      "\u001b[34m[266]#011train-error:0.047294#011validation-error:0.052194\u001b[0m\n",
      "\u001b[34m[267]#011train-error:0.047242#011validation-error:0.052225\u001b[0m\n",
      "\u001b[34m[268]#011train-error:0.047164#011validation-error:0.052206\u001b[0m\n",
      "\u001b[34m[269]#011train-error:0.047175#011validation-error:0.052206\u001b[0m\n",
      "\u001b[34m[270]#011train-error:0.046962#011validation-error:0.052181\u001b[0m\n",
      "\u001b[34m[271]#011train-error:0.046875#011validation-error:0.052094\u001b[0m\n",
      "\u001b[34m[272]#011train-error:0.046822#011validation-error:0.05185\u001b[0m\n",
      "\u001b[34m[273]#011train-error:0.046752#011validation-error:0.051931\u001b[0m\n",
      "\u001b[34m[274]#011train-error:0.046638#011validation-error:0.051919\u001b[0m\n",
      "\u001b[34m[275]#011train-error:0.046625#011validation-error:0.051919\u001b[0m\n",
      "\u001b[34m[276]#011train-error:0.046622#011validation-error:0.051925\u001b[0m\n",
      "\u001b[34m[277]#011train-error:0.046573#011validation-error:0.051825\u001b[0m\n",
      "\u001b[34m[278]#011train-error:0.046497#011validation-error:0.051838\u001b[0m\n",
      "\u001b[34m[279]#011train-error:0.046383#011validation-error:0.051762\u001b[0m\n",
      "\u001b[34m[280]#011train-error:0.046348#011validation-error:0.0518\u001b[0m\n",
      "\u001b[34m[281]#011train-error:0.046294#011validation-error:0.051731\u001b[0m\n",
      "\u001b[34m[282]#011train-error:0.046214#011validation-error:0.051638\u001b[0m\n",
      "\u001b[34m[283]#011train-error:0.046109#011validation-error:0.05165\u001b[0m\n",
      "\u001b[34m[284]#011train-error:0.045998#011validation-error:0.051631\u001b[0m\n",
      "\u001b[34m[285]#011train-error:0.045977#011validation-error:0.051544\u001b[0m\n",
      "\u001b[34m[286]#011train-error:0.045975#011validation-error:0.051537\u001b[0m\n",
      "\u001b[34m[287]#011train-error:0.045941#011validation-error:0.051506\u001b[0m\n",
      "\u001b[34m[288]#011train-error:0.045931#011validation-error:0.051544\u001b[0m\n",
      "\u001b[34m[289]#011train-error:0.045911#011validation-error:0.051488\u001b[0m\n",
      "\u001b[34m[290]#011train-error:0.045883#011validation-error:0.051481\u001b[0m\n",
      "\u001b[34m[291]#011train-error:0.04577#011validation-error:0.051469\u001b[0m\n",
      "\u001b[34m[292]#011train-error:0.045747#011validation-error:0.051463\u001b[0m\n",
      "\u001b[34m[293]#011train-error:0.045688#011validation-error:0.051394\u001b[0m\n",
      "\u001b[34m[294]#011train-error:0.045684#011validation-error:0.051419\u001b[0m\n",
      "\u001b[34m[295]#011train-error:0.045583#011validation-error:0.051419\u001b[0m\n",
      "\u001b[34m[296]#011train-error:0.045459#011validation-error:0.0514\u001b[0m\n",
      "\u001b[34m[297]#011train-error:0.045409#011validation-error:0.051381\u001b[0m\n",
      "\u001b[34m[298]#011train-error:0.045416#011validation-error:0.051381\u001b[0m\n",
      "\u001b[34m[299]#011train-error:0.045373#011validation-error:0.051356\u001b[0m\n",
      "\u001b[34m[300]#011train-error:0.045339#011validation-error:0.051356\u001b[0m\n",
      "\u001b[34m[301]#011train-error:0.045337#011validation-error:0.051312\u001b[0m\n",
      "\u001b[34m[302]#011train-error:0.045303#011validation-error:0.051319\u001b[0m\n",
      "\u001b[34m[303]#011train-error:0.045289#011validation-error:0.051306\u001b[0m\n",
      "\u001b[34m[304]#011train-error:0.045139#011validation-error:0.051244\u001b[0m\n",
      "\u001b[34m[305]#011train-error:0.045031#011validation-error:0.051162\u001b[0m\n",
      "\u001b[34m[306]#011train-error:0.044973#011validation-error:0.051062\u001b[0m\n",
      "\u001b[34m[307]#011train-error:0.044914#011validation-error:0.051\u001b[0m\n",
      "\u001b[34m[308]#011train-error:0.044853#011validation-error:0.051025\u001b[0m\n",
      "\u001b[34m[309]#011train-error:0.044809#011validation-error:0.051031\u001b[0m\n",
      "\u001b[34m[310]#011train-error:0.044781#011validation-error:0.050963\u001b[0m\n",
      "\u001b[34m[311]#011train-error:0.044691#011validation-error:0.050994\u001b[0m\n",
      "\u001b[34m[312]#011train-error:0.0446#011validation-error:0.050981\u001b[0m\n",
      "\u001b[34m[313]#011train-error:0.044492#011validation-error:0.050994\u001b[0m\n",
      "\u001b[34m[314]#011train-error:0.0444#011validation-error:0.050956\u001b[0m\n",
      "\u001b[34m[315]#011train-error:0.044281#011validation-error:0.050931\u001b[0m\n",
      "\u001b[34m[316]#011train-error:0.044208#011validation-error:0.050825\u001b[0m\n",
      "\u001b[34m[317]#011train-error:0.044173#011validation-error:0.05075\u001b[0m\n",
      "\u001b[34m[318]#011train-error:0.044141#011validation-error:0.050738\u001b[0m\n",
      "\u001b[34m[319]#011train-error:0.0441#011validation-error:0.050719\u001b[0m\n",
      "\u001b[34m[320]#011train-error:0.044003#011validation-error:0.050644\u001b[0m\n",
      "\u001b[34m[321]#011train-error:0.043938#011validation-error:0.050613\u001b[0m\n",
      "\u001b[34m[322]#011train-error:0.043906#011validation-error:0.050569\u001b[0m\n",
      "\u001b[34m[323]#011train-error:0.043908#011validation-error:0.050569\u001b[0m\n",
      "\u001b[34m[324]#011train-error:0.043837#011validation-error:0.0505\u001b[0m\n",
      "\u001b[34m[325]#011train-error:0.043769#011validation-error:0.050444\u001b[0m\n",
      "\u001b[34m[326]#011train-error:0.043672#011validation-error:0.050319\u001b[0m\n",
      "\u001b[34m[327]#011train-error:0.043589#011validation-error:0.050244\u001b[0m\n",
      "\u001b[34m[328]#011train-error:0.043558#011validation-error:0.05025\u001b[0m\n",
      "\u001b[34m[329]#011train-error:0.043561#011validation-error:0.050169\u001b[0m\n",
      "\u001b[34m[330]#011train-error:0.043467#011validation-error:0.050031\u001b[0m\n",
      "\u001b[34m[331]#011train-error:0.043397#011validation-error:0.050037\u001b[0m\n",
      "\u001b[34m[332]#011train-error:0.043244#011validation-error:0.049969\u001b[0m\n",
      "\u001b[34m[333]#011train-error:0.043147#011validation-error:0.049863\u001b[0m\n",
      "\u001b[34m[334]#011train-error:0.043077#011validation-error:0.049831\u001b[0m\n",
      "\u001b[34m[335]#011train-error:0.043019#011validation-error:0.049744\u001b[0m\n",
      "\u001b[34m[336]#011train-error:0.042987#011validation-error:0.049719\u001b[0m\n",
      "\u001b[34m[337]#011train-error:0.042928#011validation-error:0.049719\u001b[0m\n",
      "\u001b[34m[338]#011train-error:0.042864#011validation-error:0.049544\u001b[0m\n",
      "\u001b[34m[339]#011train-error:0.042731#011validation-error:0.049544\u001b[0m\n",
      "\u001b[34m[340]#011train-error:0.042648#011validation-error:0.049525\u001b[0m\n",
      "\u001b[34m[341]#011train-error:0.042575#011validation-error:0.049456\u001b[0m\n",
      "\u001b[34m[342]#011train-error:0.042467#011validation-error:0.0493\u001b[0m\n",
      "\u001b[34m[343]#011train-error:0.04238#011validation-error:0.049331\u001b[0m\n",
      "\u001b[34m[344]#011train-error:0.042295#011validation-error:0.049275\u001b[0m\n",
      "\u001b[34m[345]#011train-error:0.04223#011validation-error:0.049263\u001b[0m\n",
      "\u001b[34m[346]#011train-error:0.042128#011validation-error:0.04925\u001b[0m\n",
      "\u001b[34m[347]#011train-error:0.042005#011validation-error:0.049063\u001b[0m\n",
      "\u001b[34m[348]#011train-error:0.041958#011validation-error:0.048981\u001b[0m\n",
      "\u001b[34m[349]#011train-error:0.041902#011validation-error:0.048994\u001b[0m\n",
      "\u001b[34m[350]#011train-error:0.041825#011validation-error:0.049025\u001b[0m\n",
      "\u001b[34m[351]#011train-error:0.041788#011validation-error:0.048975\u001b[0m\n",
      "\u001b[34m[352]#011train-error:0.041756#011validation-error:0.048962\u001b[0m\n",
      "\u001b[34m[353]#011train-error:0.041713#011validation-error:0.04885\u001b[0m\n",
      "\u001b[34m[354]#011train-error:0.041675#011validation-error:0.04875\u001b[0m\n",
      "\u001b[34m[355]#011train-error:0.041642#011validation-error:0.048756\u001b[0m\n",
      "\u001b[34m[356]#011train-error:0.041581#011validation-error:0.048662\u001b[0m\n",
      "\u001b[34m[357]#011train-error:0.041556#011validation-error:0.048637\u001b[0m\n",
      "\u001b[34m[358]#011train-error:0.041527#011validation-error:0.048669\u001b[0m\n",
      "\u001b[34m[359]#011train-error:0.04152#011validation-error:0.048669\u001b[0m\n",
      "\u001b[34m[360]#011train-error:0.041437#011validation-error:0.048594\u001b[0m\n",
      "\u001b[34m[361]#011train-error:0.041403#011validation-error:0.048581\u001b[0m\n",
      "\u001b[34m[362]#011train-error:0.041369#011validation-error:0.0485\u001b[0m\n"
     ]
    },
    {
     "name": "stdout",
     "output_type": "stream",
     "text": [
      "\u001b[34m[363]#011train-error:0.041364#011validation-error:0.048369\u001b[0m\n",
      "\u001b[34m[364]#011train-error:0.041258#011validation-error:0.048381\u001b[0m\n",
      "\u001b[34m[365]#011train-error:0.041225#011validation-error:0.048369\u001b[0m\n",
      "\u001b[34m[366]#011train-error:0.041164#011validation-error:0.048256\u001b[0m\n",
      "\u001b[34m[367]#011train-error:0.041148#011validation-error:0.048244\u001b[0m\n",
      "\u001b[34m[368]#011train-error:0.041142#011validation-error:0.048344\u001b[0m\n",
      "\u001b[34m[369]#011train-error:0.041103#011validation-error:0.048338\u001b[0m\n",
      "\u001b[34m[370]#011train-error:0.041086#011validation-error:0.048256\u001b[0m\n",
      "\u001b[34m[371]#011train-error:0.041039#011validation-error:0.048313\u001b[0m\n",
      "\u001b[34m[372]#011train-error:0.040934#011validation-error:0.048262\u001b[0m\n",
      "\u001b[34m[373]#011train-error:0.040866#011validation-error:0.048262\u001b[0m\n",
      "\u001b[34m[374]#011train-error:0.04087#011validation-error:0.048313\u001b[0m\n",
      "\u001b[34m[375]#011train-error:0.040767#011validation-error:0.048225\u001b[0m\n",
      "\u001b[34m[376]#011train-error:0.040672#011validation-error:0.048231\u001b[0m\n",
      "\u001b[34m[377]#011train-error:0.040614#011validation-error:0.048138\u001b[0m\n",
      "\u001b[34m[378]#011train-error:0.040558#011validation-error:0.0481\u001b[0m\n",
      "\u001b[34m[379]#011train-error:0.040519#011validation-error:0.048106\u001b[0m\n",
      "\u001b[34m[380]#011train-error:0.040486#011validation-error:0.048094\u001b[0m\n",
      "\u001b[34m[381]#011train-error:0.040489#011validation-error:0.048088\u001b[0m\n",
      "\u001b[34m[382]#011train-error:0.040434#011validation-error:0.0481\u001b[0m\n",
      "\u001b[34m[383]#011train-error:0.04037#011validation-error:0.048119\u001b[0m\n",
      "\u001b[34m[384]#011train-error:0.040372#011validation-error:0.048138\u001b[0m\n",
      "\u001b[34m[385]#011train-error:0.040311#011validation-error:0.048163\u001b[0m\n",
      "\u001b[34m[386]#011train-error:0.040263#011validation-error:0.048169\u001b[0m\n",
      "\u001b[34m[387]#011train-error:0.040213#011validation-error:0.048144\u001b[0m\n",
      "\u001b[34m[388]#011train-error:0.040188#011validation-error:0.048012\u001b[0m\n",
      "\u001b[34m[389]#011train-error:0.040112#011validation-error:0.048012\u001b[0m\n",
      "\u001b[34m[390]#011train-error:0.040106#011validation-error:0.048\u001b[0m\n",
      "\u001b[34m[391]#011train-error:0.0401#011validation-error:0.048012\u001b[0m\n",
      "\u001b[34m[392]#011train-error:0.040073#011validation-error:0.047994\u001b[0m\n",
      "\u001b[34m[393]#011train-error:0.040059#011validation-error:0.047975\u001b[0m\n",
      "\u001b[34m[394]#011train-error:0.040047#011validation-error:0.04795\u001b[0m\n",
      "\u001b[34m[395]#011train-error:0.039973#011validation-error:0.047994\u001b[0m\n",
      "\u001b[34m[396]#011train-error:0.039927#011validation-error:0.048125\u001b[0m\n",
      "\u001b[34m[397]#011train-error:0.039842#011validation-error:0.048094\u001b[0m\n",
      "\u001b[34m[398]#011train-error:0.039758#011validation-error:0.047969\u001b[0m\n",
      "\u001b[34m[399]#011train-error:0.039731#011validation-error:0.047894\u001b[0m\n",
      "\n",
      "2020-05-07 23:43:45 Uploading - Uploading generated training model\n",
      "2020-05-07 23:43:45 Completed - Training job completed\n",
      "Training seconds: 438\n",
      "Billable seconds: 438\n",
      "CPU times: user 1.55 s, sys: 57.3 ms, total: 1.6 s\n",
      "Wall time: 9min 47s\n"
     ]
    }
   ],
   "source": [
    "%%time\n",
    "# train model\n",
    "from sagemaker.amazon.amazon_estimator import get_image_uri\n",
    "sess = sagemaker.Session()\n",
    "role = sagemaker.get_execution_role()\n",
    "region = boto3.Session().region_name\n",
    "\n",
    "\n",
    "container = get_image_uri(region, 'xgboost','0.90-1')\n",
    "\n",
    "xgb = sagemaker.estimator.Estimator(container,\n",
    "                                    role, \n",
    "                                    train_instance_count=1, \n",
    "                                    train_instance_type='ml.m4.xlarge',\n",
    "                                    output_path='s3://{}/{}/output'.format(bucket, prefix),\n",
    "                                    sagemaker_session=sess)\n",
    "\n",
    "# fitting model with default parameters\n",
    "xgb.set_hyperparameters(base_score=0.5, \n",
    "                        booster='gbtree', #['gbtree', 'gblinear', 'dart']\n",
    "                        colsample_bylevel=1,\n",
    "                        colsample_bynode=1, \n",
    "                        colsample_bytree=1, \n",
    "                        gamma=0, \n",
    "                        max_delta_step=0, max_depth=6,\n",
    "                        min_child_weight=1,\n",
    "                        alpha=0,\n",
    "                        scale_pos_weight=1, subsample=1, tree_method='auto',\n",
    "                        eta=0.3,\n",
    "                        silent=1,\n",
    "                        objective='binary:logistic',\n",
    "                        num_round=400,\n",
    "                        eval_metric='error')\n",
    "\n",
    "xgb.fit({'train': s3_input_train, 'validation': s3_input_validation})"
   ]
  },
  {
   "cell_type": "code",
   "execution_count": 20,
   "metadata": {},
   "outputs": [
    {
     "name": "stdout",
     "output_type": "stream",
     "text": [
      "Requirement already satisfied: pickle-mixin in /home/ec2-user/anaconda3/envs/python3/lib/python3.6/site-packages (1.0.2)\n",
      "\u001b[33mYou are using pip version 10.0.1, however version 20.1 is available.\n",
      "You should consider upgrading via the 'pip install --upgrade pip' command.\u001b[0m\n",
      "Requirement already satisfied: xgboost==0.90 in /home/ec2-user/anaconda3/envs/python3/lib/python3.6/site-packages (0.90)\n",
      "Requirement already satisfied: numpy in /home/ec2-user/anaconda3/envs/python3/lib/python3.6/site-packages (from xgboost==0.90) (1.14.3)\n",
      "Requirement already satisfied: scipy in /home/ec2-user/anaconda3/envs/python3/lib/python3.6/site-packages (from xgboost==0.90) (1.1.0)\n",
      "\u001b[33mYou are using pip version 10.0.1, however version 20.1 is available.\n",
      "You should consider upgrading via the 'pip install --upgrade pip' command.\u001b[0m\n"
     ]
    }
   ],
   "source": [
    "!pip install pickle-mixin\n",
    "!pip install xgboost==0.90"
   ]
  },
  {
   "cell_type": "code",
   "execution_count": 22,
   "metadata": {},
   "outputs": [
    {
     "name": "stdout",
     "output_type": "stream",
     "text": [
      "total 344292\r\n",
      "-rw-r--r-- 1 ec2-user ec2-user     41578 May  7 12:35 xgboost-model\r\n",
      "-rw-rw-r-- 1 ec2-user ec2-user     38471 May  7 15:34 Build-and-Deploy-DGA.ipynb\r\n",
      "-rw-rw-r-- 1 ec2-user ec2-user 185679638 May  7 15:51 dataset.csv\r\n",
      "-rw-rw-r-- 1 ec2-user ec2-user       146 May  7 17:58 single.test\r\n",
      "-rw-rw-r-- 1 ec2-user ec2-user  31112070 May  7 23:27 domainsDataSet\r\n",
      "-rw-rw-r-- 1 ec2-user ec2-user  26986150 May  7 23:32 domainsDataSet.test\r\n",
      "-rw-rw-r-- 1 ec2-user ec2-user  86348628 May  7 23:33 domainsDataSet.train\r\n",
      "-rw-rw-r-- 1 ec2-user ec2-user  21588916 May  7 23:33 domainsDataSet.validation\r\n",
      "-rw-rw-r-- 1 ec2-user ec2-user     78730 May  7 23:46 Build-deploy-dga-xgboost.ipynb\r\n",
      "-rw-rw-r-- 1 ec2-user ec2-user    657885 May  7 23:46 model.tar.gz\r\n"
     ]
    }
   ],
   "source": [
    "import tarfile\n",
    "import pickle as pkl\n",
    "\n",
    "path_key = f'{prefix}/output/sagemaker-xgboost-2020-05-07-23-34-21-072/output'\n",
    "# download the model artifact from AWS S3\n",
    "s3 = boto3.client('s3')\n",
    "s3.download_file(bucket, f'{path_key}/model.tar.gz', 'model.tar.gz')\n",
    "\n",
    "! ls -lrt\n",
    "\n",
    "\n",
    "#opens the downloaded model artifcat and loads it as 'model' variable\n",
    "tar = tarfile.open('model.tar.gz')\n",
    "tar.extractall()\n",
    "tar.close()\n",
    "file = open('xgboost-model', 'rb')\n",
    "model = pkl.loads(file.read())"
   ]
  },
  {
   "cell_type": "code",
   "execution_count": 40,
   "metadata": {},
   "outputs": [],
   "source": [
    "!head -1 domainsDataSet.test > single.test"
   ]
  },
  {
   "cell_type": "code",
   "execution_count": null,
   "metadata": {},
   "outputs": [],
   "source": [
    "import xgboost\n",
    "with open('single.test', 'r') as f:\n",
    "    payload = f.read().strip()\n",
    "    print(payload)\n",
    "    dtrain = xgboost.DMatrix(payload[2:], label=payload[0])\n",
    "model.predict(dtrain)"
   ]
  },
  {
   "cell_type": "code",
   "execution_count": 30,
   "metadata": {},
   "outputs": [
    {
     "data": {
      "text/plain": [
       "<matplotlib.axes._subplots.AxesSubplot at 0x7fb0f8d822e8>"
      ]
     },
     "execution_count": 30,
     "metadata": {},
     "output_type": "execute_result"
    },
    {
     "data": {
      "text/plain": [
       "Text(0.5, 1.0, 'Feature Importance')"
      ]
     },
     "execution_count": 30,
     "metadata": {},
     "output_type": "execute_result"
    },
    {
     "data": {
      "image/png": "[encoded data removed]",
      "text/plain": [
       "<Figure size 864x864 with 1 Axes>"
      ]
     },
     "metadata": {
      "image/png": {
       "height": 712,
       "width": 720
      }
     },
     "output_type": "display_data"
    }
   ],
   "source": [
    "import xgboost\n",
    "map_names = dict(zip(model.feature_names, df_domains.columns))\n",
    "model.feature_names = list(map_names.values())\n",
    "\n",
    "#plot feature importance\n",
    "fig, ax = plt.subplots(figsize=(12,12))\n",
    "xgboost.plot_importance(model, importance_type='gain', max_num_features=30, height=0.8, ax=ax, show_values = False)\n",
    "plt.title('Feature Importance')\n",
    "plt.show()"
   ]
  },
  {
   "cell_type": "code",
   "execution_count": 31,
   "metadata": {},
   "outputs": [
    {
     "name": "stdout",
     "output_type": "stream",
     "text": [
      "-----------------!"
     ]
    }
   ],
   "source": [
    "## Deploy trained XGBoost model endpoint to perform predictions\n",
    "xgb_predictor = xgb.deploy(initial_instance_count = 1, instance_type = 'ml.t2.medium')\n",
    "\n",
    "\n",
    "\n"
   ]
  },
  {
   "cell_type": "code",
   "execution_count": 32,
   "metadata": {},
   "outputs": [],
   "source": [
    "xgb_predictor.content_type = 'text/csv'\n",
    "xgb_predictor.serializer = csv_serializer\n",
    "xgb_predictor.deserializer = None\n"
   ]
  },
  {
   "cell_type": "code",
   "execution_count": 33,
   "metadata": {},
   "outputs": [],
   "source": [
    "!head -10 domainsDataSet.test > single.test"
   ]
  },
  {
   "cell_type": "code",
   "execution_count": 34,
   "metadata": {},
   "outputs": [
    {
     "data": {
      "text/plain": [
       "array([0.08778916, 0.99848866, 0.32659611, 0.97878689, 0.99056482,\n",
       "       0.99991417, 0.73356611, 0.39678892, 0.34731829, 0.99987197])"
      ]
     },
     "execution_count": 34,
     "metadata": {},
     "output_type": "execute_result"
    }
   ],
   "source": [
    "## Function to chunk down test set into smaller increments\n",
    "\n",
    "def predict(data, model, rows=500):\n",
    "    split_array = np.array_split(data, int(len(data) / float(rows) + 1))\n",
    "    predictions = ''\n",
    "    for array in split_array:\n",
    "        predictions = ','.join([predictions, model.predict(array).decode('utf-8')])\n",
    "\n",
    "    return np.fromstring(predictions[1:], sep=',')\n",
    "\n",
    "## Generate predictions on the test set for the difference models\n",
    "with open('single.test', 'r') as f:\n",
    "    payload = f.read().strip()\n",
    "labels = [int(line.split(',')[0]) for line in payload.split('\\n')]\n",
    "test_data = [line.split(',')[2:] for line in payload.split('\\n')]\n",
    "predictions = predict(test_data, xgb_predictor)\n",
    "#xgb_predictor.predict(payload[2:]).decode('utf-8')\n",
    "predictions"
   ]
  },
  {
   "cell_type": "code",
   "execution_count": 35,
   "metadata": {},
   "outputs": [
    {
     "data": {
      "text/plain": [
       "0.905165"
      ]
     },
     "execution_count": 35,
     "metadata": {},
     "output_type": "execute_result"
    },
    {
     "data": {
      "text/plain": [
       "array([[94147,  5607],\n",
       "       [13360, 86886]])"
      ]
     },
     "execution_count": 35,
     "metadata": {},
     "output_type": "execute_result"
    }
   ],
   "source": [
    "## Generate predictions on the test set for the difference models\n",
    "with open('domainsDataSet.test', 'r') as f:\n",
    "    payload = f.read().strip()\n",
    "labels = [int(line.split(',')[0]) for line in payload.split('\\n')]\n",
    "test_data = [line.split(',')[2:] for line in payload.split('\\n')]\n",
    "predictions = predict(test_data, xgb_predictor)\n",
    "#xgb_predictor.predict(payload[2:]).decode('utf-8')\n",
    "from sklearn.metrics import accuracy_score ,confusion_matrix\n",
    "thresh = 0.5\n",
    "y_pred = predictions\n",
    "y_pred_binary = np.where(predictions > thresh, 1, 0)\n",
    "accuracy_score(labels,y_pred_binary)\n",
    "confusion_matrix(labels,y_pred_binary)"
   ]
  },
  {
   "cell_type": "code",
   "execution_count": 36,
   "metadata": {},
   "outputs": [
    {
     "data": {
      "text/plain": [
       "'InProgress'"
      ]
     },
     "execution_count": 36,
     "metadata": {},
     "output_type": "execute_result"
    }
   ],
   "source": [
    "# we use the Hyperparameter Tuner\n",
    "from sagemaker.tuner import IntegerParameter\n",
    "from sagemaker.tuner import ContinuousParameter\n",
    "from sagemaker.tuner import HyperparameterTuner\n",
    "\n",
    "# Define exploration boundaries (default suggested values from Amazon SageMaker Documentation)\n",
    "hyperparameter_ranges = {\n",
    "    'alpha': ContinuousParameter(0, 1000, scaling_type=\"Auto\"),\n",
    "    'colsample_bylevel': ContinuousParameter(0.1, 1,scaling_type=\"Logarithmic\"),\n",
    "    'colsample_bytree': ContinuousParameter(0.5, 1, scaling_type='Logarithmic'),\n",
    "    'eta': ContinuousParameter(0.1, 0.5, scaling_type='Logarithmic'),\n",
    "    'gamma':ContinuousParameter(0, 5, scaling_type='Auto'),\n",
    "    'lambda': ContinuousParameter(0,100,scaling_type='Auto'),\n",
    "    'max_delta_step': IntegerParameter(0,10,scaling_type='Auto'),\n",
    "    'max_depth': IntegerParameter(0,10,scaling_type='Auto'),\n",
    "    'min_child_weight': ContinuousParameter(0,10,scaling_type='Auto'),\n",
    "    'num_round': IntegerParameter(1,4000,scaling_type='Auto'),\n",
    "    'subsample': ContinuousParameter(0.5,1,scaling_type='Logarithmic')}\n",
    "\n",
    "objective_metric_name = 'validation:accuracy'\n",
    "\n",
    "tuner_log = HyperparameterTuner(\n",
    "    xgb,\n",
    "    objective_metric_name,\n",
    "    hyperparameter_ranges,\n",
    "    max_jobs=60,\n",
    "    max_parallel_jobs=3,\n",
    "    strategy='Bayesian'\n",
    ")\n",
    "\n",
    "## Starts the hyperparameter tuning job\n",
    "tuner_log.fit({'train': s3_input_train, 'validation': s3_input_validation}, include_cls_metadata=False)\n",
    "\n",
    "## Prints the status of the latest hyperparameter tuning job\n",
    "boto3.client('sagemaker').describe_hyper_parameter_tuning_job(\n",
    "    HyperParameterTuningJobName=tuner_log.latest_tuning_job.job_name)['HyperParameterTuningJobStatus']"
   ]
  },
  {
   "cell_type": "code",
   "execution_count": null,
   "metadata": {},
   "outputs": [],
   "source": [
    "client_sag= boto3.client('sagemaker')\n",
    "status = client_sag.describe_hyper_parameter_tuning_job(\n",
    "    HyperParameterTuningJobName=tuner_log.latest_tuning_job.job_name)['HyperParameterTuningJobStatus']\n",
    "print(status)\n",
    "while status !='Completed' and status!='Failed':\n",
    "    time.sleep(600)\n",
    "    status =  client_sag.describe_hyper_parameter_tuning_job(\n",
    "    HyperParameterTuningJobName=tuner_log.latest_tuning_job.job_name)['HyperParameterTuningJobStatus']\n",
    "    print(status)"
   ]
  },
  {
   "cell_type": "code",
   "execution_count": null,
   "metadata": {},
   "outputs": [],
   "source": [
    "# get the best performance model job and create endpoint and then predict using test data"
   ]
  },
  {
   "cell_type": "code",
   "execution_count": null,
   "metadata": {},
   "outputs": [],
   "source": [
    "# Import model for hosting\n",
    "\n",
    "%%time\n",
    "import boto3\n",
    "from time import gmtime, strftime\n",
    "\n",
    "model_name=job_name + '-model'\n",
    "print(model_name)\n",
    "\n",
    "info = client.describe_training_job(TrainingJobName=job_name)\n",
    "model_data = info['ModelArtifacts']['S3ModelArtifacts']\n",
    "print(model_data)\n",
    "\n",
    "primary_container = {\n",
    "    'Image': container,\n",
    "    'ModelDataUrl': model_data\n",
    "}\n",
    "\n",
    "create_model_response = client.create_model(\n",
    "    ModelName = model_name,\n",
    "    ExecutionRoleArn = role,\n",
    "    PrimaryContainer = primary_container)\n",
    "\n",
    "print(create_model_response['ModelArn'])"
   ]
  },
  {
   "cell_type": "code",
   "execution_count": null,
   "metadata": {},
   "outputs": [],
   "source": [
    "# create endpoint configuration\n",
    "from time import gmtime, strftime\n",
    "\n",
    "endpoint_config_name = 'DEMO-XGBoostEndpointConfig-' + strftime(\"%Y-%m-%d-%H-%M-%S\", gmtime())\n",
    "print(endpoint_config_name)\n",
    "create_endpoint_config_response = client.create_endpoint_config(\n",
    "    EndpointConfigName = endpoint_config_name,\n",
    "    ProductionVariants=[{\n",
    "        'InstanceType':\"ml.m5.large\",\n",
    "        'InitialVariantWeight':1,\n",
    "        'InitialInstanceCount':1,\n",
    "        'ModelName':model_name,\n",
    "        'VariantName':'AllTraffic'}])\n",
    "\n",
    "print(\"Endpoint Config Arn: \" + create_endpoint_config_response['EndpointConfigArn'])"
   ]
  },
  {
   "cell_type": "code",
   "execution_count": 45,
   "metadata": {},
   "outputs": [
    {
     "ename": "NameError",
     "evalue": "name 'strftime' is not defined",
     "output_type": "error",
     "traceback": [
      "\u001b[0;31m---------------------------------------------------------------------------\u001b[0m",
      "\u001b[0;31mNameError\u001b[0m                                 Traceback (most recent call last)",
      "\u001b[0;32m<ipython-input-45-2dbe92feafd2>\u001b[0m in \u001b[0;36m<module>\u001b[0;34m()\u001b[0m\n\u001b[1;32m      4\u001b[0m \u001b[0;32mimport\u001b[0m \u001b[0mtime\u001b[0m\u001b[0;34m\u001b[0m\u001b[0;34m\u001b[0m\u001b[0m\n\u001b[1;32m      5\u001b[0m \u001b[0;34m\u001b[0m\u001b[0m\n\u001b[0;32m----> 6\u001b[0;31m \u001b[0mendpoint_name\u001b[0m \u001b[0;34m=\u001b[0m \u001b[0;34m'DEMO-XGBoostEndpoint-'\u001b[0m \u001b[0;34m+\u001b[0m \u001b[0mstrftime\u001b[0m\u001b[0;34m(\u001b[0m\u001b[0;34m\"%Y-%m-%d-%H-%M-%S\"\u001b[0m\u001b[0;34m,\u001b[0m \u001b[0mgmtime\u001b[0m\u001b[0;34m(\u001b[0m\u001b[0;34m)\u001b[0m\u001b[0;34m)\u001b[0m\u001b[0;34m\u001b[0m\u001b[0;34m\u001b[0m\u001b[0m\n\u001b[0m\u001b[1;32m      7\u001b[0m \u001b[0mprint\u001b[0m\u001b[0;34m(\u001b[0m\u001b[0mendpoint_name\u001b[0m\u001b[0;34m)\u001b[0m\u001b[0;34m\u001b[0m\u001b[0;34m\u001b[0m\u001b[0m\n\u001b[1;32m      8\u001b[0m create_endpoint_response = client.create_endpoint(\n",
      "\u001b[0;31mNameError\u001b[0m: name 'strftime' is not defined"
     ]
    }
   ],
   "source": [
    "%%time\n",
    "# create end point\n",
    "\n",
    "\n",
    "import time\n",
    "\n",
    "endpoint_name = 'DEMO-XGBoostEndpoint-' + strftime(\"%Y-%m-%d-%H-%M-%S\", gmtime())\n",
    "print(endpoint_name)\n",
    "create_endpoint_response = client.create_endpoint(\n",
    "    EndpointName=endpoint_name,\n",
    "    EndpointConfigName=endpoint_config_name)\n",
    "print(create_endpoint_response['EndpointArn'])\n",
    "\n",
    "resp = client.describe_endpoint(EndpointName=endpoint_name)\n",
    "status = resp['EndpointStatus']\n",
    "while status=='Creating':\n",
    "    print(\"Status: \" + status)\n",
    "    time.sleep(60)\n",
    "    resp = client.describe_endpoint(EndpointName=endpoint_name)\n",
    "    status = resp['EndpointStatus']\n",
    "\n",
    "print(\"Arn: \" + resp['EndpointArn'])\n",
    "print(\"Status: \" + status)"
   ]
  },
  {
   "cell_type": "code",
   "execution_count": 46,
   "metadata": {},
   "outputs": [],
   "source": [
    "# load test data from assignment and write function to test one record at a time"
   ]
  }
 ],
 "metadata": {
  "kernelspec": {
   "display_name": "conda_python3",
   "language": "python",
   "name": "conda_python3"
  },
  "language_info": {
   "codemirror_mode": {
    "name": "ipython",
    "version": 3
   },
   "file_extension": ".py",
   "mimetype": "text/x-python",
   "name": "python",
   "nbconvert_exporter": "python",
   "pygments_lexer": "ipython3",
   "version": "3.6.7"
  }
 },
 "nbformat": 4,
 "nbformat_minor": 4
}
