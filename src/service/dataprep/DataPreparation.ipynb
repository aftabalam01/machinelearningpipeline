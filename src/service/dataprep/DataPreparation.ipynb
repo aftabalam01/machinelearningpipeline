{
 "cells": [
  {
   "cell_type": "markdown",
   "metadata": {},
   "source": [
    "# Data Preparation\n",
    "## Student Names: Aftab Alam, Harpreet Singh, Srijani Basak, Srinivas Murri, Vineeta Singla\n",
    "## Course: IMT 575"
   ]
  },
  {
   "cell_type": "code",
   "execution_count": 101,
   "metadata": {
    "scrolled": true
   },
   "outputs": [],
   "source": [
    "import pandas as pd\n",
    "import numpy as np\n",
    "import re\n",
    "import sklearn\n",
    "import random\n",
    "from random import choices\n",
    "from random import sample \n",
    "import nltk\n",
    "nltk.download('stopwords')\n",
    "from nltk.corpus import stopwords\n",
    "import string\n",
    "from nltk.corpus import words\n",
    "nltk.download('words')\n",
    "import datetime\n",
    "\n",
    "transtable = str.maketrans('', '', string.punctuation)\n",
    "def removePunc(x):\n",
    "   return x.translate(transtable)\n",
    "\n"
   ]
  },
  {
   "cell_type": "markdown",
   "metadata": {},
   "source": [
    "### Collect Benign Domains from Google Search using Google API"
   ]
  },
  {
   "cell_type": "code",
   "execution_count": 2,
   "metadata": {},
   "outputs": [
    {
     "name": "stderr",
     "output_type": "stream",
     "text": [
      "/home/nbuser/anaconda3_501/lib/python3.6/site-packages/IPython/core/interactiveshell.py:3020: DtypeWarning: Columns (0,1) have mixed types. Specify dtype option on import or set low_memory=False.\n",
      "  interactivity=interactivity, compiler=compiler, result=result)\n"
     ]
    },
    {
     "data": {
      "text/plain": [
       "benign    637526\n",
       "Name: domain_type, dtype: int64"
      ]
     },
     "execution_count": 2,
     "metadata": {},
     "output_type": "execute_result"
    }
   ],
   "source": [
    "benignDF = pd.read_csv(\"./newCleanDomains.csv\",header=0)\n",
    "benignDF = benignDF[benignDF['domain_type'] == 'benign']\n",
    "benignDF.drop_duplicates(keep = 'first', inplace = True) \n",
    "benignDF['domain_type'] = [element.lower() for element in benignDF['domain_type']] ; benignDF['domain_type']\n",
    "benignDF['domain_type'].value_counts()"
   ]
  },
  {
   "cell_type": "code",
   "execution_count": 3,
   "metadata": {},
   "outputs": [],
   "source": [
    "ipRegex = \"^(([0-9]|[1-9][0-9]|1[0-9]{2}|2[0-4][0-9]|25[0-5])\\.){3}([0-9]|[1-9][0-9]|1[0-9]{2}|2[0-4][0-9]|25[0-5])$\"\n",
    "\n",
    "def isIpAddress(domain):\n",
    "    try:\n",
    "        if(re.match(ipRegex, domain)):\n",
    "            return True\n",
    "    except:\n",
    "        return False\n",
    "    return False\n",
    "    \n",
    "def getTlds(domain):\n",
    "    try:\n",
    "        if(not isIpAddress(domain)):\n",
    "            index = domain.rindex('.')\n",
    "            val = domain[index:]\n",
    "            if(len(val)>1):\n",
    "                return val\n",
    "    except:\n",
    "        domain = \"\"    \n",
    "\n",
    "def getSlds(domain):\n",
    "    try:\n",
    "        if(not isIpAddress(domain)):\n",
    "            domain = domain.replace('www.', '')\n",
    "            segments = domain.split(\".\")\n",
    "            count = len(segments)\n",
    "            if(count > 3):\n",
    "                return \".\"+segments[count-2]\n",
    "    except:\n",
    "        domain=\"\"\n",
    "\n",
    "def getPopularShortTld(domain):\n",
    "     if(not isIpAddress(domain)):\n",
    "        try:\n",
    "            index = domain.rindex('.')\n",
    "            index2 = domain[0:index].rindex('.')\n",
    "            val = domain[index2:]\n",
    "            if(len(val)<=7):\n",
    "                return val\n",
    "        except:\n",
    "            domain = \"\""
   ]
  },
  {
   "cell_type": "code",
   "execution_count": 4,
   "metadata": {},
   "outputs": [],
   "source": [
    "sponseredTldSet = set(['.aero','.asia','.cat','.coop','.edu','.gov','.int','.jobs','.mil','.museum','.post','.tel','.travel','.xxx'])\n",
    "countryTldSet = set(['.ac','.ad','.ae','.af','.ag','.ai','.al','.am','.ao','.aq','.ar','.as','.at','.au','.aw','.ax','.az','.ba','.bb','.bd','.be','.bf','.bg','.bh','.bi','.bj','.bm','.bn','.bo','.br','.bs','.bt','.bw','.by','.bz','.ca','.cc','.cd','.cf','.cg','.ch','.ci','.ck','.cl','.cm','.cn','.co','.cr','.cu','.cv','.cw','.cx','.cy','.cz','.de','.dj','.dk','.dm','.do','.dz','.ec','.ee','.eg','.er','.es','.et','.eu','.fi','.fj','.fk','.fm','.fo','.fr','.ga','.gd','.ge','.gf','.gg','.gh','.gi','.gl','.gm','.gn','.gp','.gq','.gr','.gs','.gt','.gu','.gw','.gy','.hk','.hm','.hn','.hr','.ht','.hu','.id','.ie','.il','.im','.in','.io','.iq','.ir','.is','.it','.je','.jm','.jo','.jp','.ke','.kg','.kh','.ki','.km','.kn','.kp','.kr','.kw','.ky','.kz','.la','.lb','.lc','.li','.lk','.lr','.ls','.lt','.lu','.lv','.ly','.ma','.mc','.md','.me','.mg','.mh','.mk','.ml','.mm','.mn','.mo','.mp','.mq','.mr','.ms','.mt','.mu','.mv','.mw','.mx','.my','.mz','.na','.nc','.ne','.nf','.ng','.ni','.nl','.no','.np','.nr','.nu','.nz','.om','.pa','.pe','.pf','.pg','.ph','.pk','.pl','.pm','.pn','.pr','.ps','.pt','.pw','.py','.qa','.re','.ro','.rs','.ru','.rw','.sa','.sb','.sc','.sd','.se','.sg','.sh','.si','.sk','.sl','.sm','.sn','.so','.sr','.ss','.st','.su','.sv','.sx','.sy','.sz','.tc','.td','.tf','.tg','.th','.tj','.tk','.tl','.tm','.tn','.to','.tr','.tt','.tv','.tw','.tz','.ua','.ug','.uk','.us','.uy','.uz','.va','.vc','.ve','.vg','.vi','.vn','.vu','.wf','.ws','.ye','.yt','.za','.zm','.zw'])\n",
    "randomTlds = ['.ba','.kn','.love','.tp','.social','.is','.to','.co.ug','.org.np','.dhl','.jcb','.pa','.mh','.tips','.vip','.pub','.om','.br','.gratis','.ink','.host','.barclaycard','.law','.io','.jo','.tel','.sharp','.equipment','.direct','.pk','.tr','.cx','.community','.auction','.tc','.ls','.ac','.us','.gov.az','.gt','.tn','.cc','.ph','.co.za','.mi','.sm','.fk','.com.tw','.tv','.ca','.apple','.bh','.moi','.mg','.training','.ax','.jp','.bank','.org','.buzz','.es','.lk','.sz','.as','.id','.in','.tm','.eu','.app','.km','.gb','.media','.house','.services','.tz','.sg','.football','.exchange','.fg','.hm','.nyc','.il.us','.fun','.domains','.sv','.cl','.report','.ac.uk','.in.ua','.network','.td','.rent','.ms','.ci','.moscow','.uk','.ad','.ec','.agency','.news','.onl','.group','.com.vn','.ge','.biz','.lt','.zone','.movie','.best','.fo','.software','.gg','.an','.ua','.edu.in','.club','.eus','.me','.jobs','.education','.org.sg','.bot','.blog','.solutions','.co.zw','.cr','.nl','.au','.store','.yt','.sc','.hn','.win','.com.au','.cloud','.fox','.gs','.gp','.co','.py','.discount','.trade','.pr','.mt','.nj.us','.sy','.london','.usc.edu','.mobi','.co.jp','.hk','.lc','.fm','.garden','.expert','.bar','.so','.cv','.shop','.gov.np','.inc','.mz','.pink','.film','.systems','.fitness','.be','.bio','.help','.vu','.bd','.global','.go','.beer','.sj','.codes','.ve','.ae','.vn','.vi','.tk','.ml','.cy','.mc','.ro','.rs','.cg','.coop','.ck','.my','.gm','.download','.stream','.bradesco','.clinic','.link','.nf','.by','.ai','.komatsu','.sh','.weir','.com .edu','.bt','.website','.bj','.tech','.conery.io','.chat','.gal','.eg','.fans','.toys','.contractors','.hr','.tf','.gh','.one','.frl','.tools','.center','.se','.ngo','.im','.nz','.reviews','.do','.tattoo','.uvu.edu','.city','.express','.ug','.gl','.ooo','.wang','.et','.dj','.earth','.pet','.build','.sd','.wiki','.li','.email','.na','.pg','.co.ao','.academy','.cern','.ee','.ru','.net.ua','.delivery','.bf','.box','.rocks','.xyz','.zw','.school','.market','.guru','.af.mil','.or','.review','.la','.red','.nc','.ch','.nr','.asia','.miami','.az','.hsbc.com','.mk','.mil','.site','.llc','.bg','.bs','.studio','.mp','.marketing','.sl','.com.my','.icu','.bw','.lb','.kh','.fit','.de','.ky','.mv','.country','.af','.gob.gt','.edu:8080','.dz','.gi','.bible','.ki','.bo','.si.edu','.green','.at','.vg','.lu','.no','.it','.com.hk','.uy','.bz','.technology','.tube','.ne','.web.app','.blue','.vet','.video','.cat','.sk','.estate','.care','.ed','.aw','.bi','.bv','.game','.cards','.gq','.edu.co','.tt','.edu.az','.mq','.pl.ua','.sx','.kg','.ltd','.sex','.gf','.golf','.biz.ua','.xn','.work','.pw','.hu','.gov','.info','.dk','.mm','.sb','.ly','.kw','.international','.bnpparibas','.desi','.md','.sa','.life','.am','.mn','.sony','.bm','.art','.wtf','.ps','.pm','.world','.audio','.today','.je','.quebec','.dm','.capital','.il','.science','.th','.gn','.epa.gov','.durban','.edu','.lawyer','.za','.nu','.do.am','.company','.mo','.co.in','.gd','.com.ua','.tl','.cm','.edu.cn','.pt','.party','.ng','.ie','.ao','.ma','.click','.dev','.kim','.style','.su','.support','.gov.ir','.kz','.ws','.name','.lat','.menu','.fi','.pro','.ninja','.qa','.plus','.new','.com','.ag','.cd','.ist','.boutique','.bid','.al','.tj','.tw','.bnl.gov','.top','.gle','.aws','.ca.gov','.um','.gov.cn','.cz','.cool','.wf','.er','.show','.va','.vc','.live','.ke','.google','.bn','.aero','.games','.aq','.lr','.design','.zm','.casa','.pl','.int','.porn','.ht','.cash','.date','.kr','.bb','.engineering','.com.sa','.press','.sr','.yu','.ar','.mu','.iq','.cn','.energy','.cu','.pe','.biz .org .in','.realtor','.money','.fj','.gu','.ir','.digital','.pf','.kpmg','.farm','.bike','.gr','.church','.guide','.uz','.rw','.st','.gw','.cheap','.gifts','.xxx','.credit','.ga','.cam','.fund','.scot','.sale','.pn','.mw','.si','.cf','.online','.sn','.lv','.mx','.travel','.ni','.careers','.jm','.monster','.mr','.np','.re','.ye','.parts','.co.uk','.fishing','.net','.space','.run','.edu.my','.moe','.gy','.health','.co.kr','.com.br','.com.ng','.tg','.fr']\n"
   ]
  },
  {
   "cell_type": "code",
   "execution_count": 5,
   "metadata": {},
   "outputs": [],
   "source": [
    "tldSet = set(benignDF['domain'].apply(getTlds))\n",
    "sldSet = set(benignDF['domain'].apply(getSlds))\n",
    "popularShortTldSet = set(benignDF['domain'].apply(getPopularShortTld))"
   ]
  },
  {
   "cell_type": "markdown",
   "metadata": {},
   "source": [
    "### Function definition for DGA "
   ]
  },
  {
   "cell_type": "code",
   "execution_count": 53,
   "metadata": {},
   "outputs": [],
   "source": [
    "sw = stopwords.words('english')   \n",
    "word_list = words.words()\n",
    "\n",
    "def generate_random_domain(seed,tlds):\n",
    "    try:\n",
    "        domain = \"\"\n",
    "        allChars = 'abcdefghijklmnopqrstuvwxyz0123456789' \n",
    "        onlyAlphabets = 'abcdefghijklmnopqrstuvwxyz'\n",
    "        n = seed + random.randint(5, 9) \n",
    "        if(n%2 == 0):\n",
    "            domain = domain.join(random.choices(allChars, k=n))\n",
    "        else:\n",
    "            domain = domain.join(random.choices(onlyAlphabets, k=n))\n",
    "\n",
    "        if(n%3 == 0 or n%7 == 0):\n",
    "            domain = 'www.'+domain\n",
    "        if(n%5 == 0 and len(domain)>10):\n",
    "            index = random.randint(0, 5)  + 5\n",
    "            domain = domain[:index] + '-' + domain[index + 1:]\n",
    "\n",
    "        val = (choices(tlds, k=1)[0])\n",
    "        domain = domain + val\n",
    "        if domain:\n",
    "            return domain\n",
    "    except:\n",
    "        domiain = \"\"\n",
    "\n",
    "def generate_random_domain_addwords(tlds):\n",
    "    try:\n",
    "        domain = \"\"\n",
    "        addWord = removePunc(random.choices(sw, k=1)[0])\n",
    "        onlyAlphabets = 'abcdefghijklmnopqrstuvwxyz'\n",
    "\n",
    "        n = random.randint(5, 10) \n",
    "\n",
    "        domain = domain.join(random.choices(onlyAlphabets, k=n))\n",
    "\n",
    "        if(n%3 == 0 or n%7 == 0):\n",
    "            domain = 'www.'+ addWord + domain\n",
    "        if(n%5 == 0 and len(domain)>10):\n",
    "            index = random.randint(0, 5)  + 5\n",
    "            domain = domain[:index] + addWord + domain[index + 1:]\n",
    "\n",
    "        domain = domain + (choices(tlds, k=1)[0])\n",
    "        if domain:\n",
    "            return domain\n",
    "    except:\n",
    "        domain = \"\"\n",
    "\n",
    "def generate_random_domain_current_time(tlds):\n",
    "    try:\n",
    "        domain = \"\"\n",
    "        addWord = removePunc(random.choices(word_list, k=1)[0])\n",
    "        seed = datetime.datetime.now().microsecond\n",
    "        charSet = 'abcdefghijklmnopqrstuvwxyz' + 'addWord' \n",
    "        if(seed%2 == 0):\n",
    "            charSet = charSet + str(seed)\n",
    "\n",
    "        n = random.randint(6,10) \n",
    "        domain = domain.join(random.choices(charSet, k=n))\n",
    "\n",
    "        if(n%7 == 0 ):\n",
    "            domain = 'www.'+ addWord + domain\n",
    "        if(n%3 == 0 and len(domain)>10):\n",
    "            index = random.randint(0, 5)  + 5\n",
    "            domain = domain[:index] + '-' + addWord + domain[index + 1:]\n",
    "\n",
    "        domain = domain + (choices(tlds, k=1)[0])\n",
    "        if domain:\n",
    "            return domain\n",
    "    except:\n",
    "        domain = \"\"\n",
    "\n",
    "def generate_random_domain_shiftbits(tlds):\n",
    "    try:\n",
    "        domain = \"\"\n",
    "        seed = datetime.datetime.now().microsecond\n",
    "        charSet = 'abcdefghijklmnopqrstuvwxyz' \n",
    "\n",
    "        extra = ''\n",
    "        for i in range(0,random.randint(5,12) ,1):\n",
    "            day = random.randint(1, 30)\n",
    "            extra = ((day ^ (day << random.randint(1, 17))) >> random.randint(1, 17)) ^ ((day & 0xFFFFFFFE) << random.randint(1, 17))\n",
    "\n",
    "        domain = domain.join(random.choices(charSet, k=random.randint(4, 11))) + chr(((extra) % 25) + 97)\n",
    "\n",
    "        if(seed%7 == 0 ):\n",
    "            domain = 'www.'+ domain\n",
    "\n",
    "        domain = domain + (choices(tlds, k=1)[0])\n",
    "        if domain:\n",
    "            return domain\n",
    "    except:\n",
    "        domain = \"\" "
   ]
  },
  {
   "cell_type": "code",
   "execution_count": 105,
   "metadata": {},
   "outputs": [],
   "source": [
    "def generate_dga_domains(count):\n",
    "    dgaDomainList1 = [generate_random_domain(random.randint(0, 9),list(popularShortTldSet)) for i in range(1,int(count/4))] ; dgaDomainList1\n",
    "    dgaDomainList2 = [generate_random_domain(random.randint(0, 9),randomTlds) for i in range(1,int(count/4))] ; dgaDomainList2\n",
    "    dgaDomainList3 = [generate_random_domain_addwords(list(countryTldSet)) for i in range(1,int(count/4))] ; dgaDomainList3\n",
    "    dgaDomainList4 = [generate_random_domain_current_time(list(tldSet)) for i in range(1,int(count/8))] ; dgaDomainList4  \n",
    "    dgaDomainList5 = [generate_random_domain_shiftbits(list(popularShortTldSet)) for i in range(1,int(count/8))] ; dgaDomainList5\n",
    "    dgaDomainList6 = [generate_random_domain_shiftbits(list(sponseredTldSet)) for i in range(1,int(count/64))] ; dgaDomainList6\n",
    "\n",
    "    dgaDomainList = dgaDomainList1 + dgaDomainList2 + dgaDomainList3 + dgaDomainList4 + dgaDomainList5 + dgaDomainList6\n",
    "    dgaDomainSet = set(dgaDomainList)\n",
    "    return set(sample(list(dgaDomainSet),count))\n"
   ]
  },
  {
   "cell_type": "code",
   "execution_count": 106,
   "metadata": {
    "scrolled": true
   },
   "outputs": [
    {
     "data": {
      "text/plain": [
       "dga    637526\n",
       "Name: domain_type, dtype: int64"
      ]
     },
     "execution_count": 106,
     "metadata": {},
     "output_type": "execute_result"
    }
   ],
   "source": [
    "dgaDomainSet = generate_dga_domains(637526)\n",
    "\n",
    "# Label the generated domains as 'dga' and convert into a dataframe        \n",
    "dgaDF = pd.DataFrame({'domain': domain, 'domain_type':'dga'} for domain in dgaDomainSet)\n",
    "dgaDF.drop_duplicates(keep = 'first', inplace = True) \n",
    "dgaDF['domain_type'].value_counts()"
   ]
  },
  {
   "cell_type": "markdown",
   "metadata": {},
   "source": [
    "### Merge the Benign and DGA domains and write to a csv"
   ]
  },
  {
   "cell_type": "code",
   "execution_count": 107,
   "metadata": {},
   "outputs": [],
   "source": [
    "#Merge the benign and dga dataframmes\n",
    "allDomains  = benignDF.append(dgaDF)\n",
    "\n",
    "#Shuffle the combined dataframe\n",
    "allDomains = sklearn.utils.shuffle(allDomains)\n",
    "\n",
    "#Write the results to a csv\n",
    "allDomains.to_csv('allDomains.csv',index=False,header=True)"
   ]
  },
  {
   "cell_type": "markdown",
   "metadata": {},
   "source": [
    "### Read the generated csv and print a sample subset"
   ]
  },
  {
   "cell_type": "code",
   "execution_count": 59,
   "metadata": {},
   "outputs": [
    {
     "data": {
      "text/html": [
       "<div>\n",
       "<style>\n",
       "    .dataframe tbody tr th:only-of-type {\n",
       "        vertical-align: middle;\n",
       "    }\n",
       "\n",
       "    .dataframe tbody tr th {\n",
       "        vertical-align: top;\n",
       "    }\n",
       "\n",
       "    .dataframe thead th {\n",
       "        text-align: right;\n",
       "    }\n",
       "</style>\n",
       "<table class=\"dataframe\">\n",
       "  <thead>\n",
       "    <tr style=\"text-align: right;\">\n",
       "      <th></th>\n",
       "      <th>domain</th>\n",
       "      <th>domain_type</th>\n",
       "    </tr>\n",
       "  </thead>\n",
       "  <tbody>\n",
       "    <tr>\n",
       "      <th>326344</th>\n",
       "      <td>acroofers.com</td>\n",
       "      <td>benign</td>\n",
       "    </tr>\n",
       "    <tr>\n",
       "      <th>139390</th>\n",
       "      <td>lob8yq0z.ac.id</td>\n",
       "      <td>dga</td>\n",
       "    </tr>\n",
       "    <tr>\n",
       "      <th>89047</th>\n",
       "      <td>cndzys.com</td>\n",
       "      <td>benign</td>\n",
       "    </tr>\n",
       "    <tr>\n",
       "      <th>915818</th>\n",
       "      <td>telcopl.com</td>\n",
       "      <td>benign</td>\n",
       "    </tr>\n",
       "    <tr>\n",
       "      <th>945005</th>\n",
       "      <td>www.tdsiu-xeckcwrvs.social</td>\n",
       "      <td>dga</td>\n",
       "    </tr>\n",
       "    <tr>\n",
       "      <th>862438</th>\n",
       "      <td>www.918xfp1x3pfnys.green</td>\n",
       "      <td>dga</td>\n",
       "    </tr>\n",
       "    <tr>\n",
       "      <th>216065</th>\n",
       "      <td>www.rmoxvnk.co.ug</td>\n",
       "      <td>dga</td>\n",
       "    </tr>\n",
       "    <tr>\n",
       "      <th>877452</th>\n",
       "      <td>pcdyj.org.gh</td>\n",
       "      <td>dga</td>\n",
       "    </tr>\n",
       "    <tr>\n",
       "      <th>182503</th>\n",
       "      <td>eopdroeld.bw</td>\n",
       "      <td>dga</td>\n",
       "    </tr>\n",
       "    <tr>\n",
       "      <th>262090</th>\n",
       "      <td>molodeg33.ru</td>\n",
       "      <td>benign</td>\n",
       "    </tr>\n",
       "    <tr>\n",
       "      <th>464990</th>\n",
       "      <td>jawa-motor.ru</td>\n",
       "      <td>benign</td>\n",
       "    </tr>\n",
       "    <tr>\n",
       "      <th>1091364</th>\n",
       "      <td>esp9xlq2qt.com.gh</td>\n",
       "      <td>dga</td>\n",
       "    </tr>\n",
       "    <tr>\n",
       "      <th>370477</th>\n",
       "      <td>gofilms4u.co.in</td>\n",
       "      <td>benign</td>\n",
       "    </tr>\n",
       "    <tr>\n",
       "      <th>729519</th>\n",
       "      <td>www.besodden8ku8u8k.ru</td>\n",
       "      <td>dga</td>\n",
       "    </tr>\n",
       "    <tr>\n",
       "      <th>222993</th>\n",
       "      <td>soltanimelk.com</td>\n",
       "      <td>benign</td>\n",
       "    </tr>\n",
       "  </tbody>\n",
       "</table>\n",
       "</div>"
      ],
      "text/plain": [
       "                             domain domain_type\n",
       "326344                acroofers.com      benign\n",
       "139390               lob8yq0z.ac.id         dga\n",
       "89047                    cndzys.com      benign\n",
       "915818                  telcopl.com      benign\n",
       "945005   www.tdsiu-xeckcwrvs.social         dga\n",
       "862438     www.918xfp1x3pfnys.green         dga\n",
       "216065            www.rmoxvnk.co.ug         dga\n",
       "877452                 pcdyj.org.gh         dga\n",
       "182503                 eopdroeld.bw         dga\n",
       "262090                 molodeg33.ru      benign\n",
       "464990                jawa-motor.ru      benign\n",
       "1091364           esp9xlq2qt.com.gh         dga\n",
       "370477              gofilms4u.co.in      benign\n",
       "729519       www.besodden8ku8u8k.ru         dga\n",
       "222993              soltanimelk.com      benign"
      ]
     },
     "execution_count": 59,
     "metadata": {},
     "output_type": "execute_result"
    }
   ],
   "source": [
    "read_domains = pd.read_csv(\"allDomains.csv\")\n",
    "read_domains.sample(15)"
   ]
  },
  {
   "cell_type": "code",
   "execution_count": 60,
   "metadata": {},
   "outputs": [
    {
     "data": {
      "text/plain": [
       "benign    637526\n",
       "dga       633080\n",
       "Name: domain_type, dtype: int64"
      ]
     },
     "execution_count": 60,
     "metadata": {},
     "output_type": "execute_result"
    }
   ],
   "source": [
    "read_domains['domain_type'].value_counts()"
   ]
  },
  {
   "cell_type": "code",
   "execution_count": 61,
   "metadata": {},
   "outputs": [
    {
     "data": {
      "text/plain": [
       "0.49825044112809164"
      ]
     },
     "execution_count": 61,
     "metadata": {},
     "output_type": "execute_result"
    }
   ],
   "source": [
    "633080/(637526+633080)"
   ]
  },
  {
   "cell_type": "code",
   "execution_count": null,
   "metadata": {},
   "outputs": [],
   "source": []
  }
 ],
 "metadata": {
  "kernelspec": {
   "display_name": "Python 3.6",
   "language": "python",
   "name": "python36"
  },
  "language_info": {
   "codemirror_mode": {
    "name": "ipython",
    "version": 3
   },
   "file_extension": ".py",
   "mimetype": "text/x-python",
   "name": "python",
   "nbconvert_exporter": "python",
   "pygments_lexer": "ipython3",
   "version": "3.6.6"
  }
 },
 "nbformat": 4,
 "nbformat_minor": 2
}
