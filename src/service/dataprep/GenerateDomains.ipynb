{
 "cells": [
  {
   "cell_type": "markdown",
   "metadata": {},
   "source": [
    "# Data Preparation\n",
    "## Student Names: Aftab Alam, Harpreet Singh, Srijani Basak, Srinivas Murri, Vineeta Singla\n",
    "## Course: IMT 575\n",
    "## Assignemnt Title: Initial Training Dataset (group)"
   ]
  },
  {
   "cell_type": "code",
   "execution_count": 2,
   "metadata": {},
   "outputs": [
    {
     "name": "stdout",
     "output_type": "stream",
     "text": [
      "Collecting google\n",
      "\u001b[?25l  Downloading https://files.pythonhosted.org/packages/81/51/36af1d18648574d13d8f43e863e95a97fe6f43d54a13fbcf272c638c10e9/google-2.0.3-py2.py3-none-any.whl (45kB)\n",
      "\u001b[K     |████████████████████████████████| 51kB 368kB/s eta 0:00:011\n",
      "\u001b[?25hRequirement already satisfied: beautifulsoup4 in /home/nbuser/anaconda3_501/lib/python3.6/site-packages (from google) (4.6.3)\n",
      "Installing collected packages: google\n",
      "Successfully installed google-2.0.3\n",
      "\u001b[33mWARNING: You are using pip version 19.3.1; however, version 20.0.2 is available.\n",
      "You should consider upgrading via the 'pip install --upgrade pip' command.\u001b[0m\n"
     ]
    }
   ],
   "source": [
    "import pandas as pd\n",
    "import numpy as np\n",
    "import sklearn\n",
    "import random\n",
    "from random import choices\n",
    "!pip install google\n"
   ]
  },
  {
   "cell_type": "markdown",
   "metadata": {},
   "source": [
    "### Collect Benign Domains from Google Search using Google API"
   ]
  },
  {
   "cell_type": "code",
   "execution_count": 3,
   "metadata": {},
   "outputs": [],
   "source": [
    "try: \n",
    "    from googlesearch import search \n",
    "except ImportError:  \n",
    "    print(\"No module named 'google' found\") \n",
    "  \n",
    "# Set to collect all domains\n",
    "benignDomainSet = set([\"google.com\"]) \n",
    "\n",
    "# Different Search Queries to collect the domains\n",
    "queries = [\"India\",\"today\",\"light\",\"star\",\"measure\",\"alcohol\",\"positive\",\"summer\",\"startup\",\"investment\",\"electric\",\"tutorial\",\"coronavirus\",\"university\",\"baby\",\"news\",\"fashion\",\"nba\",\"cricket\",\"soccer\",\"flower\"]\n",
    " \n",
    "for searchQuery in queries:\n",
    "    # For each query, perform google search in a span of 20min and add to the set\n",
    "    for searchDomain in search(searchQuery, tld=\"co.in\", num=10, stop=500, pause=20): \n",
    "        benignDomainSet.add(searchDomain.split('/')[2])\n",
    "        \n",
    "        \n",
    "# Label these domains as 'benign' and convert into a dataframe        \n",
    "benignDF = pd.DataFrame({'domain': domain, 'domain_type':'benign'} for domain in benignDomainSet)"
   ]
  },
  {
   "cell_type": "markdown",
   "metadata": {},
   "source": [
    "### Function definition for DGA "
   ]
  },
  {
   "cell_type": "code",
   "execution_count": 5,
   "metadata": {},
   "outputs": [],
   "source": [
    "def generate_random_domain(seed):\n",
    "    domain = \"\"\n",
    "    tlds = ['.com', '.edu', '.biz', '.org', '.in','.int','.net','..gov','.mil']\n",
    "    allChars = 'abcdefghijklmnopqrstuvwxyz0123456789' \n",
    "    onlyAlphabets = 'abcdefghijklmnopqrstuvwxyz'\n",
    "    n = seed + random.randint(5, 12) \n",
    "    if(n/2 == 0):\n",
    "        domain = domain.join(random.choices(chrs, k=n))\n",
    "    else:\n",
    "        domain = domain.join(random.choices(onlyAlphabets, k=n))\n",
    "    domain = domain + (choices(tlds, k=1)[0])\n",
    "    return domain"
   ]
  },
  {
   "cell_type": "markdown",
   "metadata": {},
   "source": [
    "### Collect DGA Domains by calling function generate_random_domain() "
   ]
  },
  {
   "cell_type": "code",
   "execution_count": 46,
   "metadata": {},
   "outputs": [],
   "source": [
    "dgaDomainSet = set([]) \n",
    "\n",
    "for i in range(0,5000,1):\n",
    "    dgaDomainSet.add(generate_random_domain(random.randint(0, 9)))\n",
    "\n",
    "# Label the generated domains as 'dga' and convert into a dataframe        \n",
    "dgaDF = pd.DataFrame({'domain': domain, 'domain_type':'dga'} for domain in dgaDomainSet)"
   ]
  },
  {
   "cell_type": "markdown",
   "metadata": {},
   "source": [
    "### Merge the Benign and DGA domains and write to a csv"
   ]
  },
  {
   "cell_type": "code",
   "execution_count": null,
   "metadata": {},
   "outputs": [],
   "source": [
    "#Merge the benign and dga dataframmes\n",
    "allDomains  = benignDF.append(dgaDF)\n",
    "\n",
    "#Shuffle the combined dataframe\n",
    "allDomains = sklearn.utils.shuffle(allDomains)\n",
    "\n",
    "#Write the results to a csv\n",
    "allDomains.to_csv('allDomains.csv',index=False,header=True)"
   ]
  },
  {
   "cell_type": "markdown",
   "metadata": {},
   "source": [
    "### Read the generated csv and print a sample subset"
   ]
  },
  {
   "cell_type": "code",
   "execution_count": 14,
   "metadata": {},
   "outputs": [
    {
     "data": {
      "text/html": [
       "<div>\n",
       "<style>\n",
       "    .dataframe tbody tr th:only-of-type {\n",
       "        vertical-align: middle;\n",
       "    }\n",
       "\n",
       "    .dataframe tbody tr th {\n",
       "        vertical-align: top;\n",
       "    }\n",
       "\n",
       "    .dataframe thead th {\n",
       "        text-align: right;\n",
       "    }\n",
       "</style>\n",
       "<table class=\"dataframe\">\n",
       "  <thead>\n",
       "    <tr style=\"text-align: right;\">\n",
       "      <th></th>\n",
       "      <th>domain</th>\n",
       "      <th>domain_type</th>\n",
       "    </tr>\n",
       "  </thead>\n",
       "  <tbody>\n",
       "    <tr>\n",
       "      <th>5807</th>\n",
       "      <td>zyfcussdncb.net</td>\n",
       "      <td>dga</td>\n",
       "    </tr>\n",
       "    <tr>\n",
       "      <th>6799</th>\n",
       "      <td>iypwvtixcltljj.com</td>\n",
       "      <td>dga</td>\n",
       "    </tr>\n",
       "    <tr>\n",
       "      <th>1833</th>\n",
       "      <td>www.navy.mil</td>\n",
       "      <td>benign</td>\n",
       "    </tr>\n",
       "    <tr>\n",
       "      <th>10102</th>\n",
       "      <td>www.greeleytribune.com</td>\n",
       "      <td>benign</td>\n",
       "    </tr>\n",
       "    <tr>\n",
       "      <th>2858</th>\n",
       "      <td>www.eyeonprivacy.com</td>\n",
       "      <td>benign</td>\n",
       "    </tr>\n",
       "    <tr>\n",
       "      <th>6095</th>\n",
       "      <td>www.state.gov</td>\n",
       "      <td>benign</td>\n",
       "    </tr>\n",
       "    <tr>\n",
       "      <th>7270</th>\n",
       "      <td>www.ship.edu</td>\n",
       "      <td>benign</td>\n",
       "    </tr>\n",
       "    <tr>\n",
       "      <th>11217</th>\n",
       "      <td>www.concreteminerals.com</td>\n",
       "      <td>benign</td>\n",
       "    </tr>\n",
       "    <tr>\n",
       "      <th>2751</th>\n",
       "      <td>apps.bea.gov</td>\n",
       "      <td>benign</td>\n",
       "    </tr>\n",
       "    <tr>\n",
       "      <th>7325</th>\n",
       "      <td>aqpuiwkwfogzcbei.com</td>\n",
       "      <td>dga</td>\n",
       "    </tr>\n",
       "    <tr>\n",
       "      <th>11122</th>\n",
       "      <td>damndelicious.net</td>\n",
       "      <td>benign</td>\n",
       "    </tr>\n",
       "    <tr>\n",
       "      <th>8357</th>\n",
       "      <td>www.goodmorningamerica.com</td>\n",
       "      <td>benign</td>\n",
       "    </tr>\n",
       "    <tr>\n",
       "      <th>1783</th>\n",
       "      <td>ujqsmvjjef.org</td>\n",
       "      <td>dga</td>\n",
       "    </tr>\n",
       "    <tr>\n",
       "      <th>9609</th>\n",
       "      <td>ycdykbkycnku.net</td>\n",
       "      <td>dga</td>\n",
       "    </tr>\n",
       "    <tr>\n",
       "      <th>706</th>\n",
       "      <td>opgujwdlutwsfufpey.edu</td>\n",
       "      <td>dga</td>\n",
       "    </tr>\n",
       "  </tbody>\n",
       "</table>\n",
       "</div>"
      ],
      "text/plain": [
       "                           domain domain_type\n",
       "5807              zyfcussdncb.net         dga\n",
       "6799           iypwvtixcltljj.com         dga\n",
       "1833                 www.navy.mil      benign\n",
       "10102      www.greeleytribune.com      benign\n",
       "2858         www.eyeonprivacy.com      benign\n",
       "6095                www.state.gov      benign\n",
       "7270                 www.ship.edu      benign\n",
       "11217    www.concreteminerals.com      benign\n",
       "2751                 apps.bea.gov      benign\n",
       "7325         aqpuiwkwfogzcbei.com         dga\n",
       "11122           damndelicious.net      benign\n",
       "8357   www.goodmorningamerica.com      benign\n",
       "1783               ujqsmvjjef.org         dga\n",
       "9609             ycdykbkycnku.net         dga\n",
       "706        opgujwdlutwsfufpey.edu         dga"
      ]
     },
     "execution_count": 14,
     "metadata": {},
     "output_type": "execute_result"
    }
   ],
   "source": [
    "read_domains = pd.read_csv(\"allDomains.csv\")\n",
    "read_domains.sample(15)"
   ]
  },
  {
   "cell_type": "code",
   "execution_count": null,
   "metadata": {},
   "outputs": [],
   "source": []
  }
 ],
 "metadata": {
  "kernelspec": {
   "display_name": "Python 3.6",
   "language": "python",
   "name": "python36"
  },
  "language_info": {
   "codemirror_mode": {
    "name": "ipython",
    "version": 3
   },
   "file_extension": ".py",
   "mimetype": "text/x-python",
   "name": "python",
   "nbconvert_exporter": "python",
   "pygments_lexer": "ipython3",
   "version": "3.6.6"
  }
 },
 "nbformat": 4,
 "nbformat_minor": 2
}
