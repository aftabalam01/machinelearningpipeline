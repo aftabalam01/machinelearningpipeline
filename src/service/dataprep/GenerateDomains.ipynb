{
  "cells": [
    {
      "metadata": {
        "trusted": true
      },
      "cell_type": "code",
      "source": "import pandas as pd\nimport numpy as np\n!pip install google\n",
      "execution_count": 2,
      "outputs": [
        {
          "output_type": "stream",
          "text": "Collecting google\n\u001b[?25l  Downloading https://files.pythonhosted.org/packages/81/51/36af1d18648574d13d8f43e863e95a97fe6f43d54a13fbcf272c638c10e9/google-2.0.3-py2.py3-none-any.whl (45kB)\n\u001b[K     |████████████████████████████████| 51kB 368kB/s eta 0:00:011\n\u001b[?25hRequirement already satisfied: beautifulsoup4 in /home/nbuser/anaconda3_501/lib/python3.6/site-packages (from google) (4.6.3)\nInstalling collected packages: google\nSuccessfully installed google-2.0.3\n\u001b[33mWARNING: You are using pip version 19.3.1; however, version 20.0.2 is available.\nYou should consider upgrading via the 'pip install --upgrade pip' command.\u001b[0m\n",
          "name": "stdout"
        }
      ]
    },
    {
      "metadata": {
        "trusted": true
      },
      "cell_type": "code",
      "source": "try: \n    from googlesearch import search \nexcept ImportError:  \n    print(\"No module named 'google' found\") \n  \n# to search \nbenignDomainSet = set([\"google.com\"]) \n\nqueries = [\"India\",\"today\",\"light\",\"star\",\"measure\",\"alcohol\",\"positive\",\"summer\",\"startup\",\"investment\",\"electric\",\"tutorial\",\"coronavirus\",\"university\",\"baby\",\"news\",\"fashion\",\"nba\",\"cricket\",\"soccer\",\"flower\"]\n \nfor searchQuery in queries:\n    for searchDomain in search(searchQuery, tld=\"co.in\", num=10, stop=500, pause=20): \n        benignDomainSet.add(searchDomain.split('/')[2])\n        \ndf1 = pd.DataFrame({'domain': domain, 'isDGA':'false'} for domain in benignDomainSet)\ndf1.to_csv('benignDomain3.csv',index=False,header=True)",
      "execution_count": 3,
      "outputs": []
    },
    {
      "metadata": {
        "trusted": true
      },
      "cell_type": "code",
      "source": "import random\nfrom random import choices\n\ndef generate_random_domain(seed):\n    domain = \"\"\n    tlds = ['.com', '.edu', '.biz', '.org', '.in','.int','.net','..gov','.mil']\n    allChars = 'abcdefghijklmnopqrstuvwxyz0123456789' \n    onlyAlphabets = 'abcdefghijklmnopqrstuvwxyz'\n    n = seed + random.randint(5, 12) \n    if(n/2 == 0):\n        domain = domain.join(random.choices(chrs, k=n))\n    else:\n        domain = domain.join(random.choices(onlyAlphabets, k=n))\n    domain = domain + (choices(tlds, k=1)[0])\n    return domain",
      "execution_count": 5,
      "outputs": []
    },
    {
      "metadata": {
        "trusted": true
      },
      "cell_type": "code",
      "source": "dgaDomainSet = set([]) \n\nfor i in range(0,5000,1):\n    dgaDomainSet.add(generate_random_domain(random.randint(0, 9)))\n    \ndf2 = pd.DataFrame({'domain': domain, 'isDGA':'true'} for domain in dgaDomainSet)\ndf2.to_csv('dgaDomain3.csv',index=False,header=True)",
      "execution_count": 46,
      "outputs": []
    },
    {
      "metadata": {
        "trusted": true
      },
      "cell_type": "code",
      "source": "allDomains  = df1.append(df2)\nallDomains.to_csv('allDomains.csv',index=False,header=True)",
      "execution_count": 40,
      "outputs": [
        {
          "output_type": "stream",
          "text": "10325\n",
          "name": "stdout"
        }
      ]
    },
    {
      "metadata": {
        "trusted": true
      },
      "cell_type": "code",
      "source": "",
      "execution_count": null,
      "outputs": []
    }
  ],
  "metadata": {
    "kernelspec": {
      "name": "python36",
      "display_name": "Python 3.6",
      "language": "python"
    },
    "language_info": {
      "mimetype": "text/x-python",
      "nbconvert_exporter": "python",
      "name": "python",
      "pygments_lexer": "ipython3",
      "version": "3.6.6",
      "file_extension": ".py",
      "codemirror_mode": {
        "version": 3,
        "name": "ipython"
      }
    }
  },
  "nbformat": 4,
  "nbformat_minor": 2
}